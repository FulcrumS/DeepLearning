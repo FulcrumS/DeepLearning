{
 "cells": [
  {
   "cell_type": "markdown",
   "metadata": {},
   "source": [
    " RNN 的一大优势就在于捕捉网络之间的长期依赖性，网络之间的记忆性使得我们能够能用其来处理序列建模问题，但梯度消失使得 RNN 各层网络之间的依赖性变弱，RNN 的优势就难以发挥出来。针对这种问题，笔者继续向大家介绍两种变体的 RNN 结构，它们能够很好的处理梯度消失的情况，使得网络之间的记忆性得到保证。这两种 RNN 结构就是门控循环单元 GRU 和长短期记忆单元 LSTM。"
   ]
  },
  {
   "cell_type": "markdown",
   "metadata": {},
   "source": [
    "经典的 RNN 结构如下图所示：\n",
    "![在这里插入图片描述](https://img-blog.csdnimg.cn/20200617123049661.png)"
   ]
  },
  {
   "cell_type": "markdown",
   "metadata": {
    "ExecuteTime": {
     "end_time": "2020-06-17T04:28:44.890682Z",
     "start_time": "2020-06-17T04:28:44.886680Z"
    }
   },
   "source": [
    " 完整版的 GRU (门控循环单元GRU)示意图如下：\n",
    " ![在这里插入图片描述](https://img-blog.csdnimg.cn/20200617122527743.png)\n",
    " $当门值z_t结果为 1 的时候，(1-z_t)=0 ，细胞记忆值用 h_t 候选值进行更新，\\\\ 当门值z_t结果为 0 的时候，\n",
    " 公式的后半部分为 0 ，细胞记忆值仍延用上一个时间步的值h_{t-1}，表示不更新记忆值。$"
   ]
  },
  {
   "cell_type": "markdown",
   "metadata": {},
   "source": [
    "在 GRU 中我们通过更新门来决定是否要用记忆细胞候选值 ct_hat 来更新 ct。那么 LSTM 相较于 GRU 的变化在哪呢？LSTM 相较于 GRU 最大的特点就是更加复杂了，复杂到一个 LSTM 单元中有三个门控，但是复杂的结果就是相比于 GRU 有着更好的记忆性能。\\\n",
    "LSTM结构:\n",
    "![请添加图片描述](https://img-blog.csdnimg.cn/20200617115836753.png)\n",
    "![请添加图片描述](https://img-blog.csdnimg.cn/20200617115836749.png)\n",
    "$接受来自输入 x^t 和上一层隐状态 a^{t-1} 的值进行加权计算处理。$\n",
    "> **遗忘门(forget gate)**: 决定从记忆细胞中是否丢弃某些信息，这个过程就是遗忘门要干的事，我们通过一个 sigmoid 函数来进行处理。\\\n",
    "> **更新门（update gate）**:我们需要确定什么样的信息能存入细胞状态中。这跟我们在 GRU 中类似，除了计算更新门之外，还需要通过 tanh 计算记忆细胞的候选值 ct_hat。\\\n",
    "> **LSTM 结合遗忘门、更新门、上一层记忆细胞值和记忆细胞候选值来共同决定和更新当前细胞状态**：\n",
    "![在这里插入图片描述](https://img-blog.csdnimg.cn/20200617121711982.png)\n",
    "> **输出门（output gate）**:LSTM 提供了单独的输出门\n",
    "![在这里插入图片描述](https://img-blog.csdnimg.cn/20200617121803254.png)"
   ]
  },
  {
   "cell_type": "markdown",
   "metadata": {},
   "source": [
    "### numpy实现LSTM"
   ]
  },
  {
   "cell_type": "code",
   "execution_count": 124,
   "metadata": {
    "ExecuteTime": {
     "end_time": "2020-06-17T14:51:25.906373Z",
     "start_time": "2020-06-17T14:51:25.891160Z"
    }
   },
   "outputs": [],
   "source": [
    "import numpy as np \n",
    "def sigmoid(x):\n",
    "    return 1/(1+np.exp(-x))\n",
    "def softmax(x):\n",
    "    x-=np.max(x)\n",
    "    x=np.exp(x)\n",
    "    return x/np.sum(x,axis=0)"
   ]
  },
  {
   "cell_type": "markdown",
   "metadata": {},
   "source": [
    "#### 一个 LSTM 单元"
   ]
  },
  {
   "cell_type": "code",
   "execution_count": 125,
   "metadata": {
    "ExecuteTime": {
     "end_time": "2020-06-17T14:51:25.922376Z",
     "start_time": "2020-06-17T14:51:25.906373Z"
    }
   },
   "outputs": [],
   "source": [
    "\n",
    "def lstm_cell_forward(c_prev,a_prev,xt,params):\n",
    "    '''\n",
    "    m,n=xt.shape \n",
    "    m：特征值、n：样本数\n",
    "    '''\n",
    "    w_f,b_f=params['w_f'],params['b_f']\n",
    "    w_u,b_u=params['w_u'],params['b_u']\n",
    "    w_c,b_c=params['w_c'],params['b_c']\n",
    "    w_o,b_o=params['w_o'],params['b_o']\n",
    "    w_y,b_y=params['w_y'],params['b_y']\n",
    "#     拼接 a_prev 和 xt\n",
    "    x_n,m=xt.shape \n",
    "    a_n,m=a_prev.shape \n",
    "    concat=np.zeros((a_n+x_n,m)) \n",
    "    concat[:a_n,:]=a_prev\n",
    "    concat[a_n:,:]=xt\n",
    "#     遗忘门 \n",
    "    Ff=sigmoid(np.matmul(w_f,concat)+b_f)\n",
    "#     更新门\n",
    "    Fi=sigmoid(np.matmul(w_u,concat)+b_u)\n",
    "#     记忆细胞候选值\n",
    "    c_hat=np.tanh(np.matmul(w_c,concat)+b_c)\n",
    "#     下一时间步的记忆细胞\n",
    "    c_next=c_prev*Ff+Fi*c_hat\n",
    "#     输出门\n",
    "    Fo=sigmoid(np.matmul(w_o,concat)+b_o)\n",
    "#     下一时间步的隐状态值\n",
    "    a_next=Fo*np.tanh(c_next)\n",
    "#     计算 LSTM 的预测输出\n",
    "#     m,n=y_pred.shape,m:标签个数，n:样本数 \n",
    "    y_pred=softmax(np.matmul(w_y,a_next)+b_y)\n",
    "#     保存各计算结果值\n",
    "    cache=(c_next,a_next,c_prev,a_prev,Ff,Fi,c_hat,Fo,xt,params)\n",
    "    return c_next,a_next,y_pred,cache"
   ]
  },
  {
   "cell_type": "code",
   "execution_count": 126,
   "metadata": {
    "ExecuteTime": {
     "end_time": "2020-06-17T14:51:25.958385Z",
     "start_time": "2020-06-17T14:51:25.926394Z"
    }
   },
   "outputs": [
    {
     "data": {
      "text/plain": [
       "(array([[1.02913934, 1.72846046, 1.19389301, 1.37630555, 1.53709613,\n",
       "         0.89923867, 1.09145686, 1.20638304, 1.43006589, 1.38014197],\n",
       "        [0.85972538, 1.70272947, 0.97653748, 1.68765164, 1.08916122,\n",
       "         1.60827573, 1.5824554 , 1.30513656, 0.5920298 , 0.89510517],\n",
       "        [0.87727892, 0.93509925, 0.54374448, 1.05106012, 1.10317595,\n",
       "         1.1461165 , 0.81552169, 0.76026589, 1.44631139, 1.26421546]]),\n",
       " array([[0.70770149, 0.90370365, 0.7172371 , 0.82647886, 0.83689115,\n",
       "         0.66066082, 0.71391469, 0.71415729, 0.76811614, 0.82887294],\n",
       "        [0.58315002, 0.87209346, 0.64323756, 0.85442127, 0.67187902,\n",
       "         0.78440133, 0.82200487, 0.76996158, 0.42146091, 0.64444647],\n",
       "        [0.54261089, 0.63795666, 0.33526888, 0.63681968, 0.58949189,\n",
       "         0.62228431, 0.50628232, 0.47219873, 0.66494693, 0.6918126 ]]),\n",
       " {'w_f': array([[0.10233443, 0.41405599, 0.69440016, 0.41417927, 0.04995346,\n",
       "          0.53589641],\n",
       "         [0.66379465, 0.51488911, 0.94459476, 0.58655504, 0.90340192,\n",
       "          0.1374747 ],\n",
       "         [0.13927635, 0.80739129, 0.39767684, 0.1653542 , 0.92750858,\n",
       "          0.34776586]]),\n",
       "  'b_f': array([[0.7508121 ],\n",
       "         [0.72599799],\n",
       "         [0.88330609]]),\n",
       "  'w_u': array([[0.62367221, 0.75094243, 0.34889834, 0.26992789, 0.89588622,\n",
       "          0.42809119],\n",
       "         [0.96484005, 0.6634415 , 0.62169572, 0.11474597, 0.94948926,\n",
       "          0.44991213],\n",
       "         [0.57838961, 0.4081368 , 0.23702698, 0.90337952, 0.57367949,\n",
       "          0.00287033]]),\n",
       "  'b_u': array([[0.61714491],\n",
       "         [0.3266449 ],\n",
       "         [0.5270581 ]]),\n",
       "  'w_c': array([[0.8859421 , 0.35726976, 0.90853515, 0.62336012, 0.01582124,\n",
       "          0.92943723],\n",
       "         [0.69089692, 0.99732285, 0.17234051, 0.13713575, 0.93259546,\n",
       "          0.69681816],\n",
       "         [0.06600017, 0.75546305, 0.75387619, 0.92302454, 0.71152476,\n",
       "          0.12427096]]),\n",
       "  'b_c': array([[0.01988013],\n",
       "         [0.02621099],\n",
       "         [0.02830649]]),\n",
       "  'w_o': array([[0.20329323, 0.25232574, 0.74382585, 0.19542948, 0.58135893,\n",
       "          0.97001999],\n",
       "         [0.8468288 , 0.23984776, 0.49376971, 0.61995572, 0.8289809 ,\n",
       "          0.15679139],\n",
       "         [0.0185762 , 0.07002214, 0.48634511, 0.60632946, 0.56885144,\n",
       "          0.31736241]]),\n",
       "  'b_o': array([[0.98861615],\n",
       "         [0.57974522],\n",
       "         [0.38014117]]),\n",
       "  'w_y': array([[0.55094822, 0.74533443, 0.66923289],\n",
       "         [0.26491956, 0.06633483, 0.3700842 ]]),\n",
       "  'b_y': array([[0.62971751],\n",
       "         [0.21017401]])},\n",
       " (array([[1.02913934, 1.72846046, 1.19389301, 1.37630555, 1.53709613,\n",
       "          0.89923867, 1.09145686, 1.20638304, 1.43006589, 1.38014197],\n",
       "         [0.85972538, 1.70272947, 0.97653748, 1.68765164, 1.08916122,\n",
       "          1.60827573, 1.5824554 , 1.30513656, 0.5920298 , 0.89510517],\n",
       "         [0.87727892, 0.93509925, 0.54374448, 1.05106012, 1.10317595,\n",
       "          1.1461165 , 0.81552169, 0.76026589, 1.44631139, 1.26421546]]),\n",
       "  array([[0.70770149, 0.90370365, 0.7172371 , 0.82647886, 0.83689115,\n",
       "          0.66066082, 0.71391469, 0.71415729, 0.76811614, 0.82887294],\n",
       "         [0.58315002, 0.87209346, 0.64323756, 0.85442127, 0.67187902,\n",
       "          0.78440133, 0.82200487, 0.76996158, 0.42146091, 0.64444647],\n",
       "         [0.54261089, 0.63795666, 0.33526888, 0.63681968, 0.58949189,\n",
       "          0.62228431, 0.50628232, 0.47219873, 0.66494693, 0.6918126 ]]),\n",
       "  array([[0.24621107, 0.86002795, 0.53883106, 0.55282198, 0.84203089,\n",
       "          0.12417332, 0.27918368, 0.58575927, 0.96959575, 0.56103022],\n",
       "         [0.01864729, 0.80063267, 0.23297427, 0.8071052 , 0.38786064,\n",
       "          0.86354185, 0.74712164, 0.55624023, 0.13645523, 0.05991769],\n",
       "         [0.12134346, 0.04455188, 0.10749413, 0.22570934, 0.71298898,\n",
       "          0.55971698, 0.01255598, 0.07197428, 0.96727633, 0.56810046]]),\n",
       "  array([[0.09834683, 0.42110763, 0.95788953, 0.53316528, 0.69187711,\n",
       "          0.31551563, 0.68650093, 0.83462567, 0.01828828, 0.75014431],\n",
       "         [0.98886109, 0.74816565, 0.28044399, 0.78927933, 0.10322601,\n",
       "          0.44789353, 0.9085955 , 0.29361415, 0.28777534, 0.13002857],\n",
       "         [0.01936696, 0.67883553, 0.21162812, 0.26554666, 0.49157316,\n",
       "          0.05336255, 0.57411761, 0.14672857, 0.58930554, 0.69975836]]),\n",
       "  array([[0.85894401, 0.91882828, 0.78416998, 0.86490867, 0.8503705 ,\n",
       "          0.82588817, 0.85062448, 0.77758466, 0.82395986, 0.88805093],\n",
       "         [0.8861614 , 0.96108278, 0.87369126, 0.94283449, 0.8736974 ,\n",
       "          0.88072421, 0.93642001, 0.90742373, 0.86126829, 0.92874779],\n",
       "         [0.91977822, 0.94820907, 0.83561455, 0.94297995, 0.83382005,\n",
       "          0.90536775, 0.91592714, 0.86805538, 0.83305457, 0.87536697]]),\n",
       "  array([[0.90540041, 0.94790921, 0.86012865, 0.94265939, 0.85030554,\n",
       "          0.89820563, 0.91594224, 0.88286823, 0.79508169, 0.89336855],\n",
       "         [0.86941119, 0.94375955, 0.87030218, 0.93759852, 0.85880876,\n",
       "          0.88195603, 0.91717713, 0.88138739, 0.76075316, 0.90174154],\n",
       "         [0.83363796, 0.90749964, 0.79640994, 0.88073168, 0.77498604,\n",
       "          0.7982862 , 0.86282362, 0.85780821, 0.7745572 , 0.85604081]]),\n",
       "  array([[0.90308974, 0.98980203, 0.8967936 , 0.95279911, 0.96560337,\n",
       "          0.88697441, 0.93234742, 0.85052966, 0.79382776, 0.98718335],\n",
       "         [0.96985279, 0.98886966, 0.88818563, 0.98836016, 0.87363848,\n",
       "          0.96119703, 0.96255752, 0.9081035 , 0.62373088, 0.93092834],\n",
       "         [0.91846808, 0.98386238, 0.56995876, 0.95173225, 0.65636207,\n",
       "          0.80092427, 0.93184901, 0.81345482, 0.82694657, 0.8958908 ]]),\n",
       "  array([[0.91485962, 0.96254013, 0.8622894 , 0.93905109, 0.91801511,\n",
       "          0.92280478, 0.8952927 , 0.85467303, 0.86142568, 0.94085004],\n",
       "         [0.83771941, 0.9319733 , 0.85586635, 0.91494737, 0.84346323,\n",
       "          0.84992657, 0.89447088, 0.89215088, 0.79318307, 0.90270477],\n",
       "         [0.76960242, 0.87038105, 0.67619457, 0.81412029, 0.7353602 ,\n",
       "          0.76217043, 0.7526962 , 0.73639119, 0.74298976, 0.811775  ]]),\n",
       "  array([[4.17022005e-01, 7.20324493e-01, 1.14374817e-04, 3.02332573e-01,\n",
       "          1.46755891e-01, 9.23385948e-02, 1.86260211e-01, 3.45560727e-01,\n",
       "          3.96767474e-01, 5.38816734e-01],\n",
       "         [4.19194514e-01, 6.85219500e-01, 2.04452250e-01, 8.78117436e-01,\n",
       "          2.73875932e-02, 6.70467510e-01, 4.17304802e-01, 5.58689828e-01,\n",
       "          1.40386939e-01, 1.98101489e-01],\n",
       "         [8.00744569e-01, 9.68261576e-01, 3.13424178e-01, 6.92322616e-01,\n",
       "          8.76389152e-01, 8.94606664e-01, 8.50442114e-02, 3.90547832e-02,\n",
       "          1.69830420e-01, 8.78142503e-01]]),\n",
       "  {'w_f': array([[0.10233443, 0.41405599, 0.69440016, 0.41417927, 0.04995346,\n",
       "           0.53589641],\n",
       "          [0.66379465, 0.51488911, 0.94459476, 0.58655504, 0.90340192,\n",
       "           0.1374747 ],\n",
       "          [0.13927635, 0.80739129, 0.39767684, 0.1653542 , 0.92750858,\n",
       "           0.34776586]]),\n",
       "   'b_f': array([[0.7508121 ],\n",
       "          [0.72599799],\n",
       "          [0.88330609]]),\n",
       "   'w_u': array([[0.62367221, 0.75094243, 0.34889834, 0.26992789, 0.89588622,\n",
       "           0.42809119],\n",
       "          [0.96484005, 0.6634415 , 0.62169572, 0.11474597, 0.94948926,\n",
       "           0.44991213],\n",
       "          [0.57838961, 0.4081368 , 0.23702698, 0.90337952, 0.57367949,\n",
       "           0.00287033]]),\n",
       "   'b_u': array([[0.61714491],\n",
       "          [0.3266449 ],\n",
       "          [0.5270581 ]]),\n",
       "   'w_c': array([[0.8859421 , 0.35726976, 0.90853515, 0.62336012, 0.01582124,\n",
       "           0.92943723],\n",
       "          [0.69089692, 0.99732285, 0.17234051, 0.13713575, 0.93259546,\n",
       "           0.69681816],\n",
       "          [0.06600017, 0.75546305, 0.75387619, 0.92302454, 0.71152476,\n",
       "           0.12427096]]),\n",
       "   'b_c': array([[0.01988013],\n",
       "          [0.02621099],\n",
       "          [0.02830649]]),\n",
       "   'w_o': array([[0.20329323, 0.25232574, 0.74382585, 0.19542948, 0.58135893,\n",
       "           0.97001999],\n",
       "          [0.8468288 , 0.23984776, 0.49376971, 0.61995572, 0.8289809 ,\n",
       "           0.15679139],\n",
       "          [0.0185762 , 0.07002214, 0.48634511, 0.60632946, 0.56885144,\n",
       "           0.31736241]]),\n",
       "   'b_o': array([[0.98861615],\n",
       "          [0.57974522],\n",
       "          [0.38014117]]),\n",
       "   'w_y': array([[0.55094822, 0.74533443, 0.66923289],\n",
       "          [0.26491956, 0.06633483, 0.3700842 ]]),\n",
       "   'b_y': array([[0.62971751],\n",
       "          [0.21017401]])}))"
      ]
     },
     "execution_count": 126,
     "metadata": {},
     "output_type": "execute_result"
    }
   ],
   "source": [
    "def cell_impl():\n",
    "    np.random.seed(1)\n",
    "    from numpy.random import uniform as uniform\n",
    "    m=10\n",
    "    p_n=3\n",
    "    xt=uniform(size=(3,m))\n",
    "    a_prev=uniform(size=(p_n,m))\n",
    "    x_a_n=xt.shape[0]+a_prev.shape[0]\n",
    "\n",
    "    w_f,b_f=uniform(size=(p_n,x_a_n)),uniform(size=(p_n,1))\n",
    "    w_u,b_u=uniform(size=(p_n,x_a_n)),uniform(size=(p_n,1))\n",
    "    w_c,b_c=uniform(size=(p_n,x_a_n)),uniform(size=(p_n,1))\n",
    "    c_prev=uniform(size=(p_n,m))\n",
    "    w_o,b_o=uniform(size=(p_n,x_a_n)),uniform(size=(p_n,1))  \n",
    "    w_y,b_y=uniform(size=(2,p_n)),uniform(size=(2,1))\n",
    "    params={'w_f':w_f,'b_f':b_f,'w_u':w_u,'b_u':b_u,'w_c':w_c,'b_c':b_c,'w_o':w_o,'b_o':b_o,'w_y':w_y,'b_y':b_y}\n",
    "    c_next,a_next,y_pred,cache=lstm_cell_forward(c_prev,a_prev,xt,params)\n",
    "    y_pred=cache[-1]\n",
    "    return c_next,a_next,y_pred,cache \n",
    "cell_impl() "
   ]
  },
  {
   "cell_type": "markdown",
   "metadata": {},
   "source": [
    "####  基于 LSTM 单元我们可以对其进行组合继续定义一个 LSTM 前向传播："
   ]
  },
  {
   "cell_type": "code",
   "execution_count": 127,
   "metadata": {
    "ExecuteTime": {
     "end_time": "2020-06-17T14:51:25.974390Z",
     "start_time": "2020-06-17T14:51:25.958385Z"
    }
   },
   "outputs": [],
   "source": [
    "def lstm_forward(a_prev,xt,params):\n",
    "    m,n=xt.shape[1:]\n",
    "    caches=[]\n",
    "    n_y=params['w_y'].shape[0]\n",
    "    y=np.zeros((n_y,m,n)) \n",
    "    c_prev=np.zeros(a_prev.shape)\n",
    "    c,a=np.zeros((*c_prev.shape,n)),np.zeros((*a_prev.shape,n))\n",
    "#     循环所有时间步\n",
    "    for t in range(n):\n",
    "#         更新下一时间步隐状态值、记忆值并计算预测 \n",
    "        c_next,a_next,y_pred,cache=lstm_cell_forward(c_prev,a_prev,xt[...,t],params) \n",
    "        c_prev,a_prev=c_next,a_next \n",
    "#         在 c 中保存记忆值,在 a 中保存新的激活值 \n",
    "        c[...,t],a[...,t]=c_next,a_next \n",
    "#     在 y 中保存预测值\n",
    "        y[...,t]=y_pred\n",
    "        caches+=[cache]\n",
    "#         保存各计算值供反向传播调用\n",
    "    caches=(caches,xt)\n",
    "    return c,a,y,caches "
   ]
  },
  {
   "cell_type": "markdown",
   "metadata": {},
   "source": [
    " ####  LSTM 前向传播计算示例如下："
   ]
  },
  {
   "cell_type": "code",
   "execution_count": 128,
   "metadata": {
    "ExecuteTime": {
     "end_time": "2020-06-17T14:51:25.998408Z",
     "start_time": "2020-06-17T14:51:25.974390Z"
    }
   },
   "outputs": [
    {
     "data": {
      "text/plain": [
       "((3, 10, 7), (3, 10, 7))"
      ]
     },
     "execution_count": 128,
     "metadata": {},
     "output_type": "execute_result"
    }
   ],
   "source": [
    "np.random.seed(1)\n",
    "m=10\n",
    "n=7\n",
    "p_n=3 \n",
    "xt=uniform(size=(p_n,m,n)) \n",
    "a_prev=uniform(size=(p_n,m))\n",
    "x_a_n=xt.shape[0]+a_prev.shape[0]\n",
    "w_f,b_f=uniform(size=(p_n,x_a_n)),uniform(size=(p_n,1))\n",
    "w_u,b_u=uniform(size=(p_n,x_a_n)),uniform(size=(p_n,1))\n",
    "w_c,b_c=uniform(size=(p_n,x_a_n)),uniform(size=(p_n,1))\n",
    "w_o,b_o=uniform(size=(p_n,x_a_n)),uniform(size=(p_n,1))  \n",
    "w_y,b_y=uniform(size=(2,p_n)),uniform(size=(2,1))\n",
    "params={'w_f':w_f,'b_f':b_f,'w_u':w_u,'b_u':b_u,'w_c':w_c,'b_c':b_c,'w_o':w_o,'b_o':b_o,'w_y':w_y,'b_y':b_y}\n",
    "c,a,y,caches =lstm_forward(a_prev,xt,params)\n",
    "c.shape,a.shape"
   ]
  },
  {
   "cell_type": "markdown",
   "metadata": {},
   "source": [
    "#### 定义 LSTM 反向传播单元函数"
   ]
  },
  {
   "cell_type": "markdown",
   "metadata": {},
   "source": [
    "![请添加图片描述](https://img-blog.csdnimg.cn/20200617115836749.png)"
   ]
  },
  {
   "cell_type": "code",
   "execution_count": 129,
   "metadata": {
    "ExecuteTime": {
     "end_time": "2020-06-17T14:51:26.034405Z",
     "start_time": "2020-06-17T14:51:25.998408Z"
    }
   },
   "outputs": [
    {
     "data": {
      "text/plain": [
       "{'dc_prev': array([[1.10731156, 1.68288161, 1.08565664, 1.34167171, 1.41746597,\n",
       "         0.98810668, 1.12639741, 1.08129775, 1.29003066, 1.380675  ],\n",
       "        [0.98498387, 1.73361638, 1.06249612, 1.68546766, 1.13255375,\n",
       "         1.50349254, 1.58888409, 1.34336218, 0.71652478, 1.0962538 ],\n",
       "        [1.00006298, 1.13031944, 0.59722963, 1.18088222, 1.04902521,\n",
       "         1.18081477, 0.93808343, 0.83768383, 1.28677703, 1.24121272]]),\n",
       " 'da_prev': array([[1.09017073, 1.44152183, 1.18988921, 1.39791894, 1.40320944,\n",
       "         1.41011491, 1.30353057, 1.3603899 , 1.3742849 , 1.20845575],\n",
       "        [1.18789385, 1.59026014, 1.34353707, 1.59981324, 1.7840617 ,\n",
       "         1.69214668, 1.46033199, 1.52321068, 1.7473713 , 1.50342301],\n",
       "        [1.08750518, 1.39615873, 1.199671  , 1.36879883, 1.57464458,\n",
       "         1.40402067, 1.18232455, 1.35225953, 1.6299939 , 1.32220218]]),\n",
       " 'dxt': array([[0.99246598, 1.19580587, 1.00720166, 1.20507011, 1.39763339,\n",
       "         1.2685946 , 1.03122476, 1.1410669 , 1.49349615, 1.23272029],\n",
       "        [1.00869044, 1.30476732, 1.12725594, 1.36387966, 1.56920764,\n",
       "         1.5918701 , 1.28539849, 1.29407279, 1.49439591, 1.29789564],\n",
       "        [0.99770704, 1.40529586, 1.15316591, 1.32463128, 1.35226925,\n",
       "         1.2081945 , 1.18944184, 1.29340173, 1.3600369 , 1.1565341 ]]),\n",
       " 'dw_f': array([[0.5768211 , 0.42710444, 0.46083242, 0.35067053, 0.376033  ,\n",
       "         0.55215533],\n",
       "        [0.29491869, 0.28111471, 0.16426296, 0.13160384, 0.29089202,\n",
       "         0.32030973],\n",
       "        [0.20304144, 0.14183657, 0.25835031, 0.16728169, 0.11814804,\n",
       "         0.30189005]]),\n",
       " 'db_f': array([[1.07710306],\n",
       "        [0.53837455],\n",
       "        [0.5295522 ]]),\n",
       " 'dw_u': array([[0.68625555, 0.53469209, 0.51557   , 0.38835175, 0.4398859 ,\n",
       "         0.71063751],\n",
       "        [0.64995089, 0.59216414, 0.41214721, 0.34803944, 0.51301907,\n",
       "         0.69020465],\n",
       "        [0.61677275, 0.63344411, 0.51638972, 0.43017101, 0.52863647,\n",
       "         0.77897925]]),\n",
       " 'db_u': array([[1.28645784],\n",
       "        [1.20692929],\n",
       "        [1.32870238]]),\n",
       " 'dw_c': array([[3.25971799, 3.08019667, 2.39589053, 2.03529172, 2.62675678,\n",
       "         3.54984322],\n",
       "        [3.21150339, 3.03829548, 2.20995883, 1.84902135, 2.67669013,\n",
       "         3.39042369],\n",
       "        [2.65776955, 2.38101087, 1.99519209, 1.6243992 , 2.0633545 ,\n",
       "         3.04619729]]),\n",
       " 'db_c': array([[6.20899775],\n",
       "        [5.87950842],\n",
       "        [5.14939721]]),\n",
       " 'dw_o': array([[0.28796966, 0.23786415, 0.19579745, 0.15384093, 0.19725132,\n",
       "         0.25226363],\n",
       "        [0.32876736, 0.30704988, 0.20520667, 0.1696812 , 0.26778571,\n",
       "         0.35078319],\n",
       "        [0.3588556 , 0.34626386, 0.28998838, 0.23682841, 0.29557591,\n",
       "         0.43807257]]),\n",
       " 'db_o': array([[0.5267072 ],\n",
       "        [0.60403983],\n",
       "        [0.74231689]])}"
      ]
     },
     "execution_count": 129,
     "metadata": {},
     "output_type": "execute_result"
    }
   ],
   "source": [
    "def lstm_cell_backward(dc_next,da_next,cache):\n",
    "    c_next,a_next,c_prev,a_prev,Ff,Fi,c_hat,Fo,xt,params=cache\n",
    "    dFo=da_next*np.tanh(c_next)*Fo*(1-Fo) \n",
    "    dc_hat=dc_next*Fi*(1-np.tanh(c_hat)**2)+da_next*Fo*(1-np.tanh(c_next)**2)*Fi*(1-np.tanh(c_hat)**2)\n",
    "    dFi=dc_next*c_hat*Fi*(1-Fi)+da_next*Fo*(1-np.tanh(c_next)**2)*c_hat*Fi*(1-Fi)\n",
    "    dFf=dc_next*c_prev*Ff*(1-Ff)+da_next*Fo*(1-np.tanh(c_next)**2)*c_prev*Ff*(1-Ff)\n",
    "    a_n=a_prev.shape[0]\n",
    "    concat=np.concatenate([a_prev,xt])\n",
    "    dw_f,db_f=np.dot(dFf,concat.T),dFf.sum(axis=1,keepdims=True) \n",
    "    dw_u,db_u=np.dot(dFi,concat.T),dFi.sum(axis=1,keepdims=True) \n",
    "    dw_c,db_c=np.dot(dc_hat,concat.T),dc_hat.sum(axis=1,keepdims=True) \n",
    "    dw_o,db_o=np.dot(dFo,concat.T),dFo.sum(axis=1,keepdims=True) \n",
    "    dc_prev=dc_next*Ff+da_next*Fo*(1-np.tanh(c_next)**2)*Ff \n",
    "    dconcat=np.dot(params['w_f'].T,dFf)+np.dot(params['w_u'].T,dFi)+np.dot(params['w_c'].T,dc_hat)\n",
    "    +np.dot(params[\"w_o\"].T,dFo)\n",
    "    da_prev=dconcat[:a_n,...]\n",
    "    dxt=dconcat[a_n:,...]\n",
    "    grads={'dc_prev':dc_prev,'da_prev':da_prev,'dxt':dxt,'dw_f':dw_f,'db_f':db_f,'dw_u':dw_u,'db_u':db_u,\n",
    "          'dw_c':dw_c,'db_c':db_c,'dw_o':dw_o,'db_o':db_o}    \n",
    "    return grads\n",
    "c_next,a_next,y_pred,cache= cell_impl() \n",
    "lstm_cell_backward(c_next,a_next,cache)"
   ]
  },
  {
   "cell_type": "markdown",
   "metadata": {},
   "source": [
    "####  基于 LSTM 反向传播单元编写 LSTM 反向传播过程："
   ]
  },
  {
   "cell_type": "code",
   "execution_count": 130,
   "metadata": {
    "ExecuteTime": {
     "end_time": "2020-06-17T14:51:26.054410Z",
     "start_time": "2020-06-17T14:51:26.034405Z"
    }
   },
   "outputs": [],
   "source": [
    "def lstm_backward(da,caches):\n",
    "    caches,x=caches \n",
    "    T_x=x.shape[-1]\n",
    "    c_next,a_next,c_prev,a_prev,Ff,Fi,c_hat,Fo,xt,params=caches[0]\n",
    "    p_n=xt.shape[0]\n",
    "    x_a_n=xt.shape[0]+da.shape[0]\n",
    "#      初始化各梯度值\n",
    "    dw_f,db_f=np.zeros((p_n,x_a_n)),np.zeros((p_n,1))\n",
    "    dw_u,db_u=np.zeros((p_n,x_a_n)),np.zeros((p_n,1))\n",
    "    dw_c,db_c=np.zeros((p_n,x_a_n)),np.zeros((p_n,1))\n",
    "    dw_o,db_o= np.zeros((p_n,x_a_n)),np.zeros((p_n,1)) \n",
    "    dx=np.zeros(x.shape)\n",
    "    da0=np.zeros(xt.shape)\n",
    "    da_prevt,dc_prevt=np.zeros(xt.shape),np.zeros(xt.shape) \n",
    "    for t in range(T_x-1,-1,-1):\n",
    "#          使用 lstm 单元反向传播计算各梯度值\n",
    "        grads=lstm_cell_backward(dc_prevt,da[...,t]+da_prevt,caches[t])\n",
    "#         保存各梯度值\n",
    "        dx[...,t]=grads['dxt']\n",
    "        dw_f+=grads['dw_f']\n",
    "        db_f+=grads['db_f']\n",
    "        dw_u+=grads['dw_u']\n",
    "        db_u+=grads['db_u']\n",
    "        dw_c+=grads['dw_c']\n",
    "        db_c+=grads['db_c']\n",
    "        dw_o+=grads['dw_o']\n",
    "        db_o+=grads['db_o']\n",
    "    da0=grads['da_prev']\n",
    "    grads={'da0':da0,'dx':dx,'dw_f':dw_f,'db_f':db_f,'dw_u':dw_u,'db_u':db_u,\n",
    "          'dw_c':dw_c,'db_c':db_c,'dw_o':dw_o,'db_o':db_o}\n",
    "    return grads "
   ]
  },
  {
   "cell_type": "code",
   "execution_count": 131,
   "metadata": {
    "ExecuteTime": {
     "end_time": "2020-06-17T14:51:26.074426Z",
     "start_time": "2020-06-17T14:51:26.058411Z"
    }
   },
   "outputs": [
    {
     "data": {
      "text/plain": [
       "{'da0': array([[0.17857607, 0.18583536, 0.18142027, 0.18362191, 0.18012402,\n",
       "         0.19220193, 0.1756673 , 0.19521838, 0.18765679, 0.19379955],\n",
       "        [0.13384453, 0.13624106, 0.14107589, 0.13472603, 0.13620589,\n",
       "         0.13954659, 0.13155797, 0.14031662, 0.13857375, 0.14319298],\n",
       "        [0.13868946, 0.14186479, 0.13929136, 0.14313568, 0.13938777,\n",
       "         0.14758784, 0.1393196 , 0.14913273, 0.14602738, 0.15087693]]),\n",
       " 'dx': array([[[1.82019973e-01, 7.97667413e-02, 3.38538098e-02, 9.16744865e-03,\n",
       "          3.65706259e-03, 1.66069470e-03, 6.07142293e-04],\n",
       "         [1.92752222e-01, 6.87219064e-02, 1.97121601e-02, 5.55678789e-03,\n",
       "          9.16523864e-04, 3.15533107e-04, 8.88812043e-05],\n",
       "         [1.90848597e-01, 7.82504167e-02, 2.36227659e-02, 4.73863015e-03,\n",
       "          1.07355467e-03, 2.76449068e-04, 9.09207165e-05],\n",
       "         [1.87360411e-01, 7.01908095e-02, 1.47068404e-02, 3.70585584e-03,\n",
       "          1.09215167e-03, 5.90979813e-04, 2.00650503e-04],\n",
       "         [1.85907254e-01, 7.66862633e-02, 2.60792522e-02, 4.80408745e-03,\n",
       "          9.43820489e-04, 3.05613554e-04, 7.06023594e-05],\n",
       "         [1.99599163e-01, 6.72820601e-02, 1.55920814e-02, 6.26993933e-03,\n",
       "          1.16150214e-03, 2.44543393e-04, 9.59531671e-05],\n",
       "         [1.74614829e-01, 7.66060254e-02, 2.72636661e-02, 5.15740393e-03,\n",
       "          1.23500912e-03, 3.28897070e-04, 1.07009877e-04],\n",
       "         [2.02792253e-01, 9.02704714e-02, 2.66796002e-02, 6.84459611e-03,\n",
       "          1.67340857e-03, 3.31500238e-04, 9.90891806e-05],\n",
       "         [1.92882402e-01, 7.90877615e-02, 1.88382732e-02, 3.69208029e-03,\n",
       "          9.26201922e-04, 2.41717985e-04, 4.74310539e-05],\n",
       "         [1.99842066e-01, 8.12515344e-02, 2.05668732e-02, 4.21076002e-03,\n",
       "          1.07028933e-03, 1.82226758e-04, 4.32797375e-05]],\n",
       " \n",
       "        [[2.17074036e-01, 9.20831913e-02, 3.15999658e-02, 7.57501373e-03,\n",
       "          2.42786844e-03, 9.68076127e-04, 2.93338736e-04],\n",
       "         [2.30041929e-01, 7.92058655e-02, 1.90299361e-02, 4.40925392e-03,\n",
       "          8.28850280e-04, 2.07496652e-04, 6.10063811e-05],\n",
       "         [2.00625450e-01, 9.30267408e-02, 2.37938991e-02, 4.58077731e-03,\n",
       "          9.39704491e-04, 2.13598593e-04, 7.08068829e-05],\n",
       "         [2.35184393e-01, 7.96329729e-02, 1.67214147e-02, 3.69401739e-03,\n",
       "          9.87987657e-04, 3.12996358e-04, 1.04466140e-04],\n",
       "         [2.09847753e-01, 9.89821559e-02, 2.73594849e-02, 5.35688165e-03,\n",
       "          9.79197441e-04, 2.58445547e-04, 5.41910752e-05],\n",
       "         [2.44748804e-01, 8.25860077e-02, 1.73218310e-02, 4.67622485e-03,\n",
       "          9.38379796e-04, 2.16228845e-04, 7.20530494e-05],\n",
       "         [2.17808929e-01, 8.54214979e-02, 2.65604992e-02, 5.13403230e-03,\n",
       "          1.08657011e-03, 2.38667598e-04, 6.55471722e-05],\n",
       "         [2.49628936e-01, 9.92235245e-02, 2.98535195e-02, 7.43400412e-03,\n",
       "          1.68967413e-03, 3.14786728e-04, 7.79461052e-05],\n",
       "         [2.37107149e-01, 8.28778932e-02, 2.05111703e-02, 4.01711987e-03,\n",
       "          8.36889087e-04, 1.82633400e-04, 3.89041945e-05],\n",
       "         [2.43332259e-01, 9.08555621e-02, 2.28687754e-02, 4.37346518e-03,\n",
       "          9.91276449e-04, 1.73587014e-04, 3.60793651e-05]],\n",
       " \n",
       "        [[1.66505744e-01, 7.75935383e-02, 3.32923557e-02, 8.65129602e-03,\n",
       "          3.49993836e-03, 1.60694782e-03, 5.60456521e-04],\n",
       "         [1.73831726e-01, 6.45275803e-02, 1.86353819e-02, 5.17796025e-03,\n",
       "          8.14855655e-04, 2.91042342e-04, 8.47761614e-05],\n",
       "         [1.72331203e-01, 7.33055511e-02, 2.26293449e-02, 4.35517156e-03,\n",
       "          9.86363555e-04, 2.56266049e-04, 9.09677973e-05],\n",
       "         [1.69170331e-01, 6.61726818e-02, 1.36601044e-02, 3.58083546e-03,\n",
       "          1.09441078e-03, 5.67817847e-04, 1.88162569e-04],\n",
       "         [1.68864296e-01, 7.37572744e-02, 2.53087388e-02, 4.49383703e-03,\n",
       "          8.75553714e-04, 2.98310518e-04, 6.59606665e-05],\n",
       "         [1.77623139e-01, 6.44321266e-02, 1.46813797e-02, 5.98237257e-03,\n",
       "          1.04963223e-03, 2.29169344e-04, 9.63662183e-05],\n",
       "         [1.61414875e-01, 7.28802559e-02, 2.65747499e-02, 4.76149804e-03,\n",
       "          1.15900873e-03, 3.02894570e-04, 9.97061045e-05],\n",
       "         [1.80655944e-01, 8.78355405e-02, 2.65925128e-02, 6.73751459e-03,\n",
       "          1.63503992e-03, 3.10193852e-04, 9.42931002e-05],\n",
       "         [1.73984469e-01, 7.43339051e-02, 1.78645795e-02, 3.46963895e-03,\n",
       "          8.69224889e-04, 2.24566794e-04, 4.36760284e-05],\n",
       "         [1.79150576e-01, 7.72145606e-02, 1.96825935e-02, 3.90910650e-03,\n",
       "          1.02167868e-03, 1.65877867e-04, 4.01111727e-05]]]),\n",
       " 'dw_f': array([[0.07837312, 0.07569172, 0.07359505, 0.04992212, 0.0465948 ,\n",
       "         0.04132882],\n",
       "        [0.09877152, 0.09613185, 0.09322749, 0.05119337, 0.0650282 ,\n",
       "         0.04579925],\n",
       "        [0.04098757, 0.03966123, 0.03838811, 0.02317078, 0.02554511,\n",
       "         0.02135422]]),\n",
       " 'db_f': array([[0.11375381],\n",
       "        [0.13935034],\n",
       "        [0.05963777]]),\n",
       " 'dw_u': array([[0.07391304, 0.09739417, 0.09673675, 0.06107038, 0.08332566,\n",
       "         0.09228028],\n",
       "        [0.1554464 , 0.19639683, 0.18157174, 0.12213699, 0.14810199,\n",
       "         0.15978649],\n",
       "        [0.10373555, 0.12767532, 0.11561234, 0.08830694, 0.1148259 ,\n",
       "         0.1165095 ]]),\n",
       " 'db_u': array([[0.18293767],\n",
       "        [0.32850516],\n",
       "        [0.22620985]]),\n",
       " 'dw_c': array([[0.71859852, 0.88308258, 0.78059272, 0.56990495, 0.68388055,\n",
       "         0.75787671],\n",
       "        [0.72036339, 0.88912875, 0.77916222, 0.55856041, 0.66210699,\n",
       "         0.72351203],\n",
       "        [0.77602169, 0.97519796, 0.82826253, 0.62988828, 0.74796012,\n",
       "         0.8166012 ]]),\n",
       " 'db_c': array([[1.44453832],\n",
       "        [1.4083842 ],\n",
       "        [1.55123644]]),\n",
       " 'dw_o': array([[4.19686446, 4.30543069, 4.1556696 , 2.37199777, 2.80673545,\n",
       "         2.39831586],\n",
       "        [3.87754559, 3.96043895, 3.82545281, 2.2393254 , 2.66426272,\n",
       "         2.35445251],\n",
       "        [4.44060589, 4.51939711, 4.38607229, 2.52440319, 2.76620003,\n",
       "         2.55079488]]),\n",
       " 'db_o': array([[5.37481322],\n",
       "        [5.02259939],\n",
       "        [5.64375346]])}"
      ]
     },
     "execution_count": 131,
     "metadata": {},
     "output_type": "execute_result"
    }
   ],
   "source": [
    "da=a\n",
    "caches=caches\n",
    "lstm_backward(da,caches) "
   ]
  },
  {
   "cell_type": "markdown",
   "metadata": {},
   "source": [
    "### 基于 keras 的 LSTM 实现"
   ]
  },
  {
   "cell_type": "code",
   "execution_count": 132,
   "metadata": {
    "ExecuteTime": {
     "end_time": "2020-06-17T14:51:36.512653Z",
     "start_time": "2020-06-17T14:51:26.074426Z"
    }
   },
   "outputs": [
    {
     "name": "stdout",
     "output_type": "stream",
     "text": [
      "Train on 1000 samples, validate on 100 samples\n",
      "Epoch 1/12\n",
      "1000/1000 [==============================] - 2s 2ms/step - loss: 12.0953 - accuracy: 0.1040 - val_loss: 13.2441 - val_accuracy: 0.0700\n",
      "Epoch 2/12\n",
      "1000/1000 [==============================] - 0s 257us/step - loss: 13.8258 - accuracy: 0.1040 - val_loss: 14.1187 - val_accuracy: 0.0700\n",
      "Epoch 3/12\n",
      "1000/1000 [==============================] - 0s 156us/step - loss: 14.2690 - accuracy: 0.1040 - val_loss: 14.3276 - val_accuracy: 0.0700\n",
      "Epoch 4/12\n",
      "1000/1000 [==============================] - 0s 152us/step - loss: 14.3921 - accuracy: 0.1040 - val_loss: 14.3761 - val_accuracy: 0.0700\n",
      "Epoch 5/12\n",
      "1000/1000 [==============================] - 0s 152us/step - loss: 14.4144 - accuracy: 0.1040 - val_loss: 14.4094 - val_accuracy: 0.0700\n",
      "Epoch 6/12\n",
      "1000/1000 [==============================] - 0s 164us/step - loss: 14.4305 - accuracy: 0.1040 - val_loss: 14.3971 - val_accuracy: 0.0700\n",
      "Epoch 7/12\n",
      "1000/1000 [==============================] - 0s 167us/step - loss: 14.4249 - accuracy: 0.1040 - val_loss: 14.3915 - val_accuracy: 0.0700\n",
      "Epoch 8/12\n",
      "1000/1000 [==============================] - 0s 152us/step - loss: 14.4160 - accuracy: 0.1040 - val_loss: 14.3748 - val_accuracy: 0.0700\n",
      "Epoch 9/12\n",
      "1000/1000 [==============================] - 0s 156us/step - loss: 14.4019 - accuracy: 0.1040 - val_loss: 14.3674 - val_accuracy: 0.0700\n",
      "Epoch 10/12\n",
      "1000/1000 [==============================] - 0s 156us/step - loss: 14.3944 - accuracy: 0.1040 - val_loss: 14.3410 - val_accuracy: 0.0700\n",
      "Epoch 11/12\n",
      "1000/1000 [==============================] - 0s 164us/step - loss: 14.3585 - accuracy: 0.1040 - val_loss: 14.3614 - val_accuracy: 0.0700\n",
      "Epoch 12/12\n",
      "1000/1000 [==============================] - 0s 164us/step - loss: 14.3680 - accuracy: 0.1040 - val_loss: 14.3484 - val_accuracy: 0.0700\n"
     ]
    }
   ],
   "source": [
    "from keras.layers import LSTM,Dense,Input\n",
    "from keras.models import Model\n",
    "# 指定数据维度和时间步等参数\n",
    "data_dim = 16\n",
    "timesteps = 8\n",
    "n_classes=10 \n",
    "# 搭建一个 LSTM 多分类过程\n",
    "inputX=Input((timesteps, data_dim))\n",
    "X=LSTM(32,return_sequences=True)(inputX)\n",
    "X=LSTM(32,return_sequences=True)(X)\n",
    "X=LSTM(32)(X)\n",
    "X=Dense(10,activation='softmax')(X)\n",
    "model=Model(inputs=inputX,outputs=X)\n",
    "model.compile(loss='categorical_crossentropy',\n",
    "             optimizer='rmsprop',metrics=['accuracy'])\n",
    "# 生成模拟数据 \n",
    "x_train=np.random.random((1000,timesteps,data_dim))\n",
    "y_train=np.random.random((1000,n_classes))\n",
    "x_test=np.random.random((100,timesteps,data_dim))\n",
    "y_test=np.random.random((100,n_classes))\n",
    "# 模型训练\n",
    "history=model.fit(x_train,y_train,batch_size=64,epochs=12,validation_data=(x_test,y_test))"
   ]
  },
  {
   "cell_type": "code",
   "execution_count": 133,
   "metadata": {
    "ExecuteTime": {
     "end_time": "2020-06-17T14:51:36.641941Z",
     "start_time": "2020-06-17T14:51:36.512653Z"
    }
   },
   "outputs": [
    {
     "data": {
      "image/png": "[encoded data removed]",
      "text/plain": [
       "<Figure size 432x288 with 1 Axes>"
      ]
     },
     "metadata": {
      "needs_background": "light"
     },
     "output_type": "display_data"
    }
   ],
   "source": [
    "val_loss,val_accuracy=history.history['val_loss'],history.history['val_accuracy']\n",
    "from matplotlib import pyplot as plt \n",
    "plt.plot(val_loss,label='val_loss')\n",
    "plt.plot(val_accuracy,label='val_accuracy',c='g') \n",
    "plt.legend() \n",
    "plt.show() "
   ]
  },
  {
   "cell_type": "code",
   "execution_count": 134,
   "metadata": {
    "ExecuteTime": {
     "end_time": "2020-06-17T14:51:37.437801Z",
     "start_time": "2020-06-17T14:51:36.641941Z"
    }
   },
   "outputs": [
    {
     "data": {
      "text/plain": [
       "(100, 10)"
      ]
     },
     "execution_count": 134,
     "metadata": {},
     "output_type": "execute_result"
    }
   ],
   "source": [
    "model.predict(x_test).shape "
   ]
  },
  {
   "cell_type": "code",
   "execution_count": 135,
   "metadata": {
    "ExecuteTime": {
     "end_time": "2020-06-17T14:51:37.445790Z",
     "start_time": "2020-06-17T14:51:37.437801Z"
    }
   },
   "outputs": [
    {
     "name": "stdout",
     "output_type": "stream",
     "text": [
      "Model: \"model_10\"\n",
      "_________________________________________________________________\n",
      "Layer (type)                 Output Shape              Param #   \n",
      "=================================================================\n",
      "input_11 (InputLayer)        (None, 8, 16)             0         \n",
      "_________________________________________________________________\n",
      "lstm_28 (LSTM)               (None, 8, 32)             6272      \n",
      "_________________________________________________________________\n",
      "lstm_29 (LSTM)               (None, 8, 32)             8320      \n",
      "_________________________________________________________________\n",
      "lstm_30 (LSTM)               (None, 32)                8320      \n",
      "_________________________________________________________________\n",
      "dense_9 (Dense)              (None, 10)                330       \n",
      "=================================================================\n",
      "Total params: 23,242\n",
      "Trainable params: 23,242\n",
      "Non-trainable params: 0\n",
      "_________________________________________________________________\n"
     ]
    }
   ],
   "source": [
    "model.summary() "
   ]
  }
 ],
 "metadata": {
  "kernelspec": {
   "display_name": "Python 3.7.5 64-bit",
   "language": "python",
   "name": "python37564bita5f53f9b60c0490aa934da503dc99db2"
  },
  "language_info": {
   "codemirror_mode": {
    "name": "ipython",
    "version": 3
   },
   "file_extension": ".py",
   "mimetype": "text/x-python",
   "name": "python",
   "nbconvert_exporter": "python",
   "pygments_lexer": "ipython3",
   "version": "3.7.5"
  },
  "toc": {
   "base_numbering": 1,
   "nav_menu": {},
   "number_sections": true,
   "sideBar": true,
   "skip_h1_title": false,
   "title_cell": "Table of Contents",
   "title_sidebar": "Contents",
   "toc_cell": false,
   "toc_position": {},
   "toc_section_display": true,
   "toc_window_display": false
  }
 },
 "nbformat": 4,
 "nbformat_minor": 4
}
