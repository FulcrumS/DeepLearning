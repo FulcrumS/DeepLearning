{
 "cells": [
  {
   "cell_type": "markdown",
   "metadata": {},
   "source": [
    "**keras** 是一款使用纯 `python` 编写的神经网络 API，使用 keras 能够快速实现你的深度学习方案，所以 keras 有着为快速试验而生的美称。\n",
    "keras 以 `Tensorflow`、`Theano` 、`CNTK` 为后端，意思就是 keras 的底层计算都是以以上这些框架为基础的，\n",
    "这使得 keras 能够专注于快速搭建起神经网络模型。"
   ]
  },
  {
   "cell_type": "code",
   "execution_count": 63,
   "metadata": {
    "ExecuteTime": {
     "end_time": "2020-06-04T14:06:54.633077Z",
     "start_time": "2020-06-04T14:06:54.494038Z"
    }
   },
   "outputs": [
    {
     "data": {
      "text/plain": [
       "(1203, 8, 8, 1)"
      ]
     },
     "execution_count": 63,
     "metadata": {},
     "output_type": "execute_result"
    }
   ],
   "source": [
    "from sklearn.datasets import load_digits \n",
    "from keras.utils import to_categorical\n",
    "from sklearn.model_selection import train_test_split\n",
    "import numpy as np \n",
    "seed = 7\n",
    "np.random.seed(seed)\n",
    "data=load_digits() \n",
    "labels=data.target \n",
    "data=data.data\n",
    "labels=to_categorical(labels)\n",
    "data=data.reshape((-1,8,8))\n",
    "X_train, X_test, y_train, y_test = train_test_split(data, labels, test_size=0.33, random_state=seed)\n",
    "# keras 图像 必须是 4维的输入\n",
    "X_train=np.expand_dims(X_train, axis=3)\n",
    "X_test=np.expand_dims(X_test, axis=3)\n",
    "X_train.shape "
   ]
  },
  {
   "cell_type": "code",
   "execution_count": 77,
   "metadata": {
    "ExecuteTime": {
     "end_time": "2020-06-04T14:41:19.362905Z",
     "start_time": "2020-06-04T14:41:17.939592Z"
    }
   },
   "outputs": [
    {
     "name": "stdout",
     "output_type": "stream",
     "text": [
      "Epoch 1/24\n",
      "12/12 [==============================] - 0s 15ms/step - loss: 7.6440 - accuracy: 0.0000e+00\n",
      "Epoch 2/24\n",
      "12/12 [==============================] - 0s 501us/step - loss: 1.9811 - accuracy: 0.0000e+00\n",
      "Epoch 3/24\n",
      "12/12 [==============================] - 0s 584us/step - loss: 1.9481 - accuracy: 0.0000e+00\n",
      "Epoch 4/24\n",
      "12/12 [==============================] - 0s 666us/step - loss: 3.4507 - accuracy: 0.0000e+00\n",
      "Epoch 5/24\n",
      "12/12 [==============================] - 0s 584us/step - loss: 2.7586 - accuracy: 0.0000e+00\n",
      "Epoch 6/24\n",
      "12/12 [==============================] - 0s 584us/step - loss: 1.8934 - accuracy: 0.0000e+00\n",
      "Epoch 7/24\n",
      "12/12 [==============================] - 0s 667us/step - loss: 2.8035 - accuracy: 0.0000e+00\n",
      "Epoch 8/24\n",
      "12/12 [==============================] - 0s 666us/step - loss: 2.2152 - accuracy: 0.0000e+00\n",
      "Epoch 9/24\n",
      "12/12 [==============================] - 0s 667us/step - loss: 2.7944 - accuracy: 0.0000e+00\n",
      "Epoch 10/24\n",
      "12/12 [==============================] - 0s 667us/step - loss: 1.0658 - accuracy: 0.0000e+00\n",
      "Epoch 11/24\n",
      "12/12 [==============================] - 0s 584us/step - loss: 2.1829 - accuracy: 0.0000e+00\n",
      "Epoch 12/24\n",
      "12/12 [==============================] - 0s 666us/step - loss: 1.2071 - accuracy: 0.0000e+00\n",
      "Epoch 13/24\n",
      "12/12 [==============================] - 0s 584us/step - loss: 1.9910 - accuracy: 0.0000e+00\n",
      "Epoch 14/24\n",
      "12/12 [==============================] - 0s 584us/step - loss: 0.9766 - accuracy: 0.0000e+00\n",
      "Epoch 15/24\n",
      "12/12 [==============================] - 0s 583us/step - loss: 1.9457 - accuracy: 0.0000e+00\n",
      "Epoch 16/24\n",
      "12/12 [==============================] - 0s 500us/step - loss: 1.3970 - accuracy: 0.0000e+00\n",
      "Epoch 17/24\n",
      "12/12 [==============================] - 0s 583us/step - loss: 0.8090 - accuracy: 0.0000e+00\n",
      "Epoch 18/24\n",
      "12/12 [==============================] - 0s 500us/step - loss: 0.5977 - accuracy: 0.0000e+00\n",
      "Epoch 19/24\n",
      "12/12 [==============================] - 0s 584us/step - loss: 0.5596 - accuracy: 0.0000e+00\n",
      "Epoch 20/24\n",
      "12/12 [==============================] - 0s 500us/step - loss: 1.2565 - accuracy: 0.0000e+00\n",
      "Epoch 21/24\n",
      "12/12 [==============================] - 0s 584us/step - loss: 0.7498 - accuracy: 0.0000e+00\n",
      "Epoch 22/24\n",
      "12/12 [==============================] - 0s 583us/step - loss: 1.2770 - accuracy: 0.0000e+00\n",
      "Epoch 23/24\n",
      "12/12 [==============================] - 0s 584us/step - loss: 0.9085 - accuracy: 0.0000e+00\n",
      "Epoch 24/24\n",
      "12/12 [==============================] - 0s 583us/step - loss: 0.4578 - accuracy: 0.0000e+00\n"
     ]
    },
    {
     "data": {
      "text/plain": [
       "<keras.callbacks.callbacks.History at 0x21f5d5f3b88>"
      ]
     },
     "execution_count": 77,
     "metadata": {},
     "output_type": "execute_result"
    }
   ],
   "source": [
    "import numpy as np \n",
    "X=np.random.randn(12,64)\n",
    "y=np.random.randn(12,1)\n",
    "from keras.models import Sequential\n",
    "from keras import layers\n",
    "net=Sequential() \n",
    "net.add(layers.Dense(24,activation='relu'))\n",
    "net.add(layers.Dropout(.5))\n",
    "net.add(layers.Dense(1))\n",
    "net.compile(optimizer='adam',loss='mean_squared_error',metrics=['accuracy'])\n",
    "net.fit(X,y,batch_size=3,epochs=24) "
   ]
  },
  {
   "cell_type": "code",
   "execution_count": 72,
   "metadata": {
    "ExecuteTime": {
     "end_time": "2020-06-04T14:19:13.868946Z",
     "start_time": "2020-06-04T14:19:08.031628Z"
    },
    "collapsed": true
   },
   "outputs": [
    {
     "name": "stdout",
     "output_type": "stream",
     "text": [
      "Epoch 1/100\n",
      "1203/1203 [==============================] - 0s 255us/step - loss: 2.5029 - accuracy: 0.0998\n",
      "Epoch 2/100\n",
      "1203/1203 [==============================] - 0s 36us/step - loss: 2.2486 - accuracy: 0.1380\n",
      "Epoch 3/100\n",
      "1203/1203 [==============================] - 0s 34us/step - loss: 2.1649 - accuracy: 0.2062\n",
      "Epoch 4/100\n",
      "1203/1203 [==============================] - 0s 37us/step - loss: 2.0579 - accuracy: 0.2668\n",
      "Epoch 5/100\n",
      "1203/1203 [==============================] - 0s 35us/step - loss: 1.9479 - accuracy: 0.3317\n",
      "Epoch 6/100\n",
      "1203/1203 [==============================] - 0s 33us/step - loss: 1.8263 - accuracy: 0.3907\n",
      "Epoch 7/100\n",
      "1203/1203 [==============================] - 0s 37us/step - loss: 1.7126 - accuracy: 0.4156\n",
      "Epoch 8/100\n",
      "1203/1203 [==============================] - 0s 36us/step - loss: 1.5723 - accuracy: 0.4855\n",
      "Epoch 9/100\n",
      "1203/1203 [==============================] - 0s 34us/step - loss: 1.4820 - accuracy: 0.5204\n",
      "Epoch 10/100\n",
      "1203/1203 [==============================] - 0s 39us/step - loss: 1.3781 - accuracy: 0.5378\n",
      "Epoch 11/100\n",
      "1203/1203 [==============================] - 0s 37us/step - loss: 1.2840 - accuracy: 0.5877\n",
      "Epoch 12/100\n",
      "1203/1203 [==============================] - 0s 37us/step - loss: 1.1771 - accuracy: 0.6060\n",
      "Epoch 13/100\n",
      "1203/1203 [==============================] - 0s 34us/step - loss: 1.1021 - accuracy: 0.6451\n",
      "Epoch 14/100\n",
      "1203/1203 [==============================] - 0s 38us/step - loss: 1.0118 - accuracy: 0.6883\n",
      "Epoch 15/100\n",
      "1203/1203 [==============================] - 0s 36us/step - loss: 0.9776 - accuracy: 0.6525\n",
      "Epoch 16/100\n",
      "1203/1203 [==============================] - 0s 37us/step - loss: 0.9041 - accuracy: 0.7149\n",
      "Epoch 17/100\n",
      "1203/1203 [==============================] - 0s 36us/step - loss: 0.8605 - accuracy: 0.7315\n",
      "Epoch 18/100\n",
      "1203/1203 [==============================] - 0s 34us/step - loss: 0.8116 - accuracy: 0.7548\n",
      "Epoch 19/100\n",
      "1203/1203 [==============================] - 0s 37us/step - loss: 0.7662 - accuracy: 0.7631\n",
      "Epoch 20/100\n",
      "1203/1203 [==============================] - 0s 36us/step - loss: 0.7081 - accuracy: 0.7756\n",
      "Epoch 21/100\n",
      "1203/1203 [==============================] - 0s 32us/step - loss: 0.6782 - accuracy: 0.7722\n",
      "Epoch 22/100\n",
      "1203/1203 [==============================] - 0s 37us/step - loss: 0.6687 - accuracy: 0.7980\n",
      "Epoch 23/100\n",
      "1203/1203 [==============================] - 0s 37us/step - loss: 0.6023 - accuracy: 0.8263\n",
      "Epoch 24/100\n",
      "1203/1203 [==============================] - 0s 37us/step - loss: 0.5814 - accuracy: 0.8337\n",
      "Epoch 25/100\n",
      "1203/1203 [==============================] - 0s 33us/step - loss: 0.5621 - accuracy: 0.8329\n",
      "Epoch 26/100\n",
      "1203/1203 [==============================] - 0s 37us/step - loss: 0.5254 - accuracy: 0.8429\n",
      "Epoch 27/100\n",
      "1203/1203 [==============================] - 0s 37us/step - loss: 0.5114 - accuracy: 0.8387\n",
      "Epoch 28/100\n",
      "1203/1203 [==============================] - 0s 36us/step - loss: 0.4626 - accuracy: 0.8620\n",
      "Epoch 29/100\n",
      "1203/1203 [==============================] - 0s 33us/step - loss: 0.4957 - accuracy: 0.8562\n",
      "Epoch 30/100\n",
      "1203/1203 [==============================] - 0s 34us/step - loss: 0.4177 - accuracy: 0.8878\n",
      "Epoch 31/100\n",
      "1203/1203 [==============================] - 0s 37us/step - loss: 0.4795 - accuracy: 0.8429\n",
      "Epoch 32/100\n",
      "1203/1203 [==============================] - 0s 34us/step - loss: 0.4203 - accuracy: 0.8720\n",
      "Epoch 33/100\n",
      "1203/1203 [==============================] - 0s 34us/step - loss: 0.3712 - accuracy: 0.8911\n",
      "Epoch 34/100\n",
      "1203/1203 [==============================] - 0s 37us/step - loss: 0.3765 - accuracy: 0.8894\n",
      "Epoch 35/100\n",
      "1203/1203 [==============================] - 0s 34us/step - loss: 0.3680 - accuracy: 0.8894\n",
      "Epoch 36/100\n",
      "1203/1203 [==============================] - 0s 35us/step - loss: 0.3663 - accuracy: 0.8928\n",
      "Epoch 37/100\n",
      "1203/1203 [==============================] - 0s 37us/step - loss: 0.3649 - accuracy: 0.9019\n",
      "Epoch 38/100\n",
      "1203/1203 [==============================] - 0s 34us/step - loss: 0.3379 - accuracy: 0.8978\n",
      "Epoch 39/100\n",
      "1203/1203 [==============================] - 0s 34us/step - loss: 0.3023 - accuracy: 0.9077\n",
      "Epoch 40/100\n",
      "1203/1203 [==============================] - 0s 34us/step - loss: 0.3018 - accuracy: 0.9152\n",
      "Epoch 41/100\n",
      "1203/1203 [==============================] - 0s 34us/step - loss: 0.2989 - accuracy: 0.9069\n",
      "Epoch 42/100\n",
      "1203/1203 [==============================] - 0s 37us/step - loss: 0.2952 - accuracy: 0.9044\n",
      "Epoch 43/100\n",
      "1203/1203 [==============================] - 0s 32us/step - loss: 0.2730 - accuracy: 0.9111\n",
      "Epoch 44/100\n",
      "1203/1203 [==============================] - 0s 34us/step - loss: 0.2841 - accuracy: 0.9152\n",
      "Epoch 45/100\n",
      "1203/1203 [==============================] - 0s 36us/step - loss: 0.2560 - accuracy: 0.9268\n",
      "Epoch 46/100\n",
      "1203/1203 [==============================] - 0s 35us/step - loss: 0.2526 - accuracy: 0.9244\n",
      "Epoch 47/100\n",
      "1203/1203 [==============================] - 0s 36us/step - loss: 0.2419 - accuracy: 0.9310\n",
      "Epoch 48/100\n",
      "1203/1203 [==============================] - 0s 34us/step - loss: 0.2302 - accuracy: 0.9377\n",
      "Epoch 49/100\n",
      "1203/1203 [==============================] - 0s 34us/step - loss: 0.2356 - accuracy: 0.9343\n",
      "Epoch 50/100\n",
      "1203/1203 [==============================] - 0s 34us/step - loss: 0.2225 - accuracy: 0.9360\n",
      "Epoch 51/100\n",
      "1203/1203 [==============================] - 0s 36us/step - loss: 0.2256 - accuracy: 0.9410\n",
      "Epoch 52/100\n",
      "1203/1203 [==============================] - 0s 34us/step - loss: 0.2301 - accuracy: 0.9352\n",
      "Epoch 53/100\n",
      "1203/1203 [==============================] - 0s 36us/step - loss: 0.2304 - accuracy: 0.9293\n",
      "Epoch 54/100\n",
      "1203/1203 [==============================] - 0s 37us/step - loss: 0.2119 - accuracy: 0.9410\n",
      "Epoch 55/100\n",
      "1203/1203 [==============================] - 0s 33us/step - loss: 0.2029 - accuracy: 0.9368\n",
      "Epoch 56/100\n",
      "1203/1203 [==============================] - 0s 35us/step - loss: 0.2156 - accuracy: 0.9293\n",
      "Epoch 57/100\n",
      "1203/1203 [==============================] - 0s 37us/step - loss: 0.1902 - accuracy: 0.9476\n",
      "Epoch 58/100\n",
      "1203/1203 [==============================] - 0s 35us/step - loss: 0.1996 - accuracy: 0.9435\n",
      "Epoch 59/100\n",
      "1203/1203 [==============================] - 0s 34us/step - loss: 0.2025 - accuracy: 0.9368\n",
      "Epoch 60/100\n",
      "1203/1203 [==============================] - 0s 35us/step - loss: 0.1787 - accuracy: 0.9476\n",
      "Epoch 61/100\n",
      "1203/1203 [==============================] - 0s 35us/step - loss: 0.1605 - accuracy: 0.9534\n",
      "Epoch 62/100\n",
      "1203/1203 [==============================] - 0s 34us/step - loss: 0.1616 - accuracy: 0.9593\n",
      "Epoch 63/100\n",
      "1203/1203 [==============================] - 0s 37us/step - loss: 0.1559 - accuracy: 0.9543\n",
      "Epoch 64/100\n",
      "1203/1203 [==============================] - 0s 36us/step - loss: 0.1857 - accuracy: 0.9443\n",
      "Epoch 65/100\n",
      "1203/1203 [==============================] - 0s 35us/step - loss: 0.1882 - accuracy: 0.9451\n",
      "Epoch 66/100\n",
      "1203/1203 [==============================] - 0s 34us/step - loss: 0.1685 - accuracy: 0.9526\n",
      "Epoch 67/100\n",
      "1203/1203 [==============================] - 0s 35us/step - loss: 0.1578 - accuracy: 0.9593\n",
      "Epoch 68/100\n",
      "1203/1203 [==============================] - 0s 37us/step - loss: 0.1695 - accuracy: 0.9443\n",
      "Epoch 69/100\n",
      "1203/1203 [==============================] - 0s 34us/step - loss: 0.1555 - accuracy: 0.9559\n",
      "Epoch 70/100\n",
      "1203/1203 [==============================] - 0s 35us/step - loss: 0.1556 - accuracy: 0.9534\n",
      "Epoch 71/100\n",
      "1203/1203 [==============================] - 0s 36us/step - loss: 0.1445 - accuracy: 0.9618\n",
      "Epoch 72/100\n",
      "1203/1203 [==============================] - 0s 35us/step - loss: 0.1596 - accuracy: 0.9501\n",
      "Epoch 73/100\n",
      "1203/1203 [==============================] - 0s 37us/step - loss: 0.1413 - accuracy: 0.9609\n",
      "Epoch 74/100\n",
      "1203/1203 [==============================] - 0s 36us/step - loss: 0.1293 - accuracy: 0.9692\n",
      "Epoch 75/100\n",
      "1203/1203 [==============================] - 0s 34us/step - loss: 0.1219 - accuracy: 0.9609\n",
      "Epoch 76/100\n",
      "1203/1203 [==============================] - 0s 34us/step - loss: 0.1235 - accuracy: 0.9667\n",
      "Epoch 77/100\n",
      "1203/1203 [==============================] - 0s 34us/step - loss: 0.1229 - accuracy: 0.9684\n",
      "Epoch 78/100\n",
      "1203/1203 [==============================] - 0s 36us/step - loss: 0.1177 - accuracy: 0.9651\n",
      "Epoch 79/100\n"
     ]
    },
    {
     "name": "stdout",
     "output_type": "stream",
     "text": [
      "1203/1203 [==============================] - 0s 33us/step - loss: 0.1165 - accuracy: 0.9626\n",
      "Epoch 80/100\n",
      "1203/1203 [==============================] - 0s 36us/step - loss: 0.1215 - accuracy: 0.9667\n",
      "Epoch 81/100\n",
      "1203/1203 [==============================] - 0s 35us/step - loss: 0.1215 - accuracy: 0.9626\n",
      "Epoch 82/100\n",
      "1203/1203 [==============================] - 0s 34us/step - loss: 0.1396 - accuracy: 0.9576\n",
      "Epoch 83/100\n",
      "1203/1203 [==============================] - 0s 34us/step - loss: 0.1580 - accuracy: 0.9485\n",
      "Epoch 84/100\n",
      "1203/1203 [==============================] - 0s 32us/step - loss: 0.1257 - accuracy: 0.9626\n",
      "Epoch 85/100\n",
      "1203/1203 [==============================] - 0s 33us/step - loss: 0.1152 - accuracy: 0.9659\n",
      "Epoch 86/100\n",
      "1203/1203 [==============================] - 0s 37us/step - loss: 0.1209 - accuracy: 0.9709\n",
      "Epoch 87/100\n",
      "1203/1203 [==============================] - 0s 35us/step - loss: 0.1206 - accuracy: 0.9643\n",
      "Epoch 88/100\n",
      "1203/1203 [==============================] - 0s 33us/step - loss: 0.1065 - accuracy: 0.9726\n",
      "Epoch 89/100\n",
      "1203/1203 [==============================] - 0s 35us/step - loss: 0.1182 - accuracy: 0.9709\n",
      "Epoch 90/100\n",
      "1203/1203 [==============================] - 0s 37us/step - loss: 0.1875 - accuracy: 0.9451\n",
      "Epoch 91/100\n",
      "1203/1203 [==============================] - 0s 33us/step - loss: 0.1547 - accuracy: 0.9501\n",
      "Epoch 92/100\n",
      "1203/1203 [==============================] - 0s 34us/step - loss: 0.1226 - accuracy: 0.9634\n",
      "Epoch 93/100\n",
      "1203/1203 [==============================] - 0s 35us/step - loss: 0.1198 - accuracy: 0.9601\n",
      "Epoch 94/100\n",
      "1203/1203 [==============================] - 0s 37us/step - loss: 0.1684 - accuracy: 0.9435\n",
      "Epoch 95/100\n",
      "1203/1203 [==============================] - 0s 33us/step - loss: 0.1198 - accuracy: 0.9659\n",
      "Epoch 96/100\n",
      "1203/1203 [==============================] - 0s 35us/step - loss: 0.1157 - accuracy: 0.9643\n",
      "Epoch 97/100\n",
      "1203/1203 [==============================] - 0s 33us/step - loss: 0.0887 - accuracy: 0.9726\n",
      "Epoch 98/100\n",
      "1203/1203 [==============================] - 0s 34us/step - loss: 0.0983 - accuracy: 0.9643\n",
      "Epoch 99/100\n",
      "1203/1203 [==============================] - ETA: 0s - loss: 0.0684 - accuracy: 0.98 - 0s 34us/step - loss: 0.1043 - accuracy: 0.9692\n",
      "Epoch 100/100\n",
      "1203/1203 [==============================] - 0s 32us/step - loss: 0.1085 - accuracy: 0.9676\n"
     ]
    }
   ],
   "source": [
    "from keras.layers import Conv2D,Dense,Dropout,Activation,MaxPool2D,Flatten\n",
    "from keras.models import Sequential \n",
    "def net(x_train,y_train):\n",
    "    model=Sequential() \n",
    "    model.add(Conv2D(6,(5,5),strides=1,padding='valid',activation='relu'))\n",
    "    model.add(MaxPool2D(pool_size=(2,2)))\n",
    "    model.add(Conv2D(12,(2,2),activation='relu'))\n",
    "    model.add(Flatten())\n",
    "    model.add(Dense(84))\n",
    "    model.add(Dropout(.5))\n",
    "    model.add(Dense(10,activation='softplus'))\n",
    "    model.compile(loss='categorical_crossentropy',optimizer='adam',metrics=['accuracy'])\n",
    "    history=model.fit(x_train,y_train,batch_size=100,epochs=100,)\n",
    "    return model,history \n",
    "def eval_score(model,x,y):\n",
    "    score=model.evaluate(x,y,batch_size=20)\n",
    "    return score \n",
    "\n",
    "X=X_train\n",
    "y=y_train\n",
    "model,history=net(X,y)\n",
    "# print(history)\n",
    "print(eval_score(model,X_test,y_test))           "
   ]
  },
  {
   "cell_type": "code",
   "execution_count": 73,
   "metadata": {
    "ExecuteTime": {
     "end_time": "2020-06-04T14:19:34.825169Z",
     "start_time": "2020-06-04T14:19:34.821162Z"
    }
   },
   "outputs": [
    {
     "name": "stdout",
     "output_type": "stream",
     "text": [
      "Model: \"sequential_26\"\n",
      "_________________________________________________________________\n",
      "Layer (type)                 Output Shape              Param #   \n",
      "=================================================================\n",
      "conv2d_49 (Conv2D)           (None, 4, 4, 6)           156       \n",
      "_________________________________________________________________\n",
      "max_pooling2d_26 (MaxPooling (None, 2, 2, 6)           0         \n",
      "_________________________________________________________________\n",
      "conv2d_50 (Conv2D)           (None, 1, 1, 12)          300       \n",
      "_________________________________________________________________\n",
      "flatten_15 (Flatten)         (None, 12)                0         \n",
      "_________________________________________________________________\n",
      "dense_47 (Dense)             (None, 84)                1092      \n",
      "_________________________________________________________________\n",
      "dropout_24 (Dropout)         (None, 84)                0         \n",
      "_________________________________________________________________\n",
      "dense_48 (Dense)             (None, 10)                850       \n",
      "=================================================================\n",
      "Total params: 2,398\n",
      "Trainable params: 2,398\n",
      "Non-trainable params: 0\n",
      "_________________________________________________________________\n"
     ]
    }
   ],
   "source": [
    "model.summary()"
   ]
  },
  {
   "cell_type": "code",
   "execution_count": 71,
   "metadata": {
    "ExecuteTime": {
     "end_time": "2020-06-04T14:15:51.646360Z",
     "start_time": "2020-06-04T14:15:51.497343Z"
    }
   },
   "outputs": [
    {
     "data": {
      "image/png": "[encoded data removed]",
      "text/plain": [
       "<Figure size 432x288 with 2 Axes>"
      ]
     },
     "metadata": {
      "needs_background": "light"
     },
     "output_type": "display_data"
    }
   ],
   "source": [
    "info=history.history\n",
    "loss=info['loss']\n",
    "acc=info['accuracy']\n",
    "from matplotlib import pyplot as plt \n",
    "plt.subplot(1,2,1)\n",
    "plt.plot(loss)\n",
    "plt.title('loss')\n",
    "plt.subplot(1,2,2)\n",
    "plt.plot(acc)\n",
    "plt.title('acc')\n",
    "plt.show()               "
   ]
  },
  {
   "cell_type": "code",
   "execution_count": null,
   "metadata": {},
   "outputs": [],
   "source": []
  }
 ],
 "metadata": {
  "kernelspec": {
   "display_name": "Python 3.7.5 64-bit",
   "language": "python",
   "name": "python37564bita5f53f9b60c0490aa934da503dc99db2"
  },
  "language_info": {
   "codemirror_mode": {
    "name": "ipython",
    "version": 3
   },
   "file_extension": ".py",
   "mimetype": "text/x-python",
   "name": "python",
   "nbconvert_exporter": "python",
   "pygments_lexer": "ipython3",
   "version": "3.7.5"
  },
  "toc": {
   "base_numbering": 1,
   "nav_menu": {},
   "number_sections": true,
   "sideBar": true,
   "skip_h1_title": false,
   "title_cell": "Table of Contents",
   "title_sidebar": "Contents",
   "toc_cell": false,
   "toc_position": {},
   "toc_section_display": true,
   "toc_window_display": false
  }
 },
 "nbformat": 4,
 "nbformat_minor": 4
}
