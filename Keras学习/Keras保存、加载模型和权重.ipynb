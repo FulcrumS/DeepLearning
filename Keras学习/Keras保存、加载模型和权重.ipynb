{
 "cells": [
  {
   "cell_type": "markdown",
   "metadata": {},
   "source": [
    "## 加载数据和训练模型"
   ]
  },
  {
   "cell_type": "code",
   "execution_count": 28,
   "metadata": {
    "ExecuteTime": {
     "end_time": "2020-06-07T15:01:23.338170Z",
     "start_time": "2020-06-07T15:00:46.657909Z"
    },
    "collapsed": true
   },
   "outputs": [
    {
     "name": "stdout",
     "output_type": "stream",
     "text": [
      "Extracting ./fashion-mnist/train-images-idx3-ubyte.gz\n",
      "Extracting ./fashion-mnist/train-labels-idx1-ubyte.gz\n",
      "Extracting ./fashion-mnist/t10k-images-idx3-ubyte.gz\n",
      "Extracting ./fashion-mnist/t10k-labels-idx1-ubyte.gz\n",
      "Epoch 1/12\n",
      "55000/55000 [==============================] - 4s 64us/step - loss: 1.1698 - accuracy: 0.6833\n",
      "Epoch 2/12\n",
      "55000/55000 [==============================] - 2s 35us/step - loss: 0.4195 - accuracy: 0.8795\n",
      "Epoch 3/12\n",
      "55000/55000 [==============================] - 2s 35us/step - loss: 0.3369 - accuracy: 0.9018\n",
      "Epoch 4/12\n",
      "55000/55000 [==============================] - 2s 35us/step - loss: 0.2896 - accuracy: 0.9157\n",
      "Epoch 5/12\n",
      "55000/55000 [==============================] - 2s 36us/step - loss: 0.2559 - accuracy: 0.9256\n",
      "Epoch 6/12\n",
      "55000/55000 [==============================] - 2s 35us/step - loss: 0.2282 - accuracy: 0.9340\n",
      "Epoch 7/12\n",
      "55000/55000 [==============================] - 2s 36us/step - loss: 0.2074 - accuracy: 0.9401\n",
      "Epoch 8/12\n",
      "55000/55000 [==============================] - 2s 35us/step - loss: 0.1911 - accuracy: 0.9450\n",
      "Epoch 9/12\n",
      "55000/55000 [==============================] - 2s 35us/step - loss: 0.1782 - accuracy: 0.9492\n",
      "Epoch 10/12\n",
      "55000/55000 [==============================] - 2s 35us/step - loss: 0.1682 - accuracy: 0.9516\n",
      "Epoch 11/12\n",
      "55000/55000 [==============================] - 2s 35us/step - loss: 0.1609 - accuracy: 0.9535\n",
      "Epoch 12/12\n",
      "55000/55000 [==============================] - 2s 38us/step - loss: 0.1535 - accuracy: 0.9559\n"
     ]
    }
   ],
   "source": [
    "from tensorflow.examples.tutorials.mnist import input_data\n",
    "from keras import layers\n",
    "data=input_data.read_data_sets('./fashion-mnist/',one_hot=True)\n",
    "X_train,y_train=data.train.images,data.train.labels\n",
    "X_test,y_test=data.test.images,data.test.labels\n",
    "import tensorflow as tf \n",
    "X_train=X_train.reshape(len(X_train),28,4,-1)\n",
    "X_test=X_test.reshape(len(X_test),28,4,-1)\n",
    "\n"
   ]
  },
  {
   "cell_type": "code",
   "execution_count": 39,
   "metadata": {
    "ExecuteTime": {
     "end_time": "2020-06-07T15:11:53.289153Z",
     "start_time": "2020-06-07T15:11:53.277151Z"
    }
   },
   "outputs": [],
   "source": [
    "from keras.models import Sequential\n",
    "model=Sequential()\n",
    "model.add(layers.Conv2D(12,3,strides=1,padding='same',activation='relu'))\n",
    "model.add(layers.MaxPool2D(3,padding='same'))\n",
    "model.add(layers.Flatten())\n",
    "model.add(layers.Dense(10,activation='softplus'))\n",
    "model.compile(optimizer='adam',loss='categorical_crossentropy',metrics=['accuracy'])\n",
    "history=model.fit(X_train,y_train,epochs=12,batch_size=300)\n",
    "model.load_weights('WeightsH5.h5',by_name=True)"
   ]
  },
  {
   "cell_type": "code",
   "execution_count": 25,
   "metadata": {
    "ExecuteTime": {
     "end_time": "2020-06-07T14:55:35.796185Z",
     "start_time": "2020-06-07T14:55:35.286539Z"
    },
    "collapsed": true
   },
   "outputs": [
    {
     "data": {
      "image/png": "[encoded data removed]",
      "text/plain": [
       "<Figure size 432x288 with 1 Axes>"
      ]
     },
     "metadata": {
      "needs_background": "light"
     },
     "output_type": "display_data"
    }
   ],
   "source": [
    "# model.summary()\n",
    "from matplotlib import pyplot as plt \n",
    "plt.plot(history.history['loss'])\n",
    "plt.show()"
   ]
  },
  {
   "cell_type": "markdown",
   "metadata": {},
   "source": [
    "## 保存模型和加载模型\n",
    "> - 模型的结构，以便重构该模型\n",
    "- 模型的权重\n",
    "- 训练配置（损失函数，优化器等）\n",
    "- 优化器的状态，以便于从上次训练中断的地方开始"
   ]
  },
  {
   "cell_type": "code",
   "execution_count": 34,
   "metadata": {
    "ExecuteTime": {
     "end_time": "2020-06-07T15:04:13.120947Z",
     "start_time": "2020-06-07T15:04:02.354095Z"
    }
   },
   "outputs": [],
   "source": [
    "model.save('ModelH5.h5')"
   ]
  },
  {
   "cell_type": "markdown",
   "metadata": {
    "ExecuteTime": {
     "end_time": "2020-06-07T14:59:34.696504Z",
     "start_time": "2020-06-07T14:59:14.063939Z"
    }
   },
   "source": [
    "from keras.models import load_model \n",
    "c=load_model('ModelH5.h5')\n",
    "c "
   ]
  },
  {
   "cell_type": "markdown",
   "metadata": {
    "ExecuteTime": {
     "end_time": "2020-06-07T15:03:11.654712Z",
     "start_time": "2020-06-07T15:03:11.215087Z"
    }
   },
   "source": [
    "c.predict_classes(X_test)"
   ]
  },
  {
   "cell_type": "markdown",
   "metadata": {},
   "source": [
    "### 只是希望保存模型的结构，而不包含其权重或配置信息"
   ]
  },
  {
   "cell_type": "code",
   "execution_count": 48,
   "metadata": {
    "ExecuteTime": {
     "end_time": "2020-06-07T15:18:56.250499Z",
     "start_time": "2020-06-07T15:18:56.241514Z"
    }
   },
   "outputs": [],
   "source": [
    "v=model.to_json()\n",
    "with open('model.json','w') as f:\n",
    "    f.write(v)  "
   ]
  },
  {
   "cell_type": "code",
   "execution_count": 58,
   "metadata": {
    "ExecuteTime": {
     "end_time": "2020-06-07T15:24:32.995097Z",
     "start_time": "2020-06-07T15:24:32.932084Z"
    }
   },
   "outputs": [
    {
     "data": {
      "text/plain": [
       "'sequential_20'"
      ]
     },
     "execution_count": 58,
     "metadata": {},
     "output_type": "execute_result"
    }
   ],
   "source": [
    "from keras.models import model_from_json \n",
    "with open('model.json','r') as f:\n",
    "    r=model_from_json(f.read())\n",
    "r.name "
   ]
  },
  {
   "cell_type": "markdown",
   "metadata": {},
   "source": [
    "## 保存权重并加载权重"
   ]
  },
  {
   "cell_type": "markdown",
   "metadata": {},
   "source": [
    "model.save_weights('WeightsH5.h5')"
   ]
  },
  {
   "cell_type": "code",
   "execution_count": 44,
   "metadata": {
    "ExecuteTime": {
     "end_time": "2020-06-07T15:15:58.990834Z",
     "start_time": "2020-06-07T15:15:58.923809Z"
    }
   },
   "outputs": [],
   "source": [
    "from keras.models import Sequential\n",
    "model=Sequential()\n",
    "model.add(layers.Conv2D(12,3,strides=1,padding='same',activation='relu'))\n",
    "model.add(layers.MaxPool2D(3,padding='same'))\n",
    "model.add(layers.Flatten())\n",
    "model.add(layers.Dense(10,activation='softplus'))\n",
    "model.load_weights('WeightsH5.h5',by_name=True)"
   ]
  },
  {
   "cell_type": "code",
   "execution_count": 46,
   "metadata": {
    "ExecuteTime": {
     "end_time": "2020-06-07T15:17:11.739791Z",
     "start_time": "2020-06-07T15:17:11.307152Z"
    },
    "collapsed": true
   },
   "outputs": [
    {
     "ename": "RuntimeError",
     "evalue": "You must compile a model before training/testing. Use `model.compile(optimizer, loss)`.",
     "output_type": "error",
     "traceback": [
      "\u001b[1;31m---------------------------------------------------------------------------\u001b[0m",
      "\u001b[1;31mRuntimeError\u001b[0m                              Traceback (most recent call last)",
      "\u001b[1;32m<ipython-input-46-1dfef4346994>\u001b[0m in \u001b[0;36m<module>\u001b[1;34m\u001b[0m\n\u001b[0;32m      1\u001b[0m \u001b[0mX\u001b[0m\u001b[1;33m=\u001b[0m\u001b[0mmodel\u001b[0m\u001b[1;33m.\u001b[0m\u001b[0mpredict_classes\u001b[0m\u001b[1;33m(\u001b[0m\u001b[0mX_test\u001b[0m\u001b[1;33m)\u001b[0m\u001b[1;33m\u001b[0m\u001b[1;33m\u001b[0m\u001b[0m\n\u001b[1;32m----> 2\u001b[1;33m \u001b[0mmodel\u001b[0m\u001b[1;33m.\u001b[0m\u001b[0mevaluate\u001b[0m\u001b[1;33m(\u001b[0m\u001b[0mX\u001b[0m\u001b[1;33m,\u001b[0m\u001b[0my_test\u001b[0m\u001b[1;33m)\u001b[0m\u001b[1;33m\u001b[0m\u001b[1;33m\u001b[0m\u001b[0m\n\u001b[0m",
      "\u001b[1;32mD:\\software\\Python37\\lib\\site-packages\\keras\\engine\\training.py\u001b[0m in \u001b[0;36mevaluate\u001b[1;34m(self, x, y, batch_size, verbose, sample_weight, steps, callbacks, max_queue_size, workers, use_multiprocessing)\u001b[0m\n\u001b[0;32m   1347\u001b[0m             \u001b[0mx\u001b[0m\u001b[1;33m,\u001b[0m \u001b[0my\u001b[0m\u001b[1;33m,\u001b[0m\u001b[1;33m\u001b[0m\u001b[1;33m\u001b[0m\u001b[0m\n\u001b[0;32m   1348\u001b[0m             \u001b[0msample_weight\u001b[0m\u001b[1;33m=\u001b[0m\u001b[0msample_weight\u001b[0m\u001b[1;33m,\u001b[0m\u001b[1;33m\u001b[0m\u001b[1;33m\u001b[0m\u001b[0m\n\u001b[1;32m-> 1349\u001b[1;33m             batch_size=batch_size)\n\u001b[0m\u001b[0;32m   1350\u001b[0m         \u001b[1;31m# Prepare inputs, delegate logic to `test_loop`.\u001b[0m\u001b[1;33m\u001b[0m\u001b[1;33m\u001b[0m\u001b[1;33m\u001b[0m\u001b[0m\n\u001b[0;32m   1351\u001b[0m         \u001b[1;32mif\u001b[0m \u001b[0mself\u001b[0m\u001b[1;33m.\u001b[0m\u001b[0m_uses_dynamic_learning_phase\u001b[0m\u001b[1;33m(\u001b[0m\u001b[1;33m)\u001b[0m\u001b[1;33m:\u001b[0m\u001b[1;33m\u001b[0m\u001b[1;33m\u001b[0m\u001b[0m\n",
      "\u001b[1;32mD:\\software\\Python37\\lib\\site-packages\\keras\\engine\\training.py\u001b[0m in \u001b[0;36m_standardize_user_data\u001b[1;34m(self, x, y, sample_weight, class_weight, check_array_lengths, batch_size)\u001b[0m\n\u001b[0;32m    506\u001b[0m         \u001b[1;32mif\u001b[0m \u001b[0my\u001b[0m \u001b[1;32mis\u001b[0m \u001b[1;32mnot\u001b[0m \u001b[1;32mNone\u001b[0m\u001b[1;33m:\u001b[0m\u001b[1;33m\u001b[0m\u001b[1;33m\u001b[0m\u001b[0m\n\u001b[0;32m    507\u001b[0m             \u001b[1;32mif\u001b[0m \u001b[1;32mnot\u001b[0m \u001b[0mself\u001b[0m\u001b[1;33m.\u001b[0m\u001b[0moptimizer\u001b[0m\u001b[1;33m:\u001b[0m\u001b[1;33m\u001b[0m\u001b[1;33m\u001b[0m\u001b[0m\n\u001b[1;32m--> 508\u001b[1;33m                 raise RuntimeError('You must compile a model before '\n\u001b[0m\u001b[0;32m    509\u001b[0m                                    \u001b[1;34m'training/testing. '\u001b[0m\u001b[1;33m\u001b[0m\u001b[1;33m\u001b[0m\u001b[0m\n\u001b[0;32m    510\u001b[0m                                    'Use `model.compile(optimizer, loss)`.')\n",
      "\u001b[1;31mRuntimeError\u001b[0m: You must compile a model before training/testing. Use `model.compile(optimizer, loss)`."
     ]
    }
   ],
   "source": [
    "model.predict_classes(X_test)"
   ]
  }
 ],
 "metadata": {
  "kernelspec": {
   "display_name": "Python 3.7.5 64-bit",
   "language": "python",
   "name": "python37564bita5f53f9b60c0490aa934da503dc99db2"
  },
  "language_info": {
   "codemirror_mode": {
    "name": "ipython",
    "version": 3
   },
   "file_extension": ".py",
   "mimetype": "text/x-python",
   "name": "python",
   "nbconvert_exporter": "python",
   "pygments_lexer": "ipython3",
   "version": "3.7.5"
  },
  "toc": {
   "base_numbering": 1,
   "nav_menu": {},
   "number_sections": true,
   "sideBar": true,
   "skip_h1_title": false,
   "title_cell": "Table of Contents",
   "title_sidebar": "Contents",
   "toc_cell": false,
   "toc_position": {},
   "toc_section_display": true,
   "toc_window_display": false
  }
 },
 "nbformat": 4,
 "nbformat_minor": 4
}
