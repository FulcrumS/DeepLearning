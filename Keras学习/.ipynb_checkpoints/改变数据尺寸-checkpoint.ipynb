{
 "cells": [
  {
   "cell_type": "code",
   "execution_count": 4,
   "metadata": {
    "ExecuteTime": {
     "end_time": "2020-06-08T01:21:09.241181Z",
     "start_time": "2020-06-08T01:21:08.793083Z"
    }
   },
   "outputs": [
    {
     "name": "stdout",
     "output_type": "stream",
     "text": [
      "Extracting ./fashion-mnist/train-images-idx3-ubyte.gz\n",
      "Extracting ./fashion-mnist/train-labels-idx1-ubyte.gz\n",
      "Extracting ./fashion-mnist/t10k-images-idx3-ubyte.gz\n",
      "Extracting ./fashion-mnist/t10k-labels-idx1-ubyte.gz\n"
     ]
    },
    {
     "data": {
      "text/plain": [
       "(55000, 28, 28, 1)"
      ]
     },
     "execution_count": 4,
     "metadata": {},
     "output_type": "execute_result"
    }
   ],
   "source": [
    "from tensorflow.examples.tutorials.mnist import input_data\n",
    "data = input_data.read_data_sets('./fashion-mnist/', one_hot=True)\n",
    "X = data.train.images\n",
    "X = X.reshape((len(X), 28, 28, -1))\n",
    "X.shape"
   ]
  },
  {
   "cell_type": "markdown",
   "metadata": {},
   "source": [
    "## 方法一 改变图像尺寸\n",
    "> method用于表示改变图像过程用的差值方法。0：双线性差值。1：最近邻居法。2：双三次插值法。3：面积插值法。"
   ]
  },
  {
   "cell_type": "code",
   "execution_count": 6,
   "metadata": {
    "ExecuteTime": {
     "end_time": "2020-06-08T01:22:11.273474Z",
     "start_time": "2020-06-08T01:22:10.534790Z"
    }
   },
   "outputs": [
    {
     "data": {
      "text/plain": [
       "<tf.Tensor 'resize_2/ResizeNearestNeighbor:0' shape=(55000, 224, 224, 1) dtype=float32>"
      ]
     },
     "execution_count": 6,
     "metadata": {},
     "output_type": "execute_result"
    }
   ],
   "source": [
    "from tensorflow.image import resize_images\n",
    "resize_images(X, [224, 224], method=1)"
   ]
  },
  {
   "cell_type": "markdown",
   "metadata": {},
   "source": [
    "## 用0填充图像\n",
    "> 这里就表示上下都补充pad（行/列），所以行数就+2*pad；左右都补充0，所以列数就+2*pad。"
   ]
  },
  {
   "cell_type": "code",
   "execution_count": 9,
   "metadata": {
    "ExecuteTime": {
     "end_time": "2020-06-08T01:27:20.962023Z",
     "start_time": "2020-06-08T01:27:20.954024Z"
    }
   },
   "outputs": [
    {
     "name": "stdout",
     "output_type": "stream",
     "text": [
      "Tensor(\"zero_padding2d_2/Pad:0\", shape=(?, 252, 252, 1), dtype=float32)\n"
     ]
    }
   ],
   "source": [
    "from keras.layers import ZeroPadding2D, Input\n",
    "\n",
    "\n",
    "def network(shape):\n",
    "    X = Input(shape)\n",
    "    X = ZeroPadding2D((112, 112))(X)\n",
    "    print(X)\n",
    "\n",
    "\n",
    "network(X.shape[1:])"
   ]
  }
 ],
 "metadata": {
  "kernelspec": {
   "display_name": "Python 3.7.5 64-bit",
   "language": "python",
   "name": "python37564bita5f53f9b60c0490aa934da503dc99db2"
  },
  "language_info": {
   "codemirror_mode": {
    "name": "ipython",
    "version": 3
   },
   "file_extension": ".py",
   "mimetype": "text/x-python",
   "name": "python",
   "nbconvert_exporter": "python",
   "pygments_lexer": "ipython3",
   "version": "3.7.5"
  },
  "toc": {
   "base_numbering": 1,
   "nav_menu": {},
   "number_sections": true,
   "sideBar": true,
   "skip_h1_title": false,
   "title_cell": "Table of Contents",
   "title_sidebar": "Contents",
   "toc_cell": false,
   "toc_position": {},
   "toc_section_display": true,
   "toc_window_display": false
  }
 },
 "nbformat": 4,
 "nbformat_minor": 4
}
