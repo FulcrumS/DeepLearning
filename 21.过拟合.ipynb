{
 "cells": [
  {
   "cell_type": "code",
   "execution_count": 27,
   "metadata": {},
   "outputs": [
    {
     "data": {
      "text/plain": [
       "\n",
       "[[-1.0643908   1.1329278  -1.2058778 ]\n",
       " [-1.2878599   1.6585832  -2.1360228 ]\n",
       " [-0.59964615  0.3595755  -0.21561807]\n",
       " [-0.25189096  0.06344905 -0.01598224]\n",
       " [ 0.14286116  0.02040931  0.0029157 ]]\n",
       "<NDArray 5x3 @cpu(0)>"
      ]
     },
     "execution_count": 27,
     "metadata": {},
     "output_type": "execute_result"
    }
   ],
   "source": [
    "from mxnet import nd\n",
    "num_train,num_test=100,100\n",
    "X=nd.random.normal(shape=(num_test+num_train,1))\n",
    "X=nd.concat(X,nd.power(X,2),nd.power(X,3))\n",
    "true_w,true_b=[1.4,2.5,5.2],3.3 \n",
    "y=true_w[0]*X[:,0]+true_w[1]*X[:,1]+true_w[2]*X[:,2]+true_b\n",
    "y+=nd.random.normal(shape=y.shape)\n",
    "y_train,y_test=y[:num_train],y[num_train:]\n",
    "x_train,x_test=X[:num_train],X[num_train:]\n",
    "X[:5 ]"
   ]
  },
  {
   "cell_type": "code",
   "execution_count": 28,
   "metadata": {},
   "outputs": [
    {
     "data": {
      "image/png": "[encoded data removed]",
      "text/plain": [
       "<Figure size 432x288 with 1 Axes>"
      ]
     },
     "metadata": {
      "needs_background": "light"
     },
     "output_type": "display_data"
    }
   ],
   "source": [
    "import matplotlib.pyplot as plt\n",
    "from mxnet import gluon, autograd\n",
    "dataset = gluon.data.ArrayDataset(x_train, y_train)\n",
    "batch_size = 1\n",
    "train_iter = gluon.data.DataLoader(dataset, batch_size, shuffle=True)\n",
    "net = gluon.nn.Sequential()\n",
    "net.add(gluon.nn.Dense(1))\n",
    "net.initialize()\n",
    "l2Loss = gluon.loss.L2Loss()\n",
    "trainer = gluon.Trainer(net.collect_params(), 'sgd', {'learning_rate': .01  })\n",
    "epochs = 100\n",
    "train_loss, test_loss = [], []\n",
    "for e in range(epochs):\n",
    "    for data, label in train_iter:\n",
    "        with autograd.record():\n",
    "            y = net(data)\n",
    "            loss = l2Loss(y, label)\n",
    "        loss.backward()\n",
    "        trainer.step(batch_size)\n",
    "    train_loss += [l2Loss(net(x_train), y_train).mean().asscalar()]\n",
    "    test_loss += [l2Loss(net(x_test), y_test).mean().asscalar()]\n",
    "\n",
    "plt.plot(train_loss, label='train_loss')\n",
    "plt.plot(test_loss, label='test_loss')\n",
    "plt.legend()\n",
    "plt.show()"
   ]
  },
  {
   "cell_type": "code",
   "execution_count": 29,
   "metadata": {},
   "outputs": [
    {
     "data": {
      "text/plain": [
       "(\n",
       " [[1.3526151 2.6964266 5.02503  ]]\n",
       " <NDArray 1x3 @cpu(0)>, \n",
       " [3.3035798]\n",
       " <NDArray 1 @cpu(0)>)"
      ]
     },
     "execution_count": 29,
     "metadata": {},
     "output_type": "execute_result"
    }
   ],
   "source": [
    "dense=net[0]\n",
    "dense.weight.data(),dense.bias.data()"
   ]
  }
 ],
 "metadata": {
  "kernelspec": {
   "display_name": "Python 3.7.2 64-bit",
   "language": "python",
   "name": "python37264bit976359a467c3400289726740d00d4381"
  },
  "language_info": {
   "codemirror_mode": {
    "name": "ipython",
    "version": 3
   },
   "file_extension": ".py",
   "mimetype": "text/x-python",
   "name": "python",
   "nbconvert_exporter": "python",
   "pygments_lexer": "ipython3",
   "version": "3.7.2"
  }
 },
 "nbformat": 4,
 "nbformat_minor": 2
}
