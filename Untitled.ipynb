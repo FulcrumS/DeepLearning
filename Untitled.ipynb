{
 "cells": [
  {
   "cell_type": "code",
   "execution_count": 60,
   "metadata": {
    "ExecuteTime": {
     "end_time": "2020-06-13T00:30:23.577775Z",
     "start_time": "2020-06-13T00:30:23.572784Z"
    },
    "scrolled": true
   },
   "outputs": [
    {
     "data": {
      "text/plain": [
       "False"
      ]
     },
     "execution_count": 60,
     "metadata": {},
     "output_type": "execute_result"
    }
   ],
   "source": [
    "import torch as t \n",
    "t.cuda.is_available()"
   ]
  },
  {
   "cell_type": "code",
   "execution_count": 36,
   "metadata": {
    "ExecuteTime": {
     "end_time": "2020-06-07T04:36:33.552136Z",
     "start_time": "2020-06-07T04:36:33.545144Z"
    },
    "scrolled": true
   },
   "outputs": [
    {
     "name": "stdout",
     "output_type": "stream",
     "text": [
      "[ True False] [1 2] [5 6]\n",
      "[ True False]\n",
      "[1 2]\n",
      "[5 6]\n",
      "-------\n",
      "[False  True] [3 4] [7 8]\n",
      "[False  True]\n",
      "[3 4]\n",
      "[7 8]\n",
      "-------\n"
     ]
    },
    {
     "data": {
      "text/plain": [
       "array([[1, 6],\n",
       "       [6, 4]])"
      ]
     },
     "execution_count": 36,
     "metadata": {},
     "output_type": "execute_result"
    }
   ],
   "source": [
    "# [xv if c else yv for (c,xv,yv) in zip(condition,x,y)]\n",
    "condition=np.array([[True, False], [False, True]])\n",
    "x=np.array([[1, 2], [3, 4]])\n",
    "y=np.array([[5,6], [7,8]])\n",
    "for (c,xv,yv) in zip(condition,x,y):\n",
    "    print(c,xv,yv)\n",
    "    for j in (c,xv,yv):\n",
    "        print(j)\n",
    "    print('-------')\n",
    "# [xv if c else yv for (c,xv,yv) in zip(condition,x,y)]\n",
    "np.where(p)"
   ]
  }
 ],
 "metadata": {
  "kernelspec": {
   "display_name": "Python 3.7.5 64-bit",
   "language": "python",
   "name": "python37564bita5f53f9b60c0490aa934da503dc99db2"
  },
  "language_info": {
   "codemirror_mode": {
    "name": "ipython",
    "version": 3
   },
   "file_extension": ".py",
   "mimetype": "text/x-python",
   "name": "python",
   "nbconvert_exporter": "python",
   "pygments_lexer": "ipython3",
   "version": "3.7.5"
  },
  "toc": {
   "base_numbering": 1,
   "nav_menu": {},
   "number_sections": true,
   "sideBar": true,
   "skip_h1_title": false,
   "title_cell": "Table of Contents",
   "title_sidebar": "Contents",
   "toc_cell": false,
   "toc_position": {},
   "toc_section_display": true,
   "toc_window_display": false
  }
 },
 "nbformat": 4,
 "nbformat_minor": 4
}
