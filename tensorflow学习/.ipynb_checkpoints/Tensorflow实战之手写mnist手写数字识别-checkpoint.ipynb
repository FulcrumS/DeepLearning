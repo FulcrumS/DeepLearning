{
 "cells": [
  {
   "cell_type": "code",
   "execution_count": 2,
   "metadata": {
    "ExecuteTime": {
     "end_time": "2020-06-05T07:46:27.823251Z",
     "start_time": "2020-06-05T07:46:27.003067Z"
    }
   },
   "outputs": [
    {
     "name": "stdout",
     "output_type": "stream",
     "text": [
      "Extracting fashion-mnist/train-images-idx3-ubyte.gz\n",
      "Extracting fashion-mnist/train-labels-idx1-ubyte.gz\n",
      "Extracting fashion-mnist/t10k-images-idx3-ubyte.gz\n",
      "Extracting fashion-mnist/t10k-labels-idx1-ubyte.gz\n"
     ]
    }
   ],
   "source": [
    "from tensorflow.examples.tutorials.mnist import input_data \n",
    "import tensorflow as tf \n",
    "import numpy as np \n",
    "mnist=input_data.read_data_sets('fashion-mnist/',one_hot=True)  \n",
    "x,y=tf.placeholder(tf.float32,shape=[None,784]),tf.placeholder(tf.float32,shape=[None,10])"
   ]
  },
  {
   "cell_type": "markdown",
   "metadata": {},
   "source": [
    "### 全连接层实现"
   ]
  },
  {
   "cell_type": "code",
   "execution_count": 80,
   "metadata": {
    "ExecuteTime": {
     "end_time": "2020-06-04T09:17:48.998433Z",
     "start_time": "2020-06-04T09:17:47.295769Z"
    },
    "collapsed": true
   },
   "outputs": [
    {
     "name": "stdout",
     "output_type": "stream",
     "text": [
      "0: 0.2302585244178772\n",
      "200: 0.1959732472896576\n",
      "400: 0.16920499503612518\n",
      "600: 0.15360020101070404\n",
      "800: 0.14478711783885956\n",
      "0.6623\n"
     ]
    }
   ],
   "source": [
    "w=tf.Variable(tf.zeros([784,10]))\n",
    "b=tf.Variable(tf.zeros([10]))\n",
    "y_hat=tf.nn.softmax(tf.matmul(x,w)+b)\n",
    "loss=-tf.reduce_mean(y*tf.log(y_hat))\n",
    "trainer=tf.train.GradientDescentOptimizer(.01).minimize(loss)\n",
    "sess=tf.InteractiveSession()\n",
    "sess.run(tf.global_variables_initializer())\n",
    "for i in range(1000):\n",
    "    batch=mnist.train.next_batch(80)\n",
    "    _,los=sess.run([trainer,loss],feed_dict={x:batch[0],y:batch[1]})\n",
    "    if i%200==0:\n",
    "        print(f\"{i}: {los}\")\n",
    "pred=tf.equal(tf.argmax(y,1),tf.argmax(y_hat,1))\n",
    "accuracy=tf.reduce_mean(tf.cast(pred,'float'))\n",
    "print(accuracy.eval(feed_dict={x:mnist.test.images,y:mnist.test.labels})) "
   ]
  },
  {
   "cell_type": "markdown",
   "metadata": {},
   "source": [
    "### CNN实现"
   ]
  },
  {
   "cell_type": "code",
   "execution_count": 4,
   "metadata": {
    "ExecuteTime": {
     "end_time": "2020-06-05T07:48:41.032714Z",
     "start_time": "2020-06-05T07:48:38.061417Z"
    }
   },
   "outputs": [
    {
     "name": "stdout",
     "output_type": "stream",
     "text": [
      "WARNING:tensorflow:From <ipython-input-4-1bcd82407d87>:26: calling dropout (from tensorflow.python.ops.nn_ops) with keep_prob is deprecated and will be removed in a future version.\n",
      "Instructions for updating:\n",
      "Please use `rate` instead of `keep_prob`. Rate should be set to `rate = 1 - keep_prob`.\n",
      "(60, 3136)\n",
      "(60, 3136)\n",
      "(60, 3136)\n",
      "(60, 3136)\n",
      "(60, 3136)\n"
     ]
    },
    {
     "data": {
      "image/png": "[encoded data removed]",
      "text/plain": [
       "<Figure size 432x288 with 1 Axes>"
      ]
     },
     "metadata": {
      "needs_background": "light"
     },
     "output_type": "display_data"
    },
    {
     "name": "stdout",
     "output_type": "stream",
     "text": [
      "0.1799\n"
     ]
    }
   ],
   "source": [
    "def weight_var(shape):\n",
    "    return tf.Variable(tf.truncated_normal(shape,stddev=.1))\n",
    "def bias_var(shape):\n",
    "    return tf.Variable(tf.zeros(shape))\n",
    "def conv2d(x,w):\n",
    "    return tf.nn.conv2d(x,w,strides=2,padding='SAME')\n",
    "def max_pool(x):\n",
    "    return tf.nn.max_pool(x,ksize=3,strides=1,padding='SAME')\n",
    "w_conv1=weight_var([5,5,1,32])\n",
    "b_conv1=bias_var([32])\n",
    "x_images=tf.reshape(x,[-1,28,28,1])\n",
    "h_conv1=tf.nn.relu(conv2d(x_images,w_conv1)+b_conv1)\n",
    "h_pool1=max_pool(h_conv1)\n",
    "\n",
    "w_conv2=weight_var([5,5,32,64])\n",
    "b_conv2=bias_var([64])\n",
    "h_conv2=tf.nn.relu(conv2d(h_pool1,w_conv2)+b_conv2)\n",
    "h_pool2=max_pool(h_conv2)\n",
    "# 全连接层 \n",
    "features=int(np.prod(h_pool2.shape[1:]))\n",
    "w_fc1=weight_var([features,1024])\n",
    "b_fc1=bias_var([1024])\n",
    "h_pool2_flat=tf.reshape(h_pool2,[-1,features])\n",
    "h_fc1=tf.nn.relu(tf.matmul(h_pool2_flat,w_fc1)+b_fc1)\n",
    "\n",
    "keep_prob=tf.placeholder('float')\n",
    "h_fc1_drop=tf.nn.dropout(h_fc1,keep_prob)\n",
    "\n",
    "w_fc2=weight_var([1024,10])\n",
    "b_fc2=bias_var([10])\n",
    "y_conv=tf.nn.softmax(tf.matmul(h_fc1_drop,w_fc2)+b_fc2)\n",
    "\n",
    "\n",
    "cross_entropy =-tf.reduce_mean(y*tf.log(y_conv))\n",
    "trainer=tf.train.AdamOptimizer().minimize(cross_entropy)\n",
    "sess=tf.InteractiveSession() \n",
    "sess.run(tf.global_variables_initializer())\n",
    "costs=[]\n",
    "for i in range(5):\n",
    "    batch=mnist.train.next_batch(60)\n",
    "    _,cost,mypoo=sess.run([trainer,cross_entropy,h_pool2_flat],feed_dict={x:batch[0],y:batch[1],keep_prob:.4})\n",
    "    costs+=[cost]\n",
    "    print(mypoo.shape)\n",
    "from matplotlib import pyplot as plt \n",
    "plt.plot(costs)\n",
    "plt.show()\n",
    "accuracy=tf.reduce_mean(tf.cast(tf.equal(tf.argmax(y,1),tf.argmax(y_conv,1)),'float'))\n",
    "print(accuracy.eval(feed_dict={x:mnist.test.images,y:mnist.test.labels,keep_prob:.4}))\n",
    "sess.close()"
   ]
  }
 ],
 "metadata": {
  "kernelspec": {
   "display_name": "Python 3.7.5 64-bit",
   "language": "python",
   "name": "python37564bita5f53f9b60c0490aa934da503dc99db2"
  },
  "language_info": {
   "codemirror_mode": {
    "name": "ipython",
    "version": 3
   },
   "file_extension": ".py",
   "mimetype": "text/x-python",
   "name": "python",
   "nbconvert_exporter": "python",
   "pygments_lexer": "ipython3",
   "version": "3.7.5"
  },
  "toc": {
   "base_numbering": 1,
   "nav_menu": {},
   "number_sections": true,
   "sideBar": true,
   "skip_h1_title": false,
   "title_cell": "Table of Contents",
   "title_sidebar": "Contents",
   "toc_cell": false,
   "toc_position": {},
   "toc_section_display": true,
   "toc_window_display": false
  }
 },
 "nbformat": 4,
 "nbformat_minor": 4
}
