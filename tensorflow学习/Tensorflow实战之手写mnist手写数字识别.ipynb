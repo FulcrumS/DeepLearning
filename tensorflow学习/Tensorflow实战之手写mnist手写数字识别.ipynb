{
 "cells": [
  {
   "cell_type": "code",
   "execution_count": 2,
   "metadata": {
    "ExecuteTime": {
     "end_time": "2020-06-10T12:28:08.986871Z",
     "start_time": "2020-06-10T12:28:04.671880Z"
    },
    "collapsed": true
   },
   "outputs": [
    {
     "name": "stdout",
     "output_type": "stream",
     "text": [
      "WARNING:tensorflow:From <ipython-input-2-08b7d6e41a1a>:4: read_data_sets (from tensorflow.contrib.learn.python.learn.datasets.mnist) is deprecated and will be removed in a future version.\n",
      "Instructions for updating:\n",
      "Please use alternatives such as official/mnist/dataset.py from tensorflow/models.\n",
      "WARNING:tensorflow:From D:\\software\\Python37\\lib\\site-packages\\tensorflow\\contrib\\learn\\python\\learn\\datasets\\mnist.py:260: maybe_download (from tensorflow.contrib.learn.python.learn.datasets.base) is deprecated and will be removed in a future version.\n",
      "Instructions for updating:\n",
      "Please write your own downloading logic.\n",
      "WARNING:tensorflow:From D:\\software\\Python37\\lib\\site-packages\\tensorflow\\contrib\\learn\\python\\learn\\datasets\\mnist.py:262: extract_images (from tensorflow.contrib.learn.python.learn.datasets.mnist) is deprecated and will be removed in a future version.\n",
      "Instructions for updating:\n",
      "Please use tf.data to implement this functionality.\n",
      "Extracting fashion-mnist/train-images-idx3-ubyte.gz\n",
      "WARNING:tensorflow:From D:\\software\\Python37\\lib\\site-packages\\tensorflow\\contrib\\learn\\python\\learn\\datasets\\mnist.py:267: extract_labels (from tensorflow.contrib.learn.python.learn.datasets.mnist) is deprecated and will be removed in a future version.\n",
      "Instructions for updating:\n",
      "Please use tf.data to implement this functionality.\n",
      "Extracting fashion-mnist/train-labels-idx1-ubyte.gz\n",
      "WARNING:tensorflow:From D:\\software\\Python37\\lib\\site-packages\\tensorflow\\contrib\\learn\\python\\learn\\datasets\\mnist.py:110: dense_to_one_hot (from tensorflow.contrib.learn.python.learn.datasets.mnist) is deprecated and will be removed in a future version.\n",
      "Instructions for updating:\n",
      "Please use tf.one_hot on tensors.\n",
      "Extracting fashion-mnist/t10k-images-idx3-ubyte.gz\n",
      "Extracting fashion-mnist/t10k-labels-idx1-ubyte.gz\n",
      "WARNING:tensorflow:From D:\\software\\Python37\\lib\\site-packages\\tensorflow\\contrib\\learn\\python\\learn\\datasets\\mnist.py:290: DataSet.__init__ (from tensorflow.contrib.learn.python.learn.datasets.mnist) is deprecated and will be removed in a future version.\n",
      "Instructions for updating:\n",
      "Please use alternatives such as official/mnist/dataset.py from tensorflow/models.\n"
     ]
    }
   ],
   "source": [
    "from tensorflow.examples.tutorials.mnist import input_data \n",
    "import tensorflow as tf \n",
    "import numpy as np \n",
    "mnist=input_data.read_data_sets('fashion-mnist/',one_hot=True)  \n",
    "x,y=tf.placeholder(tf.float32,shape=[None,784],name=\"input_x\"),tf.placeholder(tf.float32,shape=[None,10])"
   ]
  },
  {
   "cell_type": "markdown",
   "metadata": {
    "heading_collapsed": true
   },
   "source": [
    "### 全连接层实现"
   ]
  },
  {
   "cell_type": "code",
   "execution_count": 10,
   "metadata": {
    "ExecuteTime": {
     "end_time": "2020-06-10T11:38:14.334408Z",
     "start_time": "2020-06-10T11:38:11.729822Z"
    },
    "collapsed": true,
    "hidden": true
   },
   "outputs": [
    {
     "name": "stdout",
     "output_type": "stream",
     "text": [
      "0: 0.2302585393190384\n",
      "200: 0.21224364638328552\n",
      "400: 0.19491058588027954\n",
      "600: 0.18539945781230927\n",
      "800: 0.1670871376991272\n",
      "0.7908\n",
      "[7 2 1 ... 4 8 6]\n"
     ]
    }
   ],
   "source": [
    "w=tf.Variable(tf.zeros([784,10]))\n",
    "b=tf.Variable(tf.zeros([10]))\n",
    "y_hat=tf.nn.softmax(tf.matmul(x,w)+b,name=\"output_y\")\n",
    "loss=-tf.reduce_mean(y*tf.log(y_hat))\n",
    "trainer=tf.train.GradientDescentOptimizer(.01).minimize(loss)\n",
    "sess=tf.InteractiveSession()\n",
    "sess.run(tf.global_variables_initializer())\n",
    "for i in range(1000):\n",
    "    batch=mnist.train.next_batch(80)\n",
    "    _,los=sess.run([trainer,loss],feed_dict={x:batch[0],y:batch[1]})\n",
    "    if i%200==0:\n",
    "        print(f\"{i}: {los}\")\n",
    "pred=tf.equal(tf.argmax(y,1),tf.argmax(y_hat,1))\n",
    "accuracy=tf.reduce_mean(tf.cast(pred,'float'))\n",
    "print(accuracy.eval(feed_dict={x:mnist.test.images,y:mnist.test.labels})) \n",
    "# ---------预测-------------\n",
    "tf.train.Saver().save(sess, save_path='./mnist_model/mnist_model.ckpt')\n",
    "plan=tf.argmax(y_hat,axis=1)\n",
    "print(plan.eval(feed_dict={x:mnist.test.images})) \n",
    "# --------------------------\n",
    "sess.close()"
   ]
  },
  {
   "cell_type": "markdown",
   "metadata": {},
   "source": [
    "### CNN实现"
   ]
  },
  {
   "cell_type": "code",
   "execution_count": 3,
   "metadata": {
    "ExecuteTime": {
     "end_time": "2020-06-10T12:28:15.188703Z",
     "start_time": "2020-06-10T12:28:12.837173Z"
    }
   },
   "outputs": [
    {
     "name": "stdout",
     "output_type": "stream",
     "text": [
      "WARNING:tensorflow:From <ipython-input-3-5363dece77c3>:31: calling dropout (from tensorflow.python.ops.nn_ops) with keep_prob is deprecated and will be removed in a future version.\n",
      "Instructions for updating:\n",
      "Please use `rate` instead of `keep_prob`. Rate should be set to `rate = 1 - keep_prob`.\n",
      "WARNING:tensorflow:Large dropout rate: 0.6 (>0.5). In TensorFlow 2.x, dropout() uses dropout rate instead of keep_prob. Please ensure that this is intended.\n",
      "(60, 784)\n",
      "(60, 3136)\n",
      "(60, 784)\n",
      "(60, 3136)\n",
      "(60, 784)\n",
      "(60, 3136)\n",
      "(60, 784)\n",
      "(60, 3136)\n",
      "(60, 784)\n",
      "(60, 3136)\n"
     ]
    },
    {
     "data": {
      "image/png": "[encoded data removed]",
      "text/plain": [
       "<Figure size 432x288 with 1 Axes>"
      ]
     },
     "metadata": {
      "needs_background": "light"
     },
     "output_type": "display_data"
    },
    {
     "name": "stdout",
     "output_type": "stream",
     "text": [
      "0.2023\n"
     ]
    }
   ],
   "source": [
    "def weight_var(shape):\n",
    "    return tf.Variable(tf.truncated_normal(shape,stddev=.1))\n",
    "def bias_var(shape):\n",
    "    return tf.Variable(tf.zeros(shape))\n",
    "def conv2d(x,w):\n",
    "    return tf.nn.conv2d(x,w,strides=2,padding='SAME')\n",
    "def max_pool(x):\n",
    "    return tf.nn.max_pool(x,ksize=3,strides=1,padding='SAME')\n",
    "\n",
    "\n",
    "sess=tf.InteractiveSession() \n",
    "w_conv1=weight_var([5,5,1,32])\n",
    "b_conv1=bias_var([32])\n",
    "x_images=tf.reshape(x,[-1,28,28,1])\n",
    "h_conv1=tf.nn.relu(conv2d(x_images,w_conv1)+b_conv1)\n",
    "h_pool1=max_pool(h_conv1)\n",
    "\n",
    "w_conv2=weight_var([5,5,32,64])\n",
    "b_conv2=bias_var([64])\n",
    "h_conv2=tf.nn.relu(conv2d(h_pool1,w_conv2)+b_conv2)\n",
    "h_pool2=max_pool(h_conv2)\n",
    "# 全连接层 \n",
    "features=int(np.prod(h_pool2.shape[1:]))\n",
    "w_fc1=weight_var([features,1024])\n",
    "b_fc1=bias_var([1024])\n",
    "h_pool2_flat=tf.reshape(h_pool2,[-1,features])\n",
    "h_fc1=tf.nn.relu(tf.matmul(h_pool2_flat,w_fc1)+b_fc1)\n",
    "\n",
    "# keep_prob=tf.placeholder('float')\n",
    "keep_prob=.4 \n",
    "h_fc1_drop=tf.nn.dropout(h_fc1,keep_prob)\n",
    "\n",
    "w_fc2=weight_var([1024,10])\n",
    "b_fc2=bias_var([10])\n",
    "y_conv=tf.nn.softmax(tf.matmul(h_fc1_drop,w_fc2)+b_fc2,name=\"output_y\")\n",
    "\n",
    "\n",
    "cross_entropy =-tf.reduce_mean(y*tf.log(y_conv))\n",
    "\n",
    "trainer=tf.train.AdamOptimizer().minimize(cross_entropy)\n",
    "# sess=tf.InteractiveSession() \n",
    "# sess.run(tf.initialize_all_variables())\n",
    "sess.run(tf.global_variables_initializer())\n",
    "costs=[]\n",
    "for i in range(5):\n",
    "    batch=mnist.train.next_batch(60)\n",
    "    print(batch[0].shape )\n",
    "    _,cost,mypoo=sess.run([trainer,cross_entropy,h_pool2_flat],feed_dict={x:batch[0],y:batch[1]})\n",
    "    costs+=[cost]\n",
    "    print(mypoo.shape)\n",
    "from matplotlib import pyplot as plt \n",
    "plt.plot(costs)\n",
    "plt.show()\n",
    "accuracy=tf.reduce_mean(tf.cast(tf.equal(tf.argmax(y,1),tf.argmax(y_conv,1)),'float'))\n",
    "print(accuracy.eval(feed_dict={x:mnist.test.images,y:mnist.test.labels}))"
   ]
  },
  {
   "cell_type": "code",
   "execution_count": 7,
   "metadata": {
    "ExecuteTime": {
     "end_time": "2020-06-10T12:28:51.277830Z",
     "start_time": "2020-06-10T12:28:51.025759Z"
    }
   },
   "outputs": [
    {
     "data": {
      "text/plain": [
       "'./mnist_model/mnist_model.ckpt'"
      ]
     },
     "execution_count": 7,
     "metadata": {},
     "output_type": "execute_result"
    }
   ],
   "source": [
    "tf.train.Saver().save(sess, save_path='./mnist_model/mnist_model.ckpt')"
   ]
  },
  {
   "cell_type": "code",
   "execution_count": 121,
   "metadata": {
    "ExecuteTime": {
     "end_time": "2020-06-10T10:40:05.888832Z",
     "start_time": "2020-06-10T10:40:05.882831Z"
    },
    "scrolled": true
   },
   "outputs": [
    {
     "data": {
      "text/plain": [
       "(10000, 784)"
      ]
     },
     "execution_count": 121,
     "metadata": {},
     "output_type": "execute_result"
    }
   ],
   "source": [
    "mnist.test.images.shape"
   ]
  },
  {
   "cell_type": "code",
   "execution_count": 6,
   "metadata": {
    "ExecuteTime": {
     "end_time": "2020-06-10T12:28:37.297890Z",
     "start_time": "2020-06-10T12:28:36.282661Z"
    }
   },
   "outputs": [
    {
     "data": {
      "text/plain": [
       "array([4, 0, 1, ..., 6, 7, 0], dtype=int64)"
      ]
     },
     "execution_count": 6,
     "metadata": {},
     "output_type": "execute_result"
    }
   ],
   "source": [
    "accuracy=tf.argmax(y_conv,1)\n",
    "v=accuracy.eval(feed_dict={x:mnist.test.images})\n",
    "v "
   ]
  },
  {
   "cell_type": "code",
   "execution_count": 123,
   "metadata": {
    "ExecuteTime": {
     "end_time": "2020-06-10T10:40:06.971075Z",
     "start_time": "2020-06-10T10:40:06.906061Z"
    }
   },
   "outputs": [],
   "source": [
    "sess.close()"
   ]
  }
 ],
 "metadata": {
  "kernelspec": {
   "display_name": "Python 3.7.5 64-bit",
   "language": "python",
   "name": "python37564bita5f53f9b60c0490aa934da503dc99db2"
  },
  "language_info": {
   "codemirror_mode": {
    "name": "ipython",
    "version": 3
   },
   "file_extension": ".py",
   "mimetype": "text/x-python",
   "name": "python",
   "nbconvert_exporter": "python",
   "pygments_lexer": "ipython3",
   "version": "3.7.5"
  },
  "toc": {
   "base_numbering": 1,
   "nav_menu": {},
   "number_sections": true,
   "sideBar": true,
   "skip_h1_title": false,
   "title_cell": "Table of Contents",
   "title_sidebar": "Contents",
   "toc_cell": false,
   "toc_position": {},
   "toc_section_display": true,
   "toc_window_display": false
  }
 },
 "nbformat": 4,
 "nbformat_minor": 4
}
