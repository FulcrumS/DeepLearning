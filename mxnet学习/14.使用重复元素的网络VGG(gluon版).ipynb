{
 "cells": [
  {
   "cell_type": "code",
   "execution_count": null,
   "metadata": {
    "ExecuteTime": {
     "start_time": "2020-05-03T13:44:41.508Z"
    }
   },
   "outputs": [],
   "source": [
    "from mxnet import nd\n",
    "from mxnet.gluon.loss import SoftmaxCrossEntropyLoss\n",
    "from utils.train import train\n",
    "from utils.evaluate_acc import evaluate_acc\n",
    "from utils.try_gpu import try_gpu\n",
    "from utils.load_data_fashion_mnist import load_data_fashion_mnist\n",
    "from mxnet import init\n",
    "from mxnet.gluon import nn\n",
    "\n",
    "\n",
    "def vggBlock(num_conv, num_channel):\n",
    "    bl = nn.Sequential()\n",
    "    for _ in range(num_conv):\n",
    "        bl.add(nn.Conv2D(num_channel, kernel_size=3, padding=1, activation='relu'))\n",
    "    bl.add(nn.MaxPool2D(pool_size=2, strides=2))\n",
    "    return bl\n",
    "\n",
    "\n",
    "conv_arch = ((1, 64), (1, 128), (2, 256), (2, 512), (2, 512))\n",
    "\n",
    "\n",
    "def vgg(conv_arch):\n",
    "    v = nn.Sequential()\n",
    "    for num_conv, num_channel in conv_arch:\n",
    "        v.add(vggBlock(num_conv, num_channel))\n",
    "    v.add(nn.Dense(4096, activation='relu'),\n",
    "          nn.Dropout(.5),\n",
    "          nn.Dense(4096, activation='relu'),\n",
    "          nn.Dropout(.5),\n",
    "          nn.Dense(10))\n",
    "    return v\n",
    "\n",
    "\n",
    "net = vgg(conv_arch)\n",
    "net.initialize()\n",
    "# X=nd.uniform(shape=(1,1,224,224))\n",
    "# for layer in net:\n",
    "#     X=layer(X)\n",
    "#     print(f\"{layer.name}'s output shape: {X.shape}'\")\n",
    "ratio = 4\n",
    "smaller_conv = [(p[0], p[1]//4) for p in conv_arch]\n",
    "net = vgg(smaller_conv)\n",
    "batch_size, root, resize = 256, 'fashion-mnist/', 224\n",
    "train_iter, test_iter = load_data_fashion_mnist(batch_size, root, resize)\n",
    "ctx = try_gpu()\n",
    "net.initialize(ctx=ctx, init=init.Xavier())\n",
    "epochs, lr, loss = 5, .1, SoftmaxCrossEntropyLoss()\n",
    "from mxnet.gluon import Trainer\n",
    "trainer = Trainer(net.collect_params(), 'sgd', {'learning_rate': lr})\n",
    "train(train_iter, test_iter, batch_size, net,\n",
    "      epochs, lr, ctx, trainer,loss, evaluate_acc)"
   ]
  },
  {
   "cell_type": "code",
   "execution_count": 7,
   "metadata": {
    "ExecuteTime": {
     "end_time": "2020-05-03T13:46:43.672987Z",
     "start_time": "2020-05-03T13:46:43.668987Z"
    }
   },
   "outputs": [
    {
     "ename": "SyntaxError",
     "evalue": "invalid syntax (<string>, line 1)",
     "output_type": "error",
     "traceback": [
      "Traceback \u001b[1;36m(most recent call last)\u001b[0m:\n",
      "  File \u001b[0;32m\"D:\\software\\Python37\\lib\\site-packages\\IPython\\core\\interactiveshell.py\"\u001b[0m, line \u001b[0;32m3331\u001b[0m, in \u001b[0;35mrun_code\u001b[0m\n    exec(code_obj, self.user_global_ns, self.user_ns)\n",
      "\u001b[1;36m  File \u001b[1;32m\"<ipython-input-7-88f0de8e92fb>\"\u001b[1;36m, line \u001b[1;32m1\u001b[1;36m, in \u001b[1;35m<module>\u001b[1;36m\u001b[0m\n\u001b[1;33m    print(eval(\"12+89 to \"))\u001b[0m\n",
      "\u001b[1;36m  File \u001b[1;32m\"<string>\"\u001b[1;36m, line \u001b[1;32m1\u001b[0m\n\u001b[1;33m    12+89 to\u001b[0m\n\u001b[1;37m           ^\u001b[0m\n\u001b[1;31mSyntaxError\u001b[0m\u001b[1;31m:\u001b[0m invalid syntax\n"
     ]
    }
   ],
   "source": [
    "print(eval(\"12+89 to \"))"
   ]
  }
 ],
 "metadata": {
  "kernelspec": {
   "display_name": "Python 3.7.5 64-bit",
   "language": "python",
   "name": "python37564bita5f53f9b60c0490aa934da503dc99db2"
  },
  "language_info": {
   "codemirror_mode": {
    "name": "ipython",
    "version": 3
   },
   "file_extension": ".py",
   "mimetype": "text/x-python",
   "name": "python",
   "nbconvert_exporter": "python",
   "pygments_lexer": "ipython3",
   "version": "3.7.5"
  },
  "toc": {
   "base_numbering": 1,
   "nav_menu": {},
   "number_sections": true,
   "sideBar": true,
   "skip_h1_title": false,
   "title_cell": "Table of Contents",
   "title_sidebar": "Contents",
   "toc_cell": false,
   "toc_position": {},
   "toc_section_display": true,
   "toc_window_display": false
  }
 },
 "nbformat": 4,
 "nbformat_minor": 4
}
