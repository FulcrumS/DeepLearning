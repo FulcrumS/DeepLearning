{
 "cells": [
  {
   "cell_type": "markdown",
   "metadata": {
    "ExecuteTime": {
     "end_time": "2020-05-13T08:57:12.049299Z",
     "start_time": "2020-05-13T08:57:12.044297Z"
    }
   },
   "source": [
    "##### 1. nn.Block.name_scope(): 为每一个层或参数添加在系统中独一无二的name(prefix+\"dense\")\n",
    "####  对forward()自动生成backward()"
   ]
  },
  {
   "cell_type": "code",
   "execution_count": 1,
   "metadata": {
    "ExecuteTime": {
     "end_time": "2020-05-14T01:47:29.154507Z",
     "start_time": "2020-05-14T01:47:27.289089Z"
    }
   },
   "outputs": [
    {
     "name": "stdout",
     "output_type": "stream",
     "text": [
      "X.shape: \n",
      "before:(5, 4, 2, 5)\n",
      "After dense0:(5, 256)\n",
      "After dense1: (5, 10)\n"
     ]
    },
    {
     "data": {
      "text/plain": [
       "(\n",
       " [[ 0.03207505 -0.13214687 -0.01917468 -0.10339475 -0.09550501  0.09729765\n",
       "   -0.03277578  0.00927344  0.05275003 -0.02885164]\n",
       "  [ 0.05110409 -0.03583925  0.02581121 -0.06956408 -0.00596018  0.158152\n",
       "    0.05687293  0.00089315  0.0639057  -0.05084788]\n",
       "  [ 0.05193184 -0.03240399 -0.02085465 -0.10293196 -0.05543653  0.11844829\n",
       "   -0.01310616 -0.02696566  0.07564146 -0.03185817]\n",
       "  [ 0.05791519 -0.09516785 -0.00303951 -0.09192937 -0.06963897  0.03071369\n",
       "   -0.0009858   0.03261724  0.02710678 -0.05461043]\n",
       "  [-0.00385509 -0.07300236  0.01278732 -0.09285736 -0.04360339  0.0752065\n",
       "    0.0281924  -0.04088405 -0.01842174 -0.03803179]]\n",
       " <NDArray 5x10 @cpu(0)>,\n",
       " 'init_demo_dense0')"
      ]
     },
     "execution_count": 1,
     "metadata": {},
     "output_type": "execute_result"
    }
   ],
   "source": [
    "from mxnet.gluon import nn\n",
    "class net(nn.Block):\n",
    "    def __init__(self,**kw):\n",
    "        super(net,self).__init__(**kw)\n",
    "        with self.name_scope():\n",
    "            self.dense0=nn.Dense(256)\n",
    "            self.dense1=nn.Dense(10)\n",
    "    def forward(self,x):\n",
    "        print(\"X.shape: \")\n",
    "        print(f\"before:{x.shape}\")\n",
    "        x=self.dense0(x);\n",
    "        x=nd.relu(x)\n",
    "        print(f\"After dense0:{x.shape}\")\n",
    "        x=self.dense1(x)\n",
    "        print(f\"After dense1: {x.shape}\")\n",
    "        return x\n",
    "myNet=net(prefix=\"init_demo_\")\n",
    "from mxnet import nd \n",
    "x=nd.uniform(shape=(5,4,2,5))\n",
    "myNet.initialize()\n",
    "y=myNet(x)\n",
    "y,myNet.dense0.name"
   ]
  },
  {
   "cell_type": "code",
   "execution_count": 2,
   "metadata": {
    "ExecuteTime": {
     "end_time": "2020-05-14T01:47:29.203519Z",
     "start_time": "2020-05-14T01:47:29.158508Z"
    },
    "scrolled": true
   },
   "outputs": [
    {
     "name": "stdout",
     "output_type": "stream",
     "text": [
      "shape1: (4, 100)\n",
      "shape2: (4, 20)\n",
      "shape3:(4, 100)\n"
     ]
    },
    {
     "data": {
      "text/plain": [
       "\n",
       "[[0.05231703 0.         0.         0.         0.         0.05300057\n",
       "  0.02378595 0.         0.         0.         0.         0.\n",
       "  0.04138212 0.         0.         0.         0.01784178 0.01572579\n",
       "  0.00923112 0.01330817 0.01812916 0.02996658 0.03407922 0.\n",
       "  0.         0.         0.03785183 0.02372986 0.         0.\n",
       "  0.01300334 0.         0.00033825 0.         0.01112824 0.\n",
       "  0.00654261 0.0634444  0.01741542 0.00497361 0.         0.02569418\n",
       "  0.         0.0182972  0.01540323 0.         0.01723471 0.03689558\n",
       "  0.04422717 0.02280479 0.         0.01708727 0.00043204 0.00568333\n",
       "  0.         0.         0.03839077 0.02157358 0.030027   0.\n",
       "  0.         0.01673079 0.03767619 0.         0.         0.0351254\n",
       "  0.02244431 0.         0.         0.04950608 0.01236251 0.\n",
       "  0.00467286 0.01453074 0.         0.         0.         0.01396383\n",
       "  0.04752699 0.         0.         0.         0.         0.02569895\n",
       "  0.         0.03958415 0.         0.00114011 0.01651945 0.\n",
       "  0.         0.00560093 0.00267281 0.         0.02129235 0.\n",
       "  0.04809315 0.         0.01186029 0.01234731]\n",
       " [0.1716628  0.01712312 0.         0.         0.         0.1346567\n",
       "  0.         0.         0.         0.         0.         0.00763076\n",
       "  0.08142809 0.03028854 0.         0.         0.         0.0043489\n",
       "  0.05035362 0.01090459 0.         0.         0.14208989 0.00414729\n",
       "  0.05274579 0.00378828 0.         0.         0.         0.04016749\n",
       "  0.         0.00888883 0.         0.         0.05525186 0.\n",
       "  0.04256501 0.16407947 0.07824578 0.         0.         0.03646419\n",
       "  0.         0.12961969 0.         0.         0.         0.06153965\n",
       "  0.01026389 0.0271153  0.         0.         0.         0.\n",
       "  0.         0.         0.07409731 0.03781944 0.12790671 0.08194964\n",
       "  0.01387512 0.         0.09078808 0.         0.00078068 0.0823859\n",
       "  0.         0.         0.         0.1270846  0.         0.\n",
       "  0.         0.05458929 0.         0.         0.         0.08179243\n",
       "  0.14501488 0.         0.         0.         0.         0.15421587\n",
       "  0.         0.10051787 0.         0.         0.         0.\n",
       "  0.         0.06572522 0.         0.         0.0244844  0.\n",
       "  0.15692227 0.         0.07656471 0.02461878]\n",
       " [0.14168197 0.         0.0064816  0.         0.         0.10498248\n",
       "  0.         0.         0.         0.         0.         0.\n",
       "  0.01884716 0.03984861 0.         0.01222892 0.05527786 0.02702155\n",
       "  0.08306241 0.         0.         0.         0.14361285 0.\n",
       "  0.01928677 0.01002415 0.03713924 0.01850108 0.         0.02740036\n",
       "  0.         0.0020252  0.         0.         0.00400552 0.01017763\n",
       "  0.03781261 0.15456477 0.04498997 0.         0.         0.04315771\n",
       "  0.         0.07312763 0.         0.         0.         0.03360078\n",
       "  0.04652608 0.00972611 0.02904223 0.00539232 0.         0.01120359\n",
       "  0.         0.         0.10421479 0.05351953 0.12820922 0.09915809\n",
       "  0.02130558 0.         0.10136021 0.01013027 0.         0.0570611\n",
       "  0.         0.         0.         0.15191604 0.00656779 0.\n",
       "  0.         0.         0.         0.         0.         0.0230448\n",
       "  0.12902795 0.         0.         0.         0.         0.12022232\n",
       "  0.00530203 0.06227678 0.         0.00274023 0.         0.\n",
       "  0.         0.07457398 0.         0.         0.04361833 0.\n",
       "  0.15164986 0.         0.06863369 0.        ]\n",
       " [0.13562387 0.         0.04733767 0.         0.         0.04496128\n",
       "  0.         0.         0.         0.         0.         0.\n",
       "  0.01338414 0.0282135  0.         0.05446227 0.05637965 0.\n",
       "  0.01757427 0.0288135  0.         0.02655951 0.11147688 0.\n",
       "  0.         0.         0.01204749 0.00412898 0.         0.\n",
       "  0.         0.         0.0244735  0.         0.03104145 0.03840452\n",
       "  0.00581054 0.0631806  0.04169738 0.         0.         0.\n",
       "  0.         0.00535951 0.         0.         0.03723592 0.02415252\n",
       "  0.05349462 0.01391105 0.         0.         0.         0.\n",
       "  0.         0.         0.05871565 0.02351589 0.05748636 0.01096351\n",
       "  0.         0.         0.05007563 0.         0.00254469 0.01228635\n",
       "  0.         0.         0.         0.1209812  0.05864488 0.\n",
       "  0.         0.01601768 0.         0.         0.01759966 0.02558235\n",
       "  0.05606098 0.         0.         0.         0.01794691 0.03833925\n",
       "  0.         0.         0.         0.         0.01435201 0.\n",
       "  0.00914872 0.09084229 0.         0.         0.06182219 0.02388945\n",
       "  0.09249422 0.         0.05470835 0.00699128]]\n",
       "<NDArray 4x100 @cpu(0)>"
      ]
     },
     "execution_count": 2,
     "metadata": {},
     "output_type": "execute_result"
    }
   ],
   "source": [
    "class FancyMLP(nn.Block):\n",
    "    def __init__(self,**kwargs):\n",
    "        super(FancyMLP,self).__init__(**kwargs)\n",
    "        with self.name_scope():\n",
    "            self.dense=nn.Dense(100)\n",
    "            self.weight=nd.uniform(shape=(100,20))\n",
    "    def forward(self,x):\n",
    "        x=self.dense(x)\n",
    "        print(f\"shape1: {x.shape}\")\n",
    "        x=nd.relu(nd.dot(x,self.weight)*2)\n",
    "        print(f\"shape2: {x.shape}\")\n",
    "        x=nd.relu(self.dense(x))\n",
    "        print(f\"shape3:{x.shape}\")\n",
    "        return x \n",
    "net=FancyMLP()\n",
    "net.initialize()\n",
    "x=nd.uniform(shape=(4,20))\n",
    "net(x)"
   ]
  },
  {
   "cell_type": "code",
   "execution_count": 3,
   "metadata": {
    "ExecuteTime": {
     "end_time": "2020-05-14T01:47:29.224523Z",
     "start_time": "2020-05-14T01:47:29.209520Z"
    }
   },
   "outputs": [
    {
     "data": {
      "text/plain": [
       "(\n",
       " [[[0.35539865 0.34818497 0.29641646]\n",
       "   [0.370534   0.3646386  0.2648274 ]]\n",
       " \n",
       "  [[0.23788568 0.44341287 0.3187014 ]\n",
       "   [0.41524166 0.3728222  0.21193618]]\n",
       " \n",
       "  [[0.2471644  0.4737605  0.27907503]\n",
       "   [0.43638325 0.23499651 0.32862025]]]\n",
       " <NDArray 3x2x3 @cpu(0)>,\n",
       " \n",
       " [[1. 1. 0.]\n",
       "  [1. 0. 0.]\n",
       "  [1. 0. 1.]]\n",
       " <NDArray 3x3 @cpu(0)>)"
      ]
     },
     "execution_count": 3,
     "metadata": {},
     "output_type": "execute_result"
    }
   ],
   "source": [
    "x1=nd.random.uniform(shape=(3,3),dtype='float32')\n",
    "x2=nd.random_uniform(shape=(3,3),dtype='float32')\n",
    "x=nd.stack(x1,x2,axis=1)\n",
    "k=nd.softmax(x)\n",
    "k,k.argmax(axis=1)"
   ]
  },
  {
   "cell_type": "markdown",
   "metadata": {},
   "source": [
    "# 嵌套Block"
   ]
  },
  {
   "cell_type": "code",
   "execution_count": 4,
   "metadata": {
    "ExecuteTime": {
     "end_time": "2020-05-14T01:47:29.249527Z",
     "start_time": "2020-05-14T01:47:29.227524Z"
    }
   },
   "outputs": [
    {
     "data": {
      "text/plain": [
       "Sequential(\n",
       "  (0): RecMLP(\n",
       "    (net): Sequential(\n",
       "      (0): Dense(None -> 128, Activation(relu))\n",
       "      (1): Dense(None -> 20, Activation(relu))\n",
       "    )\n",
       "    (dense1): Dense(None -> 10, linear)\n",
       "  )\n",
       "  (1): Dense(None -> 10, linear)\n",
       ")"
      ]
     },
     "execution_count": 4,
     "metadata": {},
     "output_type": "execute_result"
    }
   ],
   "source": [
    "class RecMLP(nn.Block):\n",
    "    def __init__(self,**kwargs):\n",
    "        super(RecMLP,self).__init__(**kwargs)\n",
    "        self.net=nn.Sequential()\n",
    "        with self.name_scope():\n",
    "            self.net.add(nn.Dense(128,activation='relu'),\n",
    "                        nn.Dense(20,activation='relu'))\n",
    "            self.dense1=nn.Dense(10)\n",
    "    def forward(self,x):\n",
    "        return nd.relu(self.dense1(self.net(x)))\n",
    "myNet=RecMLP(prefix=\"RecMLP_\")\n",
    "net=nn.Sequential()\n",
    "net.add(myNet,\n",
    "       nn.Dense(10))\n",
    "net.initialize()\n",
    "net"
   ]
  },
  {
   "cell_type": "markdown",
   "metadata": {},
   "source": [
    "### initialize()"
   ]
  },
  {
   "cell_type": "code",
   "execution_count": 5,
   "metadata": {
    "ExecuteTime": {
     "end_time": "2020-05-14T01:47:29.268533Z",
     "start_time": "2020-05-14T01:47:29.252530Z"
    },
    "collapsed": true
   },
   "outputs": [
    {
     "data": {
      "text/plain": [
       "('dense1',\n",
       " Parameter dense1_weight (shape=(4, 5), dtype=float32),\n",
       " Parameter dense1_bias (shape=(4,), dtype=float32),\n",
       " \n",
       " [[0. 0. 0. 0. 0.]\n",
       "  [0. 0. 0. 0. 0.]\n",
       "  [0. 0. 0. 0. 0.]\n",
       "  [0. 0. 0. 0. 0.]]\n",
       " <NDArray 4x5 @cpu(0)>,\n",
       " (3, 2))"
      ]
     },
     "execution_count": 5,
     "metadata": {},
     "output_type": "execute_result"
    }
   ],
   "source": [
    "net=nn.Sequential()\n",
    "net.add(nn.Dense(4),nn.Dense(2))\n",
    "x=nd.random_normal(shape=(3,5))\n",
    "net.initialize()\n",
    "k=net(x)\n",
    "layer1=net[0]\n",
    "layer1.name,layer1.weight,layer1.bias,layer1.weight.grad(),k.shape"
   ]
  },
  {
   "cell_type": "markdown",
   "metadata": {},
   "source": [
    "### collect_params()"
   ]
  },
  {
   "cell_type": "code",
   "execution_count": 6,
   "metadata": {
    "ExecuteTime": {
     "end_time": "2020-05-14T01:47:29.398562Z",
     "start_time": "2020-05-14T01:47:29.271534Z"
    }
   },
   "outputs": [
    {
     "ename": "KeyError",
     "evalue": "'dense50_weight'",
     "output_type": "error",
     "traceback": [
      "\u001b[1;31m---------------------------------------------------------------------------\u001b[0m",
      "\u001b[1;31mKeyError\u001b[0m                                  Traceback (most recent call last)",
      "\u001b[1;32m<ipython-input-6-926b38e55b35>\u001b[0m in \u001b[0;36m<module>\u001b[1;34m\u001b[0m\n\u001b[0;32m      1\u001b[0m \u001b[0mparams\u001b[0m\u001b[1;33m=\u001b[0m\u001b[0mnet\u001b[0m\u001b[1;33m.\u001b[0m\u001b[0mcollect_params\u001b[0m\u001b[1;33m(\u001b[0m\u001b[1;33m)\u001b[0m\u001b[1;33m\u001b[0m\u001b[1;33m\u001b[0m\u001b[0m\n\u001b[1;32m----> 2\u001b[1;33m \u001b[0mparams\u001b[0m\u001b[1;33m,\u001b[0m\u001b[0mparams\u001b[0m\u001b[1;33m[\u001b[0m\u001b[1;34m'dense50_weight'\u001b[0m\u001b[1;33m]\u001b[0m\u001b[1;33m.\u001b[0m\u001b[0mdata\u001b[0m\u001b[1;33m(\u001b[0m\u001b[1;33m)\u001b[0m\u001b[1;33m\u001b[0m\u001b[1;33m\u001b[0m\u001b[0m\n\u001b[0m",
      "\u001b[1;32md:\\software\\python37\\lib\\site-packages\\mxnet\\gluon\\parameter.py\u001b[0m in \u001b[0;36m__getitem__\u001b[1;34m(self, key)\u001b[0m\n\u001b[0;32m    729\u001b[0m \u001b[1;33m\u001b[0m\u001b[0m\n\u001b[0;32m    730\u001b[0m     \u001b[1;32mdef\u001b[0m \u001b[0m__getitem__\u001b[0m\u001b[1;33m(\u001b[0m\u001b[0mself\u001b[0m\u001b[1;33m,\u001b[0m \u001b[0mkey\u001b[0m\u001b[1;33m)\u001b[0m\u001b[1;33m:\u001b[0m\u001b[1;33m\u001b[0m\u001b[1;33m\u001b[0m\u001b[0m\n\u001b[1;32m--> 731\u001b[1;33m         \u001b[1;32mreturn\u001b[0m \u001b[0mself\u001b[0m\u001b[1;33m.\u001b[0m\u001b[0m_params\u001b[0m\u001b[1;33m[\u001b[0m\u001b[0mkey\u001b[0m\u001b[1;33m]\u001b[0m\u001b[1;33m\u001b[0m\u001b[1;33m\u001b[0m\u001b[0m\n\u001b[0m\u001b[0;32m    732\u001b[0m \u001b[1;33m\u001b[0m\u001b[0m\n\u001b[0;32m    733\u001b[0m     \u001b[1;32mdef\u001b[0m \u001b[0m__iter__\u001b[0m\u001b[1;33m(\u001b[0m\u001b[0mself\u001b[0m\u001b[1;33m)\u001b[0m\u001b[1;33m:\u001b[0m\u001b[1;33m\u001b[0m\u001b[1;33m\u001b[0m\u001b[0m\n",
      "\u001b[1;31mKeyError\u001b[0m: 'dense50_weight'"
     ]
    }
   ],
   "source": [
    "params=net.collect_params()\n",
    "params,params['dense50_weight'].data()"
   ]
  },
  {
   "cell_type": "markdown",
   "metadata": {},
   "source": [
    "### 使用不同的初始化函数"
   ]
  },
  {
   "cell_type": "code",
   "execution_count": 16,
   "metadata": {
    "ExecuteTime": {
     "end_time": "2020-05-14T01:52:09.087277Z",
     "start_time": "2020-05-14T01:52:09.078276Z"
    }
   },
   "outputs": [
    {
     "data": {
      "text/plain": [
       "('dense21',\n",
       " Parameter dense21_weight (shape=(4, 5), dtype=float32),\n",
       " \n",
       " [[ 0.00243308 -0.03123487 -0.05151046 -0.04551276  0.03036036]\n",
       "  [ 0.0286264  -0.01455164 -0.00515897  0.00915898  0.04765999]\n",
       "  [-0.04434082 -0.04131879 -0.04972132 -0.04690576 -0.00167212]\n",
       "  [-0.05252337 -0.02021422  0.03109129  0.06166048 -0.06573658]]\n",
       " <NDArray 4x5 @cpu(0)>)"
      ]
     },
     "execution_count": 16,
     "metadata": {},
     "output_type": "execute_result"
    }
   ],
   "source": [
    "from mxnet import init\n",
    "# 参数来自于 均值为0，方差为0.02的正态分布\n",
    "params.initialize(init=init.Normal(sigma=0.02),force_reinit=True)\n",
    "params.initialize(init=init.One(),force_reinit=True)\n",
    "layer1=net[0]\n",
    "layer1.name,layer1.weight,layer1.weight.data()"
   ]
  },
  {
   "cell_type": "code",
   "execution_count": 39,
   "metadata": {
    "ExecuteTime": {
     "end_time": "2020-05-14T02:02:53.594073Z",
     "start_time": "2020-05-14T02:02:53.569065Z"
    },
    "collapsed": true
   },
   "outputs": [
    {
     "name": "stdout",
     "output_type": "stream",
     "text": [
      "init weight:  (4, 5)\n",
      "init weight:  (2, 4)\n"
     ]
    },
    {
     "ename": "RuntimeError",
     "evalue": "Parameter 'dense80_weight' has not been initialized. Note that you should initialize parameters and create Trainer with Block.collect_params() instead of Block.params because the later does not include Parameters of nested child Blocks",
     "output_type": "error",
     "traceback": [
      "\u001b[1;31m---------------------------------------------------------------------------\u001b[0m",
      "\u001b[1;31mRuntimeError\u001b[0m                              Traceback (most recent call last)",
      "\u001b[1;32m<ipython-input-39-094522fdcdb7>\u001b[0m in \u001b[0;36m<module>\u001b[1;34m\u001b[0m\n\u001b[0;32m     11\u001b[0m \u001b[0mparams\u001b[0m\u001b[1;33m.\u001b[0m\u001b[0minitialize\u001b[0m\u001b[1;33m(\u001b[0m\u001b[0minit\u001b[0m\u001b[1;33m=\u001b[0m\u001b[0mmyInit\u001b[0m\u001b[1;33m(\u001b[0m\u001b[1;33m)\u001b[0m\u001b[1;33m,\u001b[0m\u001b[0mforce_reinit\u001b[0m\u001b[1;33m=\u001b[0m\u001b[1;32mTrue\u001b[0m\u001b[1;33m)\u001b[0m\u001b[1;33m\u001b[0m\u001b[1;33m\u001b[0m\u001b[0m\n\u001b[0;32m     12\u001b[0m \u001b[0mlayer1\u001b[0m\u001b[1;33m=\u001b[0m\u001b[0mnet\u001b[0m\u001b[1;33m[\u001b[0m\u001b[1;36m0\u001b[0m\u001b[1;33m]\u001b[0m\u001b[1;33m\u001b[0m\u001b[1;33m\u001b[0m\u001b[0m\n\u001b[1;32m---> 13\u001b[1;33m \u001b[0mlayer1\u001b[0m\u001b[1;33m.\u001b[0m\u001b[0mcollect_params\u001b[0m\u001b[1;33m(\u001b[0m\u001b[1;33m)\u001b[0m\u001b[1;33m,\u001b[0m\u001b[0mlayer1\u001b[0m\u001b[1;33m.\u001b[0m\u001b[0mweight\u001b[0m\u001b[1;33m.\u001b[0m\u001b[0mdata\u001b[0m\u001b[1;33m(\u001b[0m\u001b[1;33m)\u001b[0m\u001b[1;33m,\u001b[0m\u001b[0mlayer1\u001b[0m\u001b[1;33m.\u001b[0m\u001b[0mbias\u001b[0m\u001b[1;33m.\u001b[0m\u001b[0mdata\u001b[0m\u001b[1;33m(\u001b[0m\u001b[1;33m)\u001b[0m\u001b[1;33m\u001b[0m\u001b[1;33m\u001b[0m\u001b[0m\n\u001b[0m",
      "\u001b[1;32md:\\software\\python37\\lib\\site-packages\\mxnet\\gluon\\parameter.py\u001b[0m in \u001b[0;36mdata\u001b[1;34m(self, ctx)\u001b[0m\n\u001b[0;32m    563\u001b[0m                                \u001b[1;34m\"because its storage type is %s. Please use row_sparse_data() \"\u001b[0m\u001b[0;31m \u001b[0m\u001b[0;31m\\\u001b[0m\u001b[1;33m\u001b[0m\u001b[1;33m\u001b[0m\u001b[0m\n\u001b[0;32m    564\u001b[0m                                \"instead.\" % (self.name, str(ctx), self._stype))\n\u001b[1;32m--> 565\u001b[1;33m         \u001b[1;32mreturn\u001b[0m \u001b[0mself\u001b[0m\u001b[1;33m.\u001b[0m\u001b[0m_check_and_get\u001b[0m\u001b[1;33m(\u001b[0m\u001b[0mself\u001b[0m\u001b[1;33m.\u001b[0m\u001b[0m_data\u001b[0m\u001b[1;33m,\u001b[0m \u001b[0mctx\u001b[0m\u001b[1;33m)\u001b[0m\u001b[1;33m\u001b[0m\u001b[1;33m\u001b[0m\u001b[0m\n\u001b[0m\u001b[0;32m    566\u001b[0m \u001b[1;33m\u001b[0m\u001b[0m\n\u001b[0;32m    567\u001b[0m     \u001b[1;32mdef\u001b[0m \u001b[0mlist_data\u001b[0m\u001b[1;33m(\u001b[0m\u001b[0mself\u001b[0m\u001b[1;33m)\u001b[0m\u001b[1;33m:\u001b[0m\u001b[1;33m\u001b[0m\u001b[1;33m\u001b[0m\u001b[0m\n",
      "\u001b[1;32md:\\software\\python37\\lib\\site-packages\\mxnet\\gluon\\parameter.py\u001b[0m in \u001b[0;36m_check_and_get\u001b[1;34m(self, arr_list, ctx)\u001b[0m\n\u001b[0;32m    240\u001b[0m             \u001b[1;34m\"with Block.collect_params() instead of Block.params \"\u001b[0m\u001b[0;31m \u001b[0m\u001b[0;31m\\\u001b[0m\u001b[1;33m\u001b[0m\u001b[1;33m\u001b[0m\u001b[0m\n\u001b[0;32m    241\u001b[0m             \u001b[1;34m\"because the later does not include Parameters of \"\u001b[0m\u001b[0;31m \u001b[0m\u001b[0;31m\\\u001b[0m\u001b[1;33m\u001b[0m\u001b[1;33m\u001b[0m\u001b[0m\n\u001b[1;32m--> 242\u001b[1;33m             \"nested child Blocks\"%(self.name))\n\u001b[0m\u001b[0;32m    243\u001b[0m \u001b[1;33m\u001b[0m\u001b[0m\n\u001b[0;32m    244\u001b[0m     \u001b[1;32mdef\u001b[0m \u001b[0m_get_row_sparse\u001b[0m\u001b[1;33m(\u001b[0m\u001b[0mself\u001b[0m\u001b[1;33m,\u001b[0m \u001b[0marr_list\u001b[0m\u001b[1;33m,\u001b[0m \u001b[0mctx\u001b[0m\u001b[1;33m,\u001b[0m \u001b[0mrow_id\u001b[0m\u001b[1;33m)\u001b[0m\u001b[1;33m:\u001b[0m\u001b[1;33m\u001b[0m\u001b[1;33m\u001b[0m\u001b[0m\n",
      "\u001b[1;31mRuntimeError\u001b[0m: Parameter 'dense80_weight' has not been initialized. Note that you should initialize parameters and create Trainer with Block.collect_params() instead of Block.params because the later does not include Parameters of nested child Blocks"
     ]
    }
   ],
   "source": [
    "class myInit(init.Initializer):\n",
    "    def __init__(self):\n",
    "        super(myInit, self).__init__()\n",
    "        self._verbose = True\n",
    "    def _init_weight(self,_,arr):\n",
    "        print(\"init weight: \",arr.shape)\n",
    "        nd.random.uniform(low=1,high=10,out=arr)\n",
    "    def _init_bias(self,_,arr):\n",
    "        print(\"init bias: \",arr.shape)\n",
    "        arr[:]=3\n",
    "params.initialize(init=myInit(),force_reinit=True)\n",
    "layer1=net[0]\n",
    "layer1.collect_params(),layer1.weight.data(),layer1.bias.data() "
   ]
  },
  {
   "cell_type": "code",
   "execution_count": null,
   "metadata": {
    "ExecuteTime": {
     "end_time": "2020-05-14T01:47:29.408564Z",
     "start_time": "2020-05-14T01:47:27.335Z"
    }
   },
   "outputs": [],
   "source": [
    "from mxnet import gluon\n",
    "gluon.__file__\n"
   ]
  },
  {
   "cell_type": "markdown",
   "metadata": {},
   "source": [
    "# 共享模型函数"
   ]
  },
  {
   "cell_type": "code",
   "execution_count": 40,
   "metadata": {
    "ExecuteTime": {
     "end_time": "2020-05-14T02:02:59.029603Z",
     "start_time": "2020-05-14T02:02:59.018602Z"
    },
    "collapsed": true
   },
   "outputs": [
    {
     "name": "stdout",
     "output_type": "stream",
     "text": [
      "init weight:  (4, 5)\n"
     ]
    },
    {
     "data": {
      "text/plain": [
       "(\n",
       " [[5.777741  6.4567733 1.7670976 7.3289576 6.9910994]\n",
       "  [6.7130766 1.2667133 9.63228   9.003586  1.9296834]\n",
       "  [7.1390705 8.804504  9.021829  1.2627121 1.0108682]\n",
       "  [5.814252  9.43497   4.6381927 9.624766  5.7176547]]\n",
       " <NDArray 4x5 @cpu(0)>,\n",
       " \n",
       " [0. 0. 0. 0.]\n",
       " <NDArray 4 @cpu(0)>,\n",
       " \n",
       " [[5.777741  6.4567733 1.7670976 7.3289576 6.9910994]\n",
       "  [6.7130766 1.2667133 9.63228   9.003586  1.9296834]\n",
       "  [7.1390705 8.804504  9.021829  1.2627121 1.0108682]\n",
       "  [5.814252  9.43497   4.6381927 9.624766  5.7176547]]\n",
       " <NDArray 4x5 @cpu(0)>)"
      ]
     },
     "execution_count": 40,
     "metadata": {},
     "output_type": "execute_result"
    }
   ],
   "source": [
    "net=nn.Sequential() \n",
    "net.add(nn.Dense(4,in_units=5,activation='relu'))\n",
    "net.add(nn.Dense(4,in_units=5,activation='relu',params=net[-1].params),\n",
    "       nn.Dense(3))\n",
    "net.initialize(init=myInit()) \n",
    "p=nd.random_uniform(shape=(5,5))\n",
    "net[0].weight.data(),net[0].bias.data() ,net[1].weight.data() "
   ]
  },
  {
   "cell_type": "markdown",
   "metadata": {},
   "source": [
    "# 序列化参数"
   ]
  },
  {
   "cell_type": "code",
   "execution_count": 46,
   "metadata": {
    "ExecuteTime": {
     "end_time": "2020-05-14T02:11:29.442323Z",
     "start_time": "2020-05-14T02:11:29.434322Z"
    },
    "collapsed": true
   },
   "outputs": [
    {
     "data": {
      "text/plain": [
       "[\n",
       " [[0.5243798  0.8518537  0.1173803  0.3955438 ]\n",
       "  [0.1598453  0.23307782 0.04680635 0.58543205]\n",
       "  [0.97073144 0.74683636 0.00386035 0.60898864]]\n",
       " <NDArray 3x4 @cpu(0)>,\n",
       " \n",
       " [1. 1. 1. 1.]\n",
       " <NDArray 4 @cpu(0)>]"
      ]
     },
     "execution_count": 46,
     "metadata": {},
     "output_type": "execute_result"
    }
   ],
   "source": [
    "x=nd.random_uniform(shape=(3,4))\n",
    "y=nd.ones(shape=(4,))\n",
    "filename=\"./para.params\"\n",
    "nd.save(filename,[x,y])\n",
    "a=nd.load(filename)\n",
    "a "
   ]
  },
  {
   "cell_type": "markdown",
   "metadata": {},
   "source": [
    "## 保存模型参数，下次直接读取,同样的输入会得到同样的输出，继续训练，不用像前面一样随机初始化，"
   ]
  },
  {
   "cell_type": "code",
   "execution_count": 75,
   "metadata": {
    "ExecuteTime": {
     "end_time": "2020-05-14T02:47:55.035650Z",
     "start_time": "2020-05-14T02:47:55.012645Z"
    },
    "collapsed": true
   },
   "outputs": [
    {
     "name": "stdout",
     "output_type": "stream",
     "text": [
      "before:  \n",
      "[[ 9.0064605e-05  3.9931675e-04 -8.1112765e-04]\n",
      " [ 1.3489560e-03  3.4629425e-04  2.0301142e-03]\n",
      " [ 7.4891583e-04 -1.6851187e-03  2.4013307e-03]\n",
      " [ 9.0796506e-04  6.8994763e-04  2.1678454e-04]\n",
      " [ 1.2787307e-03  1.3473642e-04  7.6159585e-04]\n",
      " [ 1.4077565e-03  2.3968915e-04  2.7096032e-03]]\n",
      "<NDArray 6x3 @cpu(0)>\n"
     ]
    },
    {
     "ename": "ValueError",
     "evalue": "data needs to either be a NDArray, dict of str, NDArray pairs or a list of NDarrays.",
     "output_type": "error",
     "traceback": [
      "\u001b[1;31m---------------------------------------------------------------------------\u001b[0m",
      "\u001b[1;31mValueError\u001b[0m                                Traceback (most recent call last)",
      "\u001b[1;32m<ipython-input-75-2cd730a9807f>\u001b[0m in \u001b[0;36m<module>\u001b[1;34m\u001b[0m\n\u001b[0;32m     11\u001b[0m \u001b[0mnet\u001b[0m\u001b[1;33m(\u001b[0m\u001b[0mp\u001b[0m\u001b[1;33m)\u001b[0m\u001b[1;33m\u001b[0m\u001b[1;33m\u001b[0m\u001b[0m\n\u001b[0;32m     12\u001b[0m \u001b[1;31m# nd.load(filename)\u001b[0m\u001b[1;33m\u001b[0m\u001b[1;33m\u001b[0m\u001b[1;33m\u001b[0m\u001b[0m\n\u001b[1;32m---> 13\u001b[1;33m \u001b[0mnd\u001b[0m\u001b[1;33m.\u001b[0m\u001b[0msave\u001b[0m\u001b[1;33m(\u001b[0m\u001b[0mfilename\u001b[0m\u001b[1;33m,\u001b[0m\u001b[0mnet\u001b[0m\u001b[1;33m)\u001b[0m\u001b[1;33m\u001b[0m\u001b[1;33m\u001b[0m\u001b[0m\n\u001b[0m",
      "\u001b[1;32md:\\software\\python37\\lib\\site-packages\\mxnet\\ndarray\\utils.py\u001b[0m in \u001b[0;36msave\u001b[1;34m(fname, data)\u001b[0m\n\u001b[0;32m    273\u001b[0m         \u001b[0mhandles\u001b[0m \u001b[1;33m=\u001b[0m \u001b[0mc_handle_array\u001b[0m\u001b[1;33m(\u001b[0m\u001b[0mdata\u001b[0m\u001b[1;33m)\u001b[0m\u001b[1;33m\u001b[0m\u001b[1;33m\u001b[0m\u001b[0m\n\u001b[0;32m    274\u001b[0m     \u001b[1;32melse\u001b[0m\u001b[1;33m:\u001b[0m\u001b[1;33m\u001b[0m\u001b[1;33m\u001b[0m\u001b[0m\n\u001b[1;32m--> 275\u001b[1;33m         raise ValueError(\"data needs to either be a NDArray, dict of str, NDArray pairs \"\n\u001b[0m\u001b[0;32m    276\u001b[0m                          \"or a list of NDarrays.\")\n\u001b[0;32m    277\u001b[0m     check_call(_LIB.MXNDArraySave(c_str(fname),\n",
      "\u001b[1;31mValueError\u001b[0m: data needs to either be a NDArray, dict of str, NDArray pairs or a list of NDarrays."
     ]
    }
   ],
   "source": [
    "from utils.try_gpu import try_gpu\n",
    "net=nn.Sequential() \n",
    "net.add(nn.Dense(5,activation='relu'))\n",
    "net.add(nn.Dropout(.5))\n",
    "net.add(nn.Dense(3))\n",
    "net.initialize() \n",
    "p=nd.random_uniform(shape=(6,3))\n",
    "print(\"before: \",net(p))\n",
    "net.save_parameters(filename)\n",
    "net.load_parameters(filename,ctx=try_gpu())\n",
    "net(p)"
   ]
  },
  {
   "cell_type": "markdown",
   "metadata": {},
   "source": [
    "# 自定层"
   ]
  },
  {
   "cell_type": "code",
   "execution_count": 85,
   "metadata": {
    "ExecuteTime": {
     "end_time": "2020-05-14T04:43:41.017927Z",
     "start_time": "2020-05-14T04:43:41.007927Z"
    },
    "collapsed": true
   },
   "outputs": [
    {
     "name": "stdout",
     "output_type": "stream",
     "text": [
      "\n",
      "[[2.3217623 4.5750914]\n",
      " [3.5535605 3.300247 ]]\n",
      "<NDArray 2x2 @cpu(0)>\n",
      "\n",
      "[[6.8968534]\n",
      " [6.8538074]]\n",
      "<NDArray 2x1 @cpu(0)>\n"
     ]
    },
    {
     "data": {
      "text/plain": [
       "\n",
       "[[0.3366408  0.6633592 ]\n",
       " [0.51847976 0.48152024]]\n",
       "<NDArray 2x2 @cpu(0)>"
      ]
     },
     "execution_count": 85,
     "metadata": {},
     "output_type": "execute_result"
    }
   ],
   "source": [
    "class CenteredLayer(nn.Block):\n",
    "    def __init__(self,**kwargs):\n",
    "        super(CenteredLayer,self).__init__(**kwargs)\n",
    "    def forward(self,x):\n",
    "        return x/x.sum(axis=1,keepdims=True)\n",
    "p=nd.random_uniform(1,5,shape=(2,2))\n",
    "net=CenteredLayer()\n",
    "# net.initialize() \n",
    "net(p)"
   ]
  },
  {
   "cell_type": "markdown",
   "metadata": {},
   "source": [
    "## `CenteredLayer`展示自定义层大概的样子，但缺少可以学习的模型参数\n",
    "\n",
    "dense.weight.data(),weight是一个`Parameter `类型"
   ]
  },
  {
   "cell_type": "code",
   "execution_count": 91,
   "metadata": {
    "ExecuteTime": {
     "end_time": "2020-05-14T04:56:46.017083Z",
     "start_time": "2020-05-14T04:56:46.009094Z"
    },
    "scrolled": true
   },
   "outputs": [
    {
     "data": {
      "text/plain": [
       "sequential56_ (\n",
       "  Parameter dense145_weight (shape=(12, 0), dtype=float32)\n",
       "  Parameter dense145_bias (shape=(12,), dtype=float32)\n",
       "  Parameter dense146_weight (shape=(6, 0), dtype=float32)\n",
       "  Parameter dense146_bias (shape=(6,), dtype=float32)\n",
       ")"
      ]
     },
     "execution_count": 91,
     "metadata": {},
     "output_type": "execute_result"
    }
   ],
   "source": [
    "net=nn.Sequential()\n",
    "net.add(nn.Dense(12,activation='relu'),\n",
    "       nn.Dense(6),CenteredLayer())\n",
    "net.initialize()\n",
    "# net(p)\n",
    "net.collect_params()"
   ]
  },
  {
   "cell_type": "code",
   "execution_count": 97,
   "metadata": {
    "ExecuteTime": {
     "end_time": "2020-05-14T06:55:33.372203Z",
     "start_time": "2020-05-14T06:55:33.360690Z"
    },
    "collapsed": true
   },
   "outputs": [
    {
     "data": {
      "text/plain": [
       "(Parameter a_fancy_params (shape=(2, 2), dtype=<class 'numpy.float32'>),\n",
       " \n",
       " [[-0.02985967  0.0388329 ]\n",
       "  [-0.06727526 -0.049906  ]]\n",
       " <NDArray 2x2 @cpu(0)>)"
      ]
     },
     "execution_count": 97,
     "metadata": {},
     "output_type": "execute_result"
    }
   ],
   "source": [
    "from mxnet.gluon import Parameter \n",
    "params=Parameter(\"a_fancy_params\",shape=(2,2))\n",
    "params.initialize() \n",
    "params,params.data(),params.grad()"
   ]
  },
  {
   "cell_type": "markdown",
   "metadata": {},
   "source": [
    "自定义的层，这里指定了输入的大小，gluon的Dense不需要，这样的层涉及到hybridize"
   ]
  },
  {
   "cell_type": "code",
   "execution_count": 117,
   "metadata": {
    "ExecuteTime": {
     "end_time": "2020-05-14T08:16:08.010553Z",
     "start_time": "2020-05-14T08:16:07.984564Z"
    },
    "collapsed": true
   },
   "outputs": [
    {
     "name": "stdout",
     "output_type": "stream",
     "text": [
      "\n",
      "[[0.305267   0.50176764 0.94306225 0.98064893 0.99065167 0.42098534]\n",
      " [0.19889222 0.58562815 0.65683836 0.5911709  0.10649532 0.05699885]\n",
      " [0.650914   0.72113764 0.82731324 0.77642107 0.68449855 0.7337627 ]\n",
      " [0.41733316 0.14674284 0.38306636 0.45388022 0.3931224  0.39715967]\n",
      " [0.58971184 0.38575968 0.8815673  0.06829276 0.9290662  0.7903047 ]\n",
      " [0.05352962 0.00492913 0.1816224  0.16326366 0.11222432 0.69682735]\n",
      " [0.19333464 0.22743139 0.3466078  0.84701735 0.50653166 0.6016257 ]\n",
      " [0.6294612  0.7532607  0.7321422  0.22580884 0.89011157 0.751381  ]\n",
      " [0.9890884  0.83605313 0.66285646 0.54201734 0.8453645  0.02740073]\n",
      " [0.77803886 0.3299729  0.30753204 0.5911424  0.87569225 0.9380934 ]\n",
      " [0.70351696 0.759252   0.6102408  0.4063043  0.79961526 0.70433503]\n",
      " [0.03457122 0.5853592  0.77023876 0.9695645  0.7317286  0.30387843]\n",
      " [0.2596984  0.3137554  0.2570693  0.22646162 0.6323033  0.67233455]\n",
      " [0.34529746 0.77892226 0.79658866 0.5126617  0.44614622 0.61526495]\n",
      " [0.7827494  0.04566117 0.9904718  0.44609952 0.30024832 0.96801263]\n",
      " [0.14300583 0.3595603  0.9013084  0.55403215 0.5415594  0.41135442]\n",
      " [0.9747404  0.9660466  0.6366044  0.20305784 0.993913   0.9928266 ]\n",
      " [0.5460708  0.65919995 0.52642596 0.80907726 0.1354279  0.45815086]\n",
      " [0.35570517 0.88730806 0.02621857 0.53393435 0.16039518 0.57727945]\n",
      " [0.7456372  0.9174983  0.03039969 0.31414652 0.36654308 0.7261384 ]]\n",
      "<NDArray 20x6 @cpu(0)> \n",
      "[[ 0.04862308  0.04831204 -0.01197608 -0.00610802 -0.05215016 -0.03728081\n",
      "   0.04768973  0.03675346 -0.06163389  0.06701163 -0.02096203  0.01871005]\n",
      " [ 0.05876332 -0.05118007  0.06450731 -0.04138768  0.01967904 -0.01684739\n",
      "   0.02641077 -0.0004791  -0.06405637 -0.06718022  0.00202725 -0.00256141]\n",
      " [ 0.00656155 -0.00351612 -0.0223859  -0.00897638 -0.06039644 -0.02678791\n",
      "  -0.03795294  0.06397182 -0.01988225  0.02324074 -0.00908012  0.04026798]\n",
      " [ 0.00616141 -0.04812964  0.02157924  0.00145054 -0.04976363  0.06832906\n",
      "   0.0352139  -0.04974313 -0.03891312 -0.06323799  0.00270925  0.05586896]\n",
      " [ 0.03994144  0.03014614 -0.06687374 -0.0265541  -0.02458926 -0.01498836\n",
      "   0.05220913 -0.05869028  0.04825935 -0.02070301  0.00538168 -0.06985814]\n",
      " [ 0.05132516  0.01744826  0.06297284 -0.041962    0.04569698  0.01751562\n",
      "   0.04957616 -0.02499674 -0.05617592 -0.06337545  0.0211826   0.03127107]]\n",
      "<NDArray 6x12 @cpu(0)>\n",
      "\n",
      "[[0.13046363 0.         0.020159   0.         0.         0.\n",
      "  0.07519608 0.         0.         0.         0.         0.09072814]\n",
      " [0.07194532 0.         0.06105089 0.         0.         0.\n",
      "  0.00527983 0.         0.         0.         0.         0.10562094]\n",
      " [0.16196829 0.         0.06852463 0.         0.         0.\n",
      "  0.0941973  0.         0.         0.         0.         0.11173051]\n",
      " [0.08304107 0.01042411 0.03554259 0.         0.         0.\n",
      "  0.04149025 0.         0.         0.         0.         0.08275157]\n",
      " [0.14794785 0.04634091 0.01833332 0.         0.         0.\n",
      "  0.07099774 0.         0.         0.         0.         0.05874985]\n",
      " [0.058067   0.01156231 0.06664537 0.         0.         0.\n",
      "  0.01799773 0.         0.         0.         0.         0.08095379]\n",
      " [0.09409814 0.         0.05802168 0.         0.         0.02246729\n",
      "  0.06422411 0.         0.         0.         0.         0.09732123]\n",
      " [0.16791254 0.02054328 0.04846177 0.         0.         0.\n",
      "  0.08985376 0.         0.         0.         0.         0.06283957]\n",
      " [0.15281191 0.00472375 0.01527145 0.         0.         0.\n",
      "  0.08472704 0.         0.         0.         0.         0.06471869]\n",
      " [0.15873507 0.03611799 0.04948822 0.         0.         0.\n",
      "  0.12324371 0.         0.         0.         0.         0.07686229]\n",
      " [0.16614848 0.01200688 0.0576744  0.         0.         0.\n",
      "  0.09746907 0.         0.         0.         0.         0.0742359 ]\n",
      " [0.1046591  0.         0.04236336 0.         0.         0.01079075\n",
      "  0.05133937 0.         0.         0.         0.         0.09229659]\n",
      " [0.10663927 0.01766104 0.04745063 0.         0.         0.\n",
      "  0.06128683 0.         0.         0.         0.         0.05349142]\n",
      " [0.13307509 0.         0.07938569 0.         0.         0.\n",
      "  0.05470792 0.         0.         0.         0.         0.10283651]\n",
      " [0.12439601 0.03865085 0.05303968 0.         0.         0.\n",
      "  0.05637223 0.         0.         0.         0.         0.13821092]\n",
      " [0.09288318 0.         0.03408347 0.         0.         0.\n",
      "  0.02633975 0.         0.         0.         0.         0.09361207]\n",
      " [0.21297625 0.03510696 0.06796362 0.         0.         0.\n",
      "  0.13215399 0.         0.         0.         0.         0.06393542]\n",
      " [0.11538124 0.         0.09258748 0.         0.         0.\n",
      "  0.05780076 0.         0.         0.         0.         0.12937427]\n",
      " [0.12166359 0.         0.12067439 0.         0.         0.\n",
      "  0.07125173 0.         0.         0.         0.         0.09169504]\n",
      " [0.15694463 0.         0.10870375 0.         0.         0.\n",
      "  0.10088921 0.         0.         0.         0.         0.07705628]]\n",
      "<NDArray 20x12 @cpu(0)> \n",
      "[[-0.03390496 -0.06451168  0.0336343   0.03518172]\n",
      " [ 0.01796394  0.03972694  0.03777047 -0.01473864]\n",
      " [ 0.03764872  0.03413121  0.04991944 -0.01549981]\n",
      " [ 0.0308447  -0.02584579  0.06706154 -0.03703246]\n",
      " [ 0.05583554  0.04253084  0.01214041 -0.06592868]\n",
      " [ 0.01234207 -0.03652632 -0.06520262 -0.02780952]\n",
      " [ 0.06979372  0.01506831 -0.05157936 -0.01038554]\n",
      " [ 0.03364861  0.02282862  0.04494213 -0.0499714 ]\n",
      " [-0.01777237 -0.02191647 -0.04244071  0.00410343]\n",
      " [-0.05617362  0.01715917  0.03480484 -0.0322559 ]\n",
      " [-0.00662851 -0.03343618  0.02992049 -0.06350625]\n",
      " [ 0.05815708  0.04517947 -0.04947828 -0.06608752]]\n",
      "<NDArray 12x4 @cpu(0)>\n"
     ]
    },
    {
     "data": {
      "text/plain": [
       "\n",
       "[[0.06554423 0.         0.         0.        ]\n",
       " [0.06505423 0.         0.         0.        ]\n",
       " [0.06884457 0.         0.         0.        ]\n",
       " [0.06510217 0.         0.         0.        ]\n",
       " [0.06356238 0.         0.         0.        ]\n",
       " [0.06539616 0.         0.         0.        ]\n",
       " [0.06809764 0.         0.         0.        ]\n",
       " [0.06511023 0.         0.         0.        ]\n",
       " [0.06383993 0.         0.         0.        ]\n",
       " [0.06888574 0.         0.         0.        ]\n",
       " [0.06655781 0.         0.         0.        ]\n",
       " [0.06581445 0.         0.         0.        ]\n",
       " [0.0645604  0.         0.         0.        ]\n",
       " [0.06695975 0.         0.         0.        ]\n",
       " [0.06912987 0.         0.         0.        ]\n",
       " [0.06410049 0.         0.         0.        ]\n",
       " [0.06759421 0.         0.         0.        ]\n",
       " [0.0698159  0.         0.         0.        ]\n",
       " [0.06940781 0.         0.         0.        ]\n",
       " [0.06897809 0.         0.         0.        ]]\n",
       "<NDArray 20x4 @cpu(0)>"
      ]
     },
     "execution_count": 117,
     "metadata": {},
     "output_type": "execute_result"
    }
   ],
   "source": [
    "class myDense(nn.Block):\n",
    "    def __init__(self,units,in_units,**kwargs):\n",
    "        super(myDense,self).__init__(**kwargs)\n",
    "        with self.name_scope():\n",
    "            self.weight=self.params.get('weight',shape=(in_units,units))\n",
    "            self.bias=self.params.get('bias',shape=(units,))\n",
    "    def forward(self,x):\n",
    "        print(x,self.weight.data())\n",
    "        return nd.relu(nd.dot(x,self.weight.data())+self.bias.data())\n",
    "\n",
    "net=nn.Sequential() \n",
    "net.add(myDense(12,in_units=6),\n",
    "       myDense(4,in_units=12))\n",
    "net.initialize() \n",
    "net(nd.uniform(shape=(20,6)))"
   ]
  },
  {
   "cell_type": "code",
   "execution_count": 122,
   "metadata": {
    "ExecuteTime": {
     "end_time": "2020-05-14T08:28:57.772150Z",
     "start_time": "2020-05-14T08:28:57.762147Z"
    },
    "collapsed": true
   },
   "outputs": [
    {
     "data": {
      "text/plain": [
       "(\n",
       " [[0.6730101  0.08428815 0.80181587]\n",
       "  [0.95110226 0.18531293 0.03498933]]\n",
       " <NDArray 2x3 @cpu(0)>,\n",
       " \n",
       " [[0.         0.21072038 0.        ]\n",
       "  [0.         0.46328232 0.08747333]]\n",
       " <NDArray 2x3 @cpu(0)>)"
      ]
     },
     "execution_count": 122,
     "metadata": {},
     "output_type": "execute_result"
    }
   ],
   "source": [
    "from mxnet.gluon import nn \n",
    "x=nd.uniform(0,1.0,shape=(2,3))\n",
    "x,(x<0.4)*x*(1/0.4)  "
   ]
  },
  {
   "cell_type": "markdown",
   "metadata": {},
   "source": [
    "# 实现Dropout层"
   ]
  },
  {
   "cell_type": "code",
   "execution_count": 2,
   "metadata": {
    "ExecuteTime": {
     "end_time": "2020-05-26T15:24:27.033564Z",
     "start_time": "2020-05-26T15:24:27.009493Z"
    }
   },
   "outputs": [
    {
     "data": {
      "text/plain": [
       "\n",
       "[[ 1.9384642   0.806341    0.        ]\n",
       " [ 0.25504243 -0.          2.596785  ]]\n",
       "<NDArray 2x3 @cpu(0)>"
      ]
     },
     "execution_count": 2,
     "metadata": {},
     "output_type": "execute_result"
    }
   ],
   "source": [
    "from mxnet import nd \n",
    "def dropout(x,drop_pro=0):\n",
    "    keep_pro=1-drop_pro\n",
    "    assert 0<=keep_pro<=1\n",
    "    if keep_pro==0:\n",
    "        return x.zeros_like() \n",
    "    y=nd.uniform(0,1.0,x.shape)<keep_pro\n",
    "#     保证 期望E(dropout(x))==x\n",
    "    scale=1/keep_pro\n",
    "    return x*y*scale\n",
    "\n",
    "x=nd.normal(scale=1,shape=(2,3))\n",
    "dropout(x,.4)"
   ]
  },
  {
   "cell_type": "code",
   "execution_count": 144,
   "metadata": {
    "ExecuteTime": {
     "end_time": "2020-05-14T09:23:52.366079Z",
     "start_time": "2020-05-14T09:23:52.357088Z"
    },
    "collapsed": true
   },
   "outputs": [
    {
     "data": {
      "text/plain": [
       "(\n",
       " [[[0. 1. 2.]\n",
       "   [3. 4. 5.]]]\n",
       " <NDArray 1x2x3 @cpu(0)>,\n",
       " \n",
       " [[[-0.31640625  0.68359375  1.6835938 ]\n",
       "   [ 0.6796875   1.6796875   2.6796875 ]\n",
       "   [ 2.3203125   3.3203125   4.3203125 ]\n",
       "   [ 3.3164062   4.3164062   5.3164062 ]]\n",
       " \n",
       "  [[-0.31640625  0.68359375  1.6835938 ]\n",
       "   [ 0.6796875   1.6796875   2.6796875 ]\n",
       "   [ 2.3203125   3.3203125   4.3203125 ]\n",
       "   [ 3.3164062   4.3164062   5.3164062 ]]\n",
       " \n",
       "  [[-0.31640625  0.68359375  1.6835938 ]\n",
       "   [ 0.6796875   1.6796875   2.6796875 ]\n",
       "   [ 2.3203125   3.3203125   4.3203125 ]\n",
       "   [ 3.3164062   4.3164062   5.3164062 ]]\n",
       " \n",
       "  [[-0.31640625  0.68359375  1.6835938 ]\n",
       "   [ 0.6796875   1.6796875   2.6796875 ]\n",
       "   [ 2.3203125   3.3203125   4.3203125 ]\n",
       "   [ 3.3164062   4.3164062   5.3164062 ]]]\n",
       " <NDArray 4x4x3 @cpu(0)>)"
      ]
     },
     "execution_count": 144,
     "metadata": {},
     "output_type": "execute_result"
    }
   ],
   "source": [
    "\n",
    "c=nd.arange(6).reshape((1,2,3))\n",
    "from mxnet import image \n",
    "c,image.imresize(c,4,4,2)"
   ]
  },
  {
   "cell_type": "code",
   "execution_count": 156,
   "metadata": {
    "ExecuteTime": {
     "end_time": "2020-05-14T10:02:06.893488Z",
     "start_time": "2020-05-14T10:02:06.869495Z"
    }
   },
   "outputs": [
    {
     "data": {
      "text/plain": [
       "sequential63_ (\n",
       "  Parameter sequential63_sequential0_sequential0_conv0_weight (shape=(64, 0, 3, 3), dtype=<class 'numpy.float32'>)\n",
       "  Parameter sequential63_sequential0_sequential0_conv0_bias (shape=(64,), dtype=<class 'numpy.float32'>)\n",
       "  Parameter sequential63_sequential0_sequential1_conv0_weight (shape=(128, 0, 3, 3), dtype=<class 'numpy.float32'>)\n",
       "  Parameter sequential63_sequential0_sequential1_conv0_bias (shape=(128,), dtype=<class 'numpy.float32'>)\n",
       "  Parameter sequential63_sequential0_sequential1_conv1_weight (shape=(128, 0, 3, 3), dtype=<class 'numpy.float32'>)\n",
       "  Parameter sequential63_sequential0_sequential1_conv1_bias (shape=(128,), dtype=<class 'numpy.float32'>)\n",
       "  Parameter sequential63_sequential0_sequential2_conv0_weight (shape=(256, 0, 3, 3), dtype=<class 'numpy.float32'>)\n",
       "  Parameter sequential63_sequential0_sequential2_conv0_bias (shape=(256,), dtype=<class 'numpy.float32'>)\n",
       "  Parameter sequential63_sequential0_sequential2_conv1_weight (shape=(256, 0, 3, 3), dtype=<class 'numpy.float32'>)\n",
       "  Parameter sequential63_sequential0_sequential2_conv1_bias (shape=(256,), dtype=<class 'numpy.float32'>)\n",
       "  Parameter sequential63_dense0_weight (shape=(4096, 0), dtype=float32)\n",
       "  Parameter sequential63_dense0_bias (shape=(4096,), dtype=float32)\n",
       "  Parameter sequential63_dense1_weight (shape=(4096, 0), dtype=float32)\n",
       "  Parameter sequential63_dense1_bias (shape=(4096,), dtype=float32)\n",
       "  Parameter sequential63_dense2_weight (shape=(10, 0), dtype=float32)\n",
       "  Parameter sequential63_dense2_bias (shape=(10,), dtype=float32)\n",
       ")"
      ]
     },
     "execution_count": 156,
     "metadata": {},
     "output_type": "execute_result"
    }
   ],
   "source": [
    "def vgg_block(num_convs,channels):\n",
    "    net=nn.Sequential()\n",
    "    with net.name_scope():\n",
    "        for i in range(num_convs):\n",
    "            net.add(nn.Conv2D(channels,kernel_size=3,padding=1))\n",
    "        net.add(nn.MaxPool2D(pool_size=2,strides=2))\n",
    "    return net \n",
    "def vgg_stack(convs_channels):\n",
    "    net=nn.Sequential()\n",
    "    with net.name_scope():\n",
    "        for num_convs,channels in convs_channels:\n",
    "            net.add(vgg_block(num_convs,channels))\n",
    "    return net \n",
    "convs_channels=[[1,64],[2,128],[2,256]]\n",
    "net=nn.Sequential()\n",
    "with net.name_scope():\n",
    "    net.add(vgg_stack(convs_channels),\n",
    "            nn.AvgPool2D(pool_size=4,strides=2),\n",
    "           nn.Dense(4096),\n",
    "           nn.Dense(4096),\n",
    "           nn.Dropout(.5),\n",
    "           nn.Dense(10))\n",
    "net.initialize()\n",
    "net.collect_params()\n",
    "# net "
   ]
  },
  {
   "cell_type": "code",
   "execution_count": null,
   "metadata": {},
   "outputs": [],
   "source": []
  }
 ],
 "metadata": {
  "kernelspec": {
   "display_name": "Python 3",
   "language": "python",
   "name": "python3"
  },
  "language_info": {
   "codemirror_mode": {
    "name": "ipython",
    "version": 3
   },
   "file_extension": ".py",
   "mimetype": "text/x-python",
   "name": "python",
   "nbconvert_exporter": "python",
   "pygments_lexer": "ipython3",
   "version": "3.7.5"
  },
  "toc": {
   "base_numbering": 1,
   "nav_menu": {},
   "number_sections": true,
   "sideBar": true,
   "skip_h1_title": false,
   "title_cell": "Table of Contents",
   "title_sidebar": "Contents",
   "toc_cell": false,
   "toc_position": {},
   "toc_section_display": true,
   "toc_window_display": false
  }
 },
 "nbformat": 4,
 "nbformat_minor": 4
}
