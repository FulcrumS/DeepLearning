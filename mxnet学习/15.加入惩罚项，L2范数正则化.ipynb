{
 "cells": [
  {
   "cell_type": "code",
   "execution_count": 57,
   "metadata": {
    "scrolled": true
   },
   "outputs": [
    {
     "data": {
      "text/plain": [
       "\n",
       "[[-0.38090214 -0.50800794 -0.13969202 ...  1.6769009  -0.6372913\n",
       "   0.4833494 ]\n",
       " [-0.01161444  0.9083601   1.2296662  ... -0.56653345 -0.7549326\n",
       "   0.4500242 ]\n",
       " [-0.53193796  1.1954637   2.5209265  ...  0.60921013 -1.3575661\n",
       "   1.01458   ]\n",
       " ...\n",
       " [-0.8327861   0.6873399  -0.8492818  ...  0.43920222 -1.3760973\n",
       "   1.2114215 ]\n",
       " [-0.24433094  0.17318508 -0.4639589  ...  0.57033414 -0.58042103\n",
       "   0.303161  ]\n",
       " [-1.0486788   1.3736373  -0.57060236 ... -0.03977551  0.42888406\n",
       "   1.2548896 ]]\n",
       "<NDArray 20x200 @cpu(0)>"
      ]
     },
     "execution_count": 57,
     "metadata": {},
     "output_type": "execute_result"
    }
   ],
   "source": [
    "num_train,num_test,num_inputs=20,100,200 \n",
    "from mxnet import nd \n",
    "X=nd.random.normal(shape=(num_train+num_test,num_inputs))\n",
    "true_w=nd.ones((num_inputs,1))*0.1\n",
    "true_b=1.3 \n",
    "y=nd.dot(X,true_w)+true_b\n",
    "x_train,x_test=X[:num_train],X[num_train:]\n",
    "y_train,y_test=y[:num_train],y[num_train:]\n",
    "x_train"
   ]
  },
  {
   "cell_type": "code",
   "execution_count": 58,
   "metadata": {},
   "outputs": [],
   "source": [
    "w,b=nd.random.normal(shape=(num_inputs,1))*0.1,nd.zeros((1,))\n",
    "params=[w,b]\n",
    "for param in params:\n",
    "    param.attach_grad()"
   ]
  },
  {
   "cell_type": "code",
   "execution_count": 59,
   "metadata": {},
   "outputs": [],
   "source": [
    "batch_size=1\n",
    "def data_iter(num_examples):\n",
    "    import random\n",
    "    idx=list(range(num_examples))\n",
    "    random.shuffle(idx)\n",
    "    for i in range(0,num_examples,batch_size):\n",
    "        j=idx[i:min(i+batch_size,num_examples)]\n",
    "        j=nd.array(j)\n",
    "        yield x_train.take(j),y_train.take(j)\n",
    "\n"
   ]
  },
  {
   "cell_type": "markdown",
   "metadata": {},
   "source": [
    "# 加入惩罚项，L2范数正则化"
   ]
  },
  {
   "cell_type": "code",
   "execution_count": 60,
   "metadata": {},
   "outputs": [],
   "source": [
    "def net(data ,lambd,params):\n",
    "    w,b=params\n",
    "    return nd.dot(data,w)+b+lambd*(nd.power(w,2 ).sum()+b**2)\n",
    "'''gluon版本\n",
    "from mxnet import gluon\n",
    "weigt_decay=3 \n",
    "注意 wd \n",
    "trainer=gluon.Trainer(....,{'learning_rate':learning_rate,'wd':weigt_decay})\n",
    "w = w-lr*grad-wd*w\n",
    "'''\n",
    "def SGD(lr,params):\n",
    "    for param in params:\n",
    "        param[:]=param-lr*param.grad\n",
    "    \n",
    "def square_loss(yhat,y):\n",
    "    return (yhat-y.reshape(yhat.shape))**2 \n",
    "def test(params,X,y):\n",
    "    return square_loss(net(X,0,params),y).mean().asscalar()"
   ]
  },
  {
   "cell_type": "code",
   "execution_count": 61,
   "metadata": {
    "scrolled": true
   },
   "outputs": [
    {
     "data": {
      "image/png": "[encoded data removed]",
      "text/plain": [
       "<Figure size 432x288 with 1 Axes>"
      ]
     },
     "metadata": {
      "needs_background": "light"
     },
     "output_type": "display_data"
    }
   ],
   "source": [
    " \n",
    "def train(lambd):\n",
    "    from mxnet import autograd\n",
    "    epochs=12 \n",
    "    learning_rate=.002 \n",
    "    train_loss,test_loss=[],[]\n",
    "    for i in range(epochs):\n",
    "        for data,label in data_iter(num_train):\n",
    "            with autograd.record():\n",
    "                yhat=net(data,lambd,params)\n",
    "                loss=square_loss(yhat,label)\n",
    "            loss.backward()\n",
    "            SGD(learning_rate,params)\n",
    "        train_loss.append(test(params,x_train,y_train))\n",
    "        test_loss+=[test(params,x_test,y_test)]\n",
    "    import matplotlib.pyplot as plt\n",
    "    plt.plot(train_loss,label='train_loss')\n",
    "    plt.plot(test_loss,label='test_loss')\n",
    "    plt.legend()\n",
    "    plt.show()\n",
    "lambd=2 \n",
    "train(lambd)\n",
    "            \n",
    "            "
   ]
  },
  {
   "cell_type": "code",
   "execution_count": 62,
   "metadata": {
    "scrolled": true
   },
   "outputs": [
    {
     "data": {
      "text/plain": [
       "(\n",
       " [[ 0.04779986]\n",
       "  [ 0.03793692]\n",
       "  [ 0.0382521 ]\n",
       "  [-0.08069552]\n",
       "  [ 0.0542979 ]]\n",
       " <NDArray 5x1 @cpu(0)>, \n",
       " [-0.11660931]\n",
       " <NDArray 1 @cpu(0)>)"
      ]
     },
     "execution_count": 62,
     "metadata": {},
     "output_type": "execute_result"
    }
   ],
   "source": [
    "params[0][:5],params[1 ]"
   ]
  },
  {
   "cell_type": "code",
   "execution_count": 73,
   "metadata": {
    "scrolled": true
   },
   "outputs": [
    {
     "data": {
      "text/plain": [
       "array([[0.44053589, 2.99871197],\n",
       "       [0.44334995, 2.70098774],\n",
       "       [0.44241596, 2.79982313],\n",
       "       ...,\n",
       "       [0.44003806, 3.40890016],\n",
       "       [0.44950046, 3.44082809],\n",
       "       [0.44290395, 3.42093711]])"
      ]
     },
     "execution_count": 73,
     "metadata": {},
     "output_type": "execute_result"
    }
   ],
   "source": [
    "import pandas as pd \n",
    "data=pd.read_excel(r'D:\\test.xls',header=None )\n",
    "c=data.values\n",
    "c"
   ]
  },
  {
   "cell_type": "code",
   "execution_count": 80,
   "metadata": {
    "scrolled": true
   },
   "outputs": [
    {
     "data": {
      "text/plain": [
       "\n",
       "[[0.4405359  2.998712  ]\n",
       " [0.44334996 2.7009878 ]\n",
       " [0.44241595 2.799823  ]\n",
       " ...\n",
       " [0.44003806 3.4089003 ]\n",
       " [0.44950047 3.440828  ]\n",
       " [0.44290394 3.420937  ]]\n",
       "<NDArray 800x2 @cpu(0)>"
      ]
     },
     "execution_count": 80,
     "metadata": {},
     "output_type": "execute_result"
    }
   ],
   "source": [
    "from mxnet import nd \n",
    "nd.array(c )"
   ]
  }
 ],
 "metadata": {
  "kernelspec": {
   "display_name": "Python 3.7.2 64-bit",
   "language": "python",
   "name": "python37264bit976359a467c3400289726740d00d4381"
  },
  "language_info": {
   "codemirror_mode": {
    "name": "ipython",
    "version": 3
   },
   "file_extension": ".py",
   "mimetype": "text/x-python",
   "name": "python",
   "nbconvert_exporter": "python",
   "pygments_lexer": "ipython3",
   "version": "3.7.2"
  }
 },
 "nbformat": 4,
 "nbformat_minor": 2
}
