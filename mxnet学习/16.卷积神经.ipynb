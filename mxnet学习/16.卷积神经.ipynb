{
 "cells": [
  {
   "cell_type": "markdown",
   "metadata": {},
   "source": [
    "# 卷积层\n",
    "\n",
    "## 输入输出的数据格式是： batch * channel * height * width\n",
    "\n",
    "## 权重格式：output_channels * in_channels * height * width"
   ]
  },
  {
   "cell_type": "code",
   "execution_count": 1,
   "metadata": {
    "ExecuteTime": {
     "end_time": "2020-04-19T14:01:23.711874Z",
     "start_time": "2020-04-19T14:01:21.902462Z"
    },
    "scrolled": true
   },
   "outputs": [
    {
     "name": "stdout",
     "output_type": "stream",
     "text": [
      "w:  \n",
      "[[[[0. 1.]\n",
      "   [2. 3.]]]]\n",
      "<NDArray 1x1x2x2 @cpu(0)>\n",
      "b:  \n",
      "[1.]\n",
      "<NDArray 1 @cpu(0)>\n",
      "data:  \n",
      "[[[[0. 1. 2.]\n",
      "   [3. 4. 5.]\n",
      "   [6. 7. 8.]]]]\n",
      "<NDArray 1x1x3x3 @cpu(0)>\n",
      "ou:  \n",
      "[[[[20. 26.]\n",
      "   [38. 44.]]]]\n",
      "<NDArray 1x1x2x2 @cpu(0)>\n"
     ]
    }
   ],
   "source": [
    "from mxnet import nd\n",
    "w=nd.arange(4).reshape((1,1,2,2))\n",
    "b=nd.array([1])\n",
    "data=nd.arange(9).reshape((1,1,3,3))\n",
    "out=nd.Convolution(data,w,b,kernel=w.shape[2:],num_filter=w.shape[1])\n",
    "print('w: ',w)\n",
    "print('b: ',b)\n",
    "print('data: ',data)\n",
    "print('ou: ',out)"
   ]
  },
  {
   "cell_type": "markdown",
   "metadata": {},
   "source": [
    "# 窗口移动和边缘填充"
   ]
  },
  {
   "cell_type": "code",
   "execution_count": 2,
   "metadata": {
    "ExecuteTime": {
     "end_time": "2020-04-19T14:01:23.736867Z",
     "start_time": "2020-04-19T14:01:23.714863Z"
    },
    "scrolled": false
   },
   "outputs": [
    {
     "data": {
      "text/plain": [
       "\n",
       "[[[[ 1.  9.]\n",
       "   [22. 44.]]]]\n",
       "<NDArray 1x1x2x2 @cpu(0)>"
      ]
     },
     "execution_count": 2,
     "metadata": {},
     "output_type": "execute_result"
    }
   ],
   "source": [
    "out=nd.Convolution(data,w,b,kernel=w.shape[2:],num_filter=w.shape[0 ],stride=(2 ,2),pad=(1,1))\n",
    "out"
   ]
  },
  {
   "cell_type": "code",
   "execution_count": 3,
   "metadata": {
    "ExecuteTime": {
     "end_time": "2020-04-19T14:01:23.756874Z",
     "start_time": "2020-04-19T14:01:23.740869Z"
    },
    "scrolled": true
   },
   "outputs": [
    {
     "name": "stdout",
     "output_type": "stream",
     "text": [
      "w:  \n",
      "[[[[0. 1.]\n",
      "   [2. 3.]]\n",
      "\n",
      "  [[4. 5.]\n",
      "   [6. 7.]]]]\n",
      "<NDArray 1x2x2x2 @cpu(0)>\n",
      "b:  \n",
      "[1.]\n",
      "<NDArray 1 @cpu(0)>\n",
      "data:  \n",
      "[[[[ 0.  1.  2.]\n",
      "   [ 3.  4.  5.]\n",
      "   [ 6.  7.  8.]]\n",
      "\n",
      "  [[ 9. 10. 11.]\n",
      "   [12. 13. 14.]\n",
      "   [15. 16. 17.]]]]\n",
      "<NDArray 1x2x3x3 @cpu(0)>\n",
      "out:  \n",
      "[[[[269. 297.]\n",
      "   [353. 381.]]]]\n",
      "<NDArray 1x1x2x2 @cpu(0)>\n",
      "(2, 2) 1\n"
     ]
    }
   ],
   "source": [
    "w=nd.arange(8).reshape((1,2,2,2))\n",
    "b=nd.array([1])\n",
    "data=nd.arange(18).reshape((1,2,3,3))\n",
    "out=nd.Convolution(data,w,b,kernel=w.shape[2:],num_filter=w.shape[0])\n",
    "print('w: ',w)\n",
    "print('b: ',b)\n",
    "print('data: ',data)\n",
    "print('out: ',out)\n",
    "print(w.shape[2:],w.shape[0])"
   ]
  },
  {
   "cell_type": "code",
   "execution_count": 4,
   "metadata": {
    "ExecuteTime": {
     "end_time": "2020-04-19T14:01:23.766874Z",
     "start_time": "2020-04-19T14:01:23.758873Z"
    }
   },
   "outputs": [
    {
     "name": "stdout",
     "output_type": "stream",
     "text": [
      "w:  \n",
      "[[[[ 0.  1.]\n",
      "   [ 2.  3.]]\n",
      "\n",
      "  [[ 4.  5.]\n",
      "   [ 6.  7.]]]\n",
      "\n",
      "\n",
      " [[[ 8.  9.]\n",
      "   [10. 11.]]\n",
      "\n",
      "  [[12. 13.]\n",
      "   [14. 15.]]]]\n",
      "<NDArray 2x2x2x2 @cpu(0)>\n",
      "b:  \n",
      "[1. 1.]\n",
      "<NDArray 2 @cpu(0)>\n",
      "data:  \n",
      "[[[[ 0.  1.  2.]\n",
      "   [ 3.  4.  5.]\n",
      "   [ 6.  7.  8.]]\n",
      "\n",
      "  [[ 9. 10. 11.]\n",
      "   [12. 13. 14.]\n",
      "   [15. 16. 17.]]]]\n",
      "<NDArray 1x2x3x3 @cpu(0)>\n",
      "out:  \n",
      "[[[[ 269.  297.]\n",
      "   [ 353.  381.]]\n",
      "\n",
      "  [[ 685.  777.]\n",
      "   [ 961. 1053.]]]]\n",
      "<NDArray 1x2x2x2 @cpu(0)>\n"
     ]
    }
   ],
   "source": [
    "w=nd.arange(16).reshape((2,2,2,2))\n",
    "b=nd.array([1,1])\n",
    "data=nd.arange(18).reshape((1,2,3,3))\n",
    "out=nd.Convolution(data,w,b,kernel=w.shape[2:],num_filter=w.shape[0])\n",
    "print('w: ',w)\n",
    "print('b: ',b)\n",
    "print('data: ',data)\n",
    "print('out: ',out)"
   ]
  },
  {
   "cell_type": "code",
   "execution_count": 5,
   "metadata": {
    "ExecuteTime": {
     "end_time": "2020-04-19T14:01:23.774876Z",
     "start_time": "2020-04-19T14:01:23.767874Z"
    },
    "scrolled": true
   },
   "outputs": [
    {
     "data": {
      "text/plain": [
       "(\n",
       " [[[[ 0.  1.  2.]\n",
       "    [ 3.  4.  5.]]\n",
       " \n",
       "   [[ 6.  7.  8.]\n",
       "    [ 9. 10. 11.]]]]\n",
       " <NDArray 1x2x2x3 @cpu(0)>,\n",
       " \n",
       " [[[[ 4.  5.]]\n",
       " \n",
       "   [[10. 11.]]]]\n",
       " <NDArray 1x2x1x2 @cpu(0)>,\n",
       " \n",
       " [[[[1.5 2.5 3.5]]\n",
       " \n",
       "   [[7.5 8.5 9.5]]]]\n",
       " <NDArray 1x2x1x3 @cpu(0)>)"
      ]
     },
     "execution_count": 5,
     "metadata": {},
     "output_type": "execute_result"
    }
   ],
   "source": [
    "data=nd.arange(12).reshape((1,2,2,3))\n",
    "max_pool=nd.Pooling(data,pool_type='max',kernel=(2,2))\n",
    "avg_pool=nd.Pooling(data,pool_type='avg',kernel=(2,1))\n",
    "data,max_pool,avg_pool"
   ]
  },
  {
   "cell_type": "markdown",
   "metadata": {},
   "source": [
    "# 定义模型"
   ]
  },
  {
   "cell_type": "code",
   "execution_count": 6,
   "metadata": {
    "ExecuteTime": {
     "end_time": "2020-04-19T14:01:23.783879Z",
     "start_time": "2020-04-19T14:01:23.775874Z"
    },
    "scrolled": true
   },
   "outputs": [
    {
     "data": {
      "text/plain": [
       "cpu(0)"
      ]
     },
     "execution_count": 6,
     "metadata": {},
     "output_type": "execute_result"
    }
   ],
   "source": [
    "import mxnet as mx \n",
    "try:\n",
    "    ctx=mx.gpu()\n",
    "    _=nd.zeros((1,),ctx=ctx)\n",
    "except:\n",
    "    ctx=mx.cpu()\n",
    "ctx\n",
    "    "
   ]
  },
  {
   "cell_type": "code",
   "execution_count": 7,
   "metadata": {
    "ExecuteTime": {
     "end_time": "2020-04-19T14:01:23.792880Z",
     "start_time": "2020-04-19T14:01:23.784879Z"
    }
   },
   "outputs": [],
   "source": [
    "weight_scale=.01\n",
    "num_outputs=10 \n",
    "w1=nd.random_normal(shape=(20,1,5,5),scale=weight_scale,ctx=ctx)\n",
    "b1=nd.zeros(w1.shape[0],ctx=ctx)\n",
    "w2=nd.random_normal(shape=(50,20,3,3),scale=weight_scale,ctx=ctx)\n",
    "b2=nd.zeros(w2.shape[0],ctx=ctx)\n",
    "\n",
    "w3=nd.random_normal(shape=(1250,128),scale=weight_scale,ctx=ctx)\n",
    "b3=nd.zeros(w3.shape[1],ctx=ctx)\n",
    "w4=nd.random_normal(shape=(w3.shape[1],10),scale=weight_scale,ctx=ctx)\n",
    "b4=nd.zeros(w4.shape[1],ctx=ctx)\n",
    "params=[w1,b1,w2,b2,w3,b3,w4,b4]\n",
    "for param in params:\n",
    "    param.attach_grad()"
   ]
  },
  {
   "cell_type": "code",
   "execution_count": 8,
   "metadata": {
    "ExecuteTime": {
     "end_time": "2020-04-19T14:01:23.802883Z",
     "start_time": "2020-04-19T14:01:23.794879Z"
    }
   },
   "outputs": [],
   "source": [
    "def net(X, verbose=False):\n",
    "    X = X.as_in_context(w1.context)\n",
    "#     第一层卷积\n",
    "    h1_conv = nd.Convolution(\n",
    "        X, w1, b1, kernel=w1.shape[2:], num_filter=w1.shape[0])\n",
    "    h1_activation = nd.relu(h1_conv1)\n",
    "    h1 = nd.Pooling(data=h1_activation, pool_type='max',\n",
    "                    kernel=(2, 2), stride=(2, 2))\n",
    "#     第一层卷积\n",
    "    h2_conv = nd.Convolution(\n",
    "        h1, w2, b2, kernel=w2.shape[2:], num_filter=w2.shape[0])\n",
    "    h2_activation = nd.relu(h2_conv)\n",
    "    h2 = nd.Pooling(h2_activation, pool_type='max',\n",
    "                    kernel=(2, 2), stride=(2, 2))\n",
    "    h2 = nd.flatten(h2)\n",
    "#     第一层全连接\n",
    "    h3_linear = nd.dot(h2, w3)+b3\n",
    "    h3 = nd.relu(h3_linear)\n",
    "#     第二层全连接\n",
    "    h4_linear = nd.dot(h3, w4)+b4\n",
    "    if verbose:\n",
    "        print('1st conv block:', h1.shape)\n",
    "        print('2nd conv block:', h2.shape)\n",
    "        print('1st dense: ', h3.shape)\n",
    "        print('2nd dense: ', h4_linear.shape)\n",
    "        print('output: ', h4_linear)"
   ]
  },
  {
   "cell_type": "markdown",
   "metadata": {},
   "source": [
    "# 获得数据"
   ]
  },
  {
   "cell_type": "code",
   "execution_count": 9,
   "metadata": {
    "ExecuteTime": {
     "end_time": "2020-04-19T14:01:24.232977Z",
     "start_time": "2020-04-19T14:01:23.804884Z"
    }
   },
   "outputs": [],
   "source": [
    "from mxnet import gluon\n",
    "from mxnet import nd\n",
    "from mxnet import autograd\n",
    "\n",
    "\n",
    "def transform(data, label):\n",
    "    return data.astype('float32')/255, label.astype('float32')\n",
    "\n",
    "\n",
    "minist_train = gluon.data.vision.FashionMNIST(\n",
    "    root='fashion-mnist/', train=True, transform=transform)\n",
    "minist_test = gluon.data.vision.FashionMNIST(\n",
    "    root='fashion-mnist/', train=False, transform=transform)\n",
    "batch_size = 256\n",
    "train_data = gluon.data.DataLoader(\n",
    "    minist_train, batch_size=batch_size, shuffle=True)\n",
    "test_data = gluon.data.DataLoader(minist_test, batch_size, shuffle=True)"
   ]
  },
  {
   "cell_type": "code",
   "execution_count": 10,
   "metadata": {
    "ExecuteTime": {
     "end_time": "2020-04-19T14:01:24.330000Z",
     "start_time": "2020-04-19T14:01:24.233978Z"
    },
    "scrolled": true
   },
   "outputs": [
    {
     "ename": "MXNetError",
     "evalue": "Shape inconsistent, Provided = [20,1,5,5], inferred shape=(20,28,5,5)",
     "output_type": "error",
     "traceback": [
      "\u001b[1;31m---------------------------------------------------------------------------\u001b[0m",
      "\u001b[1;31mMXNetError\u001b[0m                                Traceback (most recent call last)",
      "\u001b[1;32m<ipython-input-10-f679c6463d0e>\u001b[0m in \u001b[0;36m<module>\u001b[1;34m\u001b[0m\n\u001b[0;32m      1\u001b[0m \u001b[1;32mfor\u001b[0m \u001b[0mdata\u001b[0m \u001b[1;33m,\u001b[0m\u001b[0m_\u001b[0m \u001b[1;32min\u001b[0m \u001b[0mtrain_data\u001b[0m\u001b[1;33m:\u001b[0m\u001b[1;33m\u001b[0m\u001b[1;33m\u001b[0m\u001b[0m\n\u001b[1;32m----> 2\u001b[1;33m     \u001b[0mnet\u001b[0m\u001b[1;33m(\u001b[0m\u001b[0mdata\u001b[0m\u001b[1;33m,\u001b[0m\u001b[1;32mTrue\u001b[0m\u001b[1;33m)\u001b[0m\u001b[1;33m\u001b[0m\u001b[1;33m\u001b[0m\u001b[0m\n\u001b[0m\u001b[0;32m      3\u001b[0m     \u001b[1;32mbreak\u001b[0m\u001b[1;33m\u001b[0m\u001b[1;33m\u001b[0m\u001b[0m\n",
      "\u001b[1;32m<ipython-input-8-fd11c1ca02b7>\u001b[0m in \u001b[0;36mnet\u001b[1;34m(X, verbose)\u001b[0m\n\u001b[0;32m      3\u001b[0m \u001b[1;31m#     第一层卷积\u001b[0m\u001b[1;33m\u001b[0m\u001b[1;33m\u001b[0m\u001b[1;33m\u001b[0m\u001b[0m\n\u001b[0;32m      4\u001b[0m     h1_conv = nd.Convolution(\n\u001b[1;32m----> 5\u001b[1;33m         X, w1, b1, kernel=w1.shape[2:], num_filter=w1.shape[0])\n\u001b[0m\u001b[0;32m      6\u001b[0m     \u001b[0mh1_activation\u001b[0m \u001b[1;33m=\u001b[0m \u001b[0mnd\u001b[0m\u001b[1;33m.\u001b[0m\u001b[0mrelu\u001b[0m\u001b[1;33m(\u001b[0m\u001b[0mh1_conv1\u001b[0m\u001b[1;33m)\u001b[0m\u001b[1;33m\u001b[0m\u001b[1;33m\u001b[0m\u001b[0m\n\u001b[0;32m      7\u001b[0m     h1 = nd.Pooling(data=h1_activation, pool_type='max',\n",
      "\u001b[1;32md:\\software\\python37\\lib\\site-packages\\mxnet\\ndarray\\register.py\u001b[0m in \u001b[0;36mConvolution\u001b[1;34m(data, weight, bias, kernel, stride, dilate, pad, num_filter, num_group, workspace, no_bias, cudnn_tune, cudnn_off, layout, out, name, **kwargs)\u001b[0m\n",
      "\u001b[1;32md:\\software\\python37\\lib\\site-packages\\mxnet\\_ctypes\\ndarray.py\u001b[0m in \u001b[0;36m_imperative_invoke\u001b[1;34m(handle, ndargs, keys, vals, out, is_np_op)\u001b[0m\n\u001b[0;32m    105\u001b[0m         \u001b[0mc_str_array\u001b[0m\u001b[1;33m(\u001b[0m\u001b[0mkeys\u001b[0m\u001b[1;33m)\u001b[0m\u001b[1;33m,\u001b[0m\u001b[1;33m\u001b[0m\u001b[1;33m\u001b[0m\u001b[0m\n\u001b[0;32m    106\u001b[0m         \u001b[0mc_str_array\u001b[0m\u001b[1;33m(\u001b[0m\u001b[1;33m[\u001b[0m\u001b[0mstr\u001b[0m\u001b[1;33m(\u001b[0m\u001b[0ms\u001b[0m\u001b[1;33m)\u001b[0m \u001b[1;32mfor\u001b[0m \u001b[0ms\u001b[0m \u001b[1;32min\u001b[0m \u001b[0mvals\u001b[0m\u001b[1;33m]\u001b[0m\u001b[1;33m)\u001b[0m\u001b[1;33m,\u001b[0m\u001b[1;33m\u001b[0m\u001b[1;33m\u001b[0m\u001b[0m\n\u001b[1;32m--> 107\u001b[1;33m         ctypes.byref(out_stypes)))\n\u001b[0m\u001b[0;32m    108\u001b[0m \u001b[1;33m\u001b[0m\u001b[0m\n\u001b[0;32m    109\u001b[0m     \u001b[0mcreate_ndarray_fn\u001b[0m \u001b[1;33m=\u001b[0m \u001b[0m_np_ndarray_cls\u001b[0m \u001b[1;32mif\u001b[0m \u001b[0mis_np_op\u001b[0m \u001b[1;32melse\u001b[0m \u001b[0m_ndarray_cls\u001b[0m\u001b[1;33m\u001b[0m\u001b[1;33m\u001b[0m\u001b[0m\n",
      "\u001b[1;32md:\\software\\python37\\lib\\site-packages\\mxnet\\base.py\u001b[0m in \u001b[0;36mcheck_call\u001b[1;34m(ret)\u001b[0m\n\u001b[0;32m    253\u001b[0m     \"\"\"\n\u001b[0;32m    254\u001b[0m     \u001b[1;32mif\u001b[0m \u001b[0mret\u001b[0m \u001b[1;33m!=\u001b[0m \u001b[1;36m0\u001b[0m\u001b[1;33m:\u001b[0m\u001b[1;33m\u001b[0m\u001b[1;33m\u001b[0m\u001b[0m\n\u001b[1;32m--> 255\u001b[1;33m         \u001b[1;32mraise\u001b[0m \u001b[0mMXNetError\u001b[0m\u001b[1;33m(\u001b[0m\u001b[0mpy_str\u001b[0m\u001b[1;33m(\u001b[0m\u001b[0m_LIB\u001b[0m\u001b[1;33m.\u001b[0m\u001b[0mMXGetLastError\u001b[0m\u001b[1;33m(\u001b[0m\u001b[1;33m)\u001b[0m\u001b[1;33m)\u001b[0m\u001b[1;33m)\u001b[0m\u001b[1;33m\u001b[0m\u001b[1;33m\u001b[0m\u001b[0m\n\u001b[0m\u001b[0;32m    256\u001b[0m \u001b[1;33m\u001b[0m\u001b[0m\n\u001b[0;32m    257\u001b[0m \u001b[1;33m\u001b[0m\u001b[0m\n",
      "\u001b[1;31mMXNetError\u001b[0m: Shape inconsistent, Provided = [20,1,5,5], inferred shape=(20,28,5,5)"
     ]
    }
   ],
   "source": [
    "for data ,_ in train_data:\n",
    "    net(data,True)\n",
    "    break"
   ]
  },
  {
   "cell_type": "code",
   "execution_count": null,
   "metadata": {
    "ExecuteTime": {
     "end_time": "2020-04-19T14:01:24.331001Z",
     "start_time": "2020-04-19T14:01:21.934Z"
    }
   },
   "outputs": [],
   "source": [
    "def accuracy(output, label):\n",
    "    return nd.mean(output.argmax(axis=1) == label).asscalar()\n",
    "def SGD(params,lr):\n",
    "    for param in params:\n",
    "        param[:]=param-param.grad * lr\n",
    "softmax_cross_entropy=gluon.loss.SoftmaxCrossEntropyLoss()\n",
    "epochs = 5\n",
    "learning_rate=.01 \n",
    "for e in range(1, epochs+1):\n",
    "    train_acc, train_loss = 0., 0.\n",
    "    for data, label in train_data:\n",
    "        with autograd.record():\n",
    "            output = net(data)\n",
    "            loss = softmax_cross_entropy(output, label)\n",
    "        loss.backward()\n",
    "        SGD(params,learning_rate/batch_size)\n",
    "        train_acc += accuracy(output, label)\n",
    "        train_loss += nd.mean(loss).asscalar()\n",
    "    test_acc = evaluate_accuracy(test_iter, net)\n",
    "    print('epoch %d,loss:%f..,train_accuracy:%f,test_accuracy:%f..' % (e, train_loss/len(train_iter), train_acc/len(train_iter),\n",
    "                                                                       test_acc/len(test_iter)))"
   ]
  },
  {
   "cell_type": "code",
   "execution_count": 2,
   "metadata": {
    "ExecuteTime": {
     "end_time": "2020-05-13T23:12:25.890874Z",
     "start_time": "2020-05-13T23:12:25.878872Z"
    }
   },
   "outputs": [
    {
     "data": {
      "text/plain": [
       "\n",
       "[0.4]\n",
       "<NDArray 1 @cpu(0)>"
      ]
     },
     "execution_count": 2,
     "metadata": {},
     "output_type": "execute_result"
    }
   ],
   "source": [
    "from mxnet import nd \n",
    "p1=nd.array([1,2,4,2,3,])\n",
    "p2=nd.array([1,2,3,1,1,])\n",
    "(p1==p2 ).mean() "
   ]
  }
 ],
 "metadata": {
  "kernelspec": {
   "display_name": "Python 3",
   "language": "python",
   "name": "python3"
  },
  "language_info": {
   "codemirror_mode": {
    "name": "ipython",
    "version": 3
   },
   "file_extension": ".py",
   "mimetype": "text/x-python",
   "name": "python",
   "nbconvert_exporter": "python",
   "pygments_lexer": "ipython3",
   "version": "3.7.5"
  },
  "toc": {
   "base_numbering": 1,
   "nav_menu": {},
   "number_sections": true,
   "sideBar": true,
   "skip_h1_title": false,
   "title_cell": "Table of Contents",
   "title_sidebar": "Contents",
   "toc_cell": false,
   "toc_position": {
    "height": "calc(100% - 180px)",
    "left": "10px",
    "top": "150px",
    "width": "256px"
   },
   "toc_section_display": true,
   "toc_window_display": false
  }
 },
 "nbformat": 4,
 "nbformat_minor": 2
}
