{
 "cells": [
  {
   "cell_type": "markdown",
   "metadata": {},
   "source": [
    "在所有的机器学习分类算法中，朴素贝叶斯(**各特征独立分布**)和其他绝大多数的分类算法都不同。对于大多数的分类算法，比如决策树,KNN,逻辑回归，支持向量机等，他们都是判别方法，也就是直接学习出特征输出Y和特征X之间的关系，要么是决策函数$Y=f(X)$,要么是条件分布$P(Y|X)$。但是朴素贝叶斯却是生成方法，也就是直接找出特征输出Y和特征X的联合分布$P(X,Y)$,然后用$P(Y|X)=P(X,Y)/P(X)$得出。\n",
    "\n",
    "贝叶斯算法可以很好的处理有限样本情况下的概率分类问题."
   ]
  },
  {
   "cell_type": "markdown",
   "metadata": {},
   "source": [
    "## 通过学习类的先验概率和类条件概率来完成\n",
    "![微信图片_20200522181618.png](https://img01.sogoucdn.com/app/a/100520146/abb44f2fa394b0ffa42ef7c32010df79)"
   ]
  },
  {
   "cell_type": "markdown",
   "metadata": {},
   "source": [
    "$$P(A|B)=\\frac{P(B|A)\\times P(A)}{P(B)}$$"
   ]
  },
  {
   "cell_type": "code",
   "execution_count": 29,
   "metadata": {
    "ExecuteTime": {
     "end_time": "2020-05-22T09:38:10.397272Z",
     "start_time": "2020-05-22T09:38:09.672164Z"
    },
    "collapsed": true
   },
   "outputs": [
    {
     "data": {
      "text/html": [
       "<div>\n",
       "<style scoped>\n",
       "    .dataframe tbody tr th:only-of-type {\n",
       "        vertical-align: middle;\n",
       "    }\n",
       "\n",
       "    .dataframe tbody tr th {\n",
       "        vertical-align: top;\n",
       "    }\n",
       "\n",
       "    .dataframe thead th {\n",
       "        text-align: right;\n",
       "    }\n",
       "</style>\n",
       "<table border=\"1\" class=\"dataframe\">\n",
       "  <thead>\n",
       "    <tr style=\"text-align: right;\">\n",
       "      <th></th>\n",
       "      <th>x1</th>\n",
       "      <th>x2</th>\n",
       "      <th>y</th>\n",
       "    </tr>\n",
       "  </thead>\n",
       "  <tbody>\n",
       "    <tr>\n",
       "      <th>0</th>\n",
       "      <td>1</td>\n",
       "      <td>S</td>\n",
       "      <td>-1</td>\n",
       "    </tr>\n",
       "    <tr>\n",
       "      <th>1</th>\n",
       "      <td>1</td>\n",
       "      <td>M</td>\n",
       "      <td>-1</td>\n",
       "    </tr>\n",
       "    <tr>\n",
       "      <th>2</th>\n",
       "      <td>1</td>\n",
       "      <td>M</td>\n",
       "      <td>1</td>\n",
       "    </tr>\n",
       "    <tr>\n",
       "      <th>3</th>\n",
       "      <td>1</td>\n",
       "      <td>S</td>\n",
       "      <td>1</td>\n",
       "    </tr>\n",
       "    <tr>\n",
       "      <th>4</th>\n",
       "      <td>1</td>\n",
       "      <td>S</td>\n",
       "      <td>-1</td>\n",
       "    </tr>\n",
       "    <tr>\n",
       "      <th>5</th>\n",
       "      <td>2</td>\n",
       "      <td>S</td>\n",
       "      <td>-1</td>\n",
       "    </tr>\n",
       "    <tr>\n",
       "      <th>6</th>\n",
       "      <td>2</td>\n",
       "      <td>M</td>\n",
       "      <td>-1</td>\n",
       "    </tr>\n",
       "    <tr>\n",
       "      <th>7</th>\n",
       "      <td>2</td>\n",
       "      <td>M</td>\n",
       "      <td>1</td>\n",
       "    </tr>\n",
       "    <tr>\n",
       "      <th>8</th>\n",
       "      <td>2</td>\n",
       "      <td>L</td>\n",
       "      <td>1</td>\n",
       "    </tr>\n",
       "    <tr>\n",
       "      <th>9</th>\n",
       "      <td>2</td>\n",
       "      <td>L</td>\n",
       "      <td>1</td>\n",
       "    </tr>\n",
       "    <tr>\n",
       "      <th>10</th>\n",
       "      <td>3</td>\n",
       "      <td>L</td>\n",
       "      <td>1</td>\n",
       "    </tr>\n",
       "    <tr>\n",
       "      <th>11</th>\n",
       "      <td>3</td>\n",
       "      <td>M</td>\n",
       "      <td>1</td>\n",
       "    </tr>\n",
       "    <tr>\n",
       "      <th>12</th>\n",
       "      <td>3</td>\n",
       "      <td>M</td>\n",
       "      <td>1</td>\n",
       "    </tr>\n",
       "    <tr>\n",
       "      <th>13</th>\n",
       "      <td>3</td>\n",
       "      <td>L</td>\n",
       "      <td>1</td>\n",
       "    </tr>\n",
       "    <tr>\n",
       "      <th>14</th>\n",
       "      <td>3</td>\n",
       "      <td>L</td>\n",
       "      <td>-1</td>\n",
       "    </tr>\n",
       "  </tbody>\n",
       "</table>\n",
       "</div>"
      ],
      "text/plain": [
       "    x1 x2  y\n",
       "0    1  S -1\n",
       "1    1  M -1\n",
       "2    1  M  1\n",
       "3    1  S  1\n",
       "4    1  S -1\n",
       "5    2  S -1\n",
       "6    2  M -1\n",
       "7    2  M  1\n",
       "8    2  L  1\n",
       "9    2  L  1\n",
       "10   3  L  1\n",
       "11   3  M  1\n",
       "12   3  M  1\n",
       "13   3  L  1\n",
       "14   3  L -1"
      ]
     },
     "execution_count": 29,
     "metadata": {},
     "output_type": "execute_result"
    }
   ],
   "source": [
    "import numpy as np \n",
    "import pandas as pd \n",
    "x1 = [1,1,1,1,1,2,2,2,2,2,3,3,3,3,3]\n",
    "x2 = ['S','M','M','S','S','S','M','M','L','L','L','M','M','L','L']\n",
    "y = [-1,-1,1,1,-1,-1,-1,1,1,1,1,1,1,1,-1]\n",
    "df = pd.DataFrame({'x1':x1, 'x2':x2, 'y':y})\n",
    "# df.head()\n",
    "df "
   ]
  },
  {
   "cell_type": "code",
   "execution_count": 32,
   "metadata": {
    "ExecuteTime": {
     "end_time": "2020-05-22T09:51:42.699024Z",
     "start_time": "2020-05-22T09:51:42.684692Z"
    },
    "collapsed": true
   },
   "outputs": [
    {
     "data": {
      "text/plain": [
       "(    x1 x2\n",
       " 0    1  S\n",
       " 1    1  M\n",
       " 2    1  M\n",
       " 3    1  S\n",
       " 4    1  S\n",
       " 5    2  S\n",
       " 6    2  M\n",
       " 7    2  M\n",
       " 8    2  L\n",
       " 9    2  L\n",
       " 10   3  L\n",
       " 11   3  M\n",
       " 12   3  M\n",
       " 13   3  L\n",
       " 14   3  L,\n",
       " 0    -1\n",
       " 1    -1\n",
       " 2     1\n",
       " 3     1\n",
       " 4    -1\n",
       " 5    -1\n",
       " 6    -1\n",
       " 7     1\n",
       " 8     1\n",
       " 9     1\n",
       " 10    1\n",
       " 11    1\n",
       " 12    1\n",
       " 13    1\n",
       " 14   -1\n",
       " Name: y, dtype: int64)"
      ]
     },
     "execution_count": 32,
     "metadata": {},
     "output_type": "execute_result"
    }
   ],
   "source": [
    "X=df[df.columns[:-1]]\n",
    "Y=df[df.columns[-1]]\n",
    "X,Y"
   ]
  },
  {
   "cell_type": "markdown",
   "metadata": {},
   "source": [
    "## 计算类先验概率和类条件概率\n",
    "### 定义朴素贝叶斯训练过程：\n"
   ]
  },
  {
   "cell_type": "code",
   "execution_count": 54,
   "metadata": {
    "ExecuteTime": {
     "end_time": "2020-05-22T12:33:54.447766Z",
     "start_time": "2020-05-22T12:33:54.419330Z"
    },
    "collapsed": true
   },
   "outputs": [
    {
     "data": {
      "text/plain": [
       "(array([-1,  1], dtype=int64),\n",
       "  1    0.6\n",
       " -1    0.4\n",
       " Name: y, dtype: float64,\n",
       " {('x1', 1, -1): 0.5,\n",
       "  ('x1', 2, -1): 0.3333333333333333,\n",
       "  ('x1', 3, -1): 0.16666666666666666,\n",
       "  ('x1', 3, 1): 0.4444444444444444,\n",
       "  ('x1', 2, 1): 0.3333333333333333,\n",
       "  ('x1', 1, 1): 0.2222222222222222,\n",
       "  ('x2', 'S', -1): 0.5,\n",
       "  ('x2', 'M', -1): 0.3333333333333333,\n",
       "  ('x2', 'L', -1): 0.16666666666666666,\n",
       "  ('x2', 'M', 1): 0.4444444444444444,\n",
       "  ('x2', 'L', 1): 0.4444444444444444,\n",
       "  ('x2', 'S', 1): 0.1111111111111111})"
      ]
     },
     "execution_count": 54,
     "metadata": {},
     "output_type": "execute_result"
    }
   ],
   "source": [
    "def nb_fit(X,Y):\n",
    "    classes=Y.unique()\n",
    "    class_count=Y.value_counts() \n",
    "    class_prior= class_count/len(Y) # 类先验概率 ,P(A):含义是 A 事件存在的概率；\n",
    "    prior={} # 类条件概率, P(B|A):含义是在A 的结果下出现 B 条件的概率；\n",
    "    for col in X.columns:\n",
    "        for j in classes:\n",
    "            p_x_y=X[Y==j][col].value_counts()\n",
    "            for i in p_x_y.index:\n",
    "                prior[(col,i,j)]=p_x_y[i]/class_count[j]\n",
    "    return classes,class_prior,prior\n",
    "nb_fit(X,Y)"
   ]
  },
  {
   "cell_type": "markdown",
   "metadata": {},
   "source": [
    "## 计算其对应的最大后验概率，然后判断其所属的类别\n",
    "### 给定测试实例并进行预测：\n",
    "\n",
    "$$P(y=1|x1=2,x2=M)=\\frac{P(x1=2|y=1) \\times P(x2=M|y=1) \\times P(y=1)}{P(x=1,x2=M)}$$\n",
    "> \n",
    "$$P(y=-1|x1=2,x2=M)=\\frac{P(x1=2|y=-1) \\times P(x2=M|y=-1) \\times P(y=-1)}{P(x=1,x2=M)}$$\n",
    ">因为分母相同，所以计算时省略分母，比较在X_test条件下y=1 和 y=-1 概率，**相对**其他分类结果的概率大着为其分类结果"
   ]
  },
  {
   "cell_type": "code",
   "execution_count": 57,
   "metadata": {
    "ExecuteTime": {
     "end_time": "2020-05-22T13:16:32.253648Z",
     "start_time": "2020-05-22T13:16:32.237780Z"
    }
   },
   "outputs": [
    {
     "name": "stdout",
     "output_type": "stream",
     "text": [
      "[0.044444444444444446, 0.08888888888888888]\n"
     ]
    },
    {
     "data": {
      "text/plain": [
       "('预测数据类别为:', 1)"
      ]
     },
     "execution_count": 57,
     "metadata": {},
     "output_type": "execute_result"
    }
   ],
   "source": [
    "X_test = {'x1': 2, 'x2': 'M'}\n",
    "def predict(X_test):\n",
    "    res=[] # 存储 后验概率\n",
    "    for c in classes:\n",
    "        p_y=class_prior[c]\n",
    "        p_x_y=1 \n",
    "        for i in X_test.items():\n",
    "            p_x_y*=prior.get(tuple(list(i)+[c]),0.0004) # 平滑处理:避免0 概率的发生\n",
    "        res+=[p_y*p_x_y]\n",
    "    print(res)\n",
    "    return classes[np.argmax(res)]\n",
    "\"预测数据类别为:\",predict(X_test)"
   ]
  },
  {
   "cell_type": "code",
   "execution_count": 58,
   "metadata": {
    "ExecuteTime": {
     "end_time": "2020-05-22T14:35:38.900948Z",
     "start_time": "2020-05-22T14:35:38.892943Z"
    }
   },
   "outputs": [
    {
     "data": {
      "text/plain": [
       "0.20247787610619472"
      ]
     },
     "execution_count": 58,
     "metadata": {},
     "output_type": "execute_result"
    }
   ],
   "source": [
    "a=0.88+0.25\n",
    "b=0.12+0.75 \n",
    "(0.88*0.13)/(a/(a+b))"
   ]
  }
 ],
 "metadata": {
  "kernelspec": {
   "display_name": "Python 3.7.5 64-bit",
   "language": "python",
   "name": "python37564bita5f53f9b60c0490aa934da503dc99db2"
  },
  "language_info": {
   "codemirror_mode": {
    "name": "ipython",
    "version": 3
   },
   "file_extension": ".py",
   "mimetype": "text/x-python",
   "name": "python",
   "nbconvert_exporter": "python",
   "pygments_lexer": "ipython3",
   "version": "3.7.5"
  },
  "toc": {
   "base_numbering": 1,
   "nav_menu": {},
   "number_sections": true,
   "sideBar": true,
   "skip_h1_title": false,
   "title_cell": "Table of Contents",
   "title_sidebar": "Contents",
   "toc_cell": false,
   "toc_position": {},
   "toc_section_display": true,
   "toc_window_display": false
  }
 },
 "nbformat": 4,
 "nbformat_minor": 4
}
