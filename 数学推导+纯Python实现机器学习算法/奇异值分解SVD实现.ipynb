{
 "cells": [
  {
   "cell_type": "markdown",
   "metadata": {},
   "source": [
    " 奇异值分解（Singular Value Decomposition，SVD）作为一种常用的**矩阵分解和数据降维**方法，在机器学习中也得到了广泛的应用，比如自然语言处理中的SVD词向量和潜在语义索引，推荐系统中的特征分解，SVD用于PCA降维以及图像去噪与压缩等。作为一个基础算法，我们有必要将其单独拎出来在机器学习系列中进行详述。\\\n"
   ]
  },
  {
   "cell_type": "markdown",
   "metadata": {
    "ExecuteTime": {
     "end_time": "2020-05-29T10:30:26.877146Z",
     "start_time": "2020-05-29T10:30:26.868150Z"
    }
   },
   "source": [
    "**A的矩阵分解**\\\n",
    " **$n \\times n$方阵分解(方阵才能计算特征值和特征向量)**\n",
    "$$1. 根据 如下直接求出A的特征值和特征向量\\\\\n",
    "Ax=\\lambda x $$\n",
    "> \n",
    "> $$2. 然后矩阵就可以用下式进行分解（矩阵的对角化/求矩阵的相似矩阵）\\\\\n",
    "W 由特征值\\lambda_1、\\lambda_2....\\lambda_n组成 \\\\\n",
    "\\Lambda 是由对应的特征向量w_1、w_2...w_n组成的对角阵\\\\\n",
    "A=W\\Lambda W^{-1}$$\n",
    "> \n",
    "> $$3.一般我们会将矩阵W的n个特征向量进行标准化和正交化处理，\\\\\n",
    "使得W满足W^TW=E，所以就有W_T=W_{-1}，即W为酉矩阵。\\\\\n",
    "最终上述分解表达式可表示为：\\\\\n",
    "A=W\\Lambda W^T$$ "
   ]
  },
  {
   "cell_type": "markdown",
   "metadata": {},
   "source": [
    "大多数情况下，我们碰到的矩阵都是非方阵的\n",
    "\n",
    "**$m \\times n $非方阵分解(SVD)**\n",
    "> 1. 定义分解表达式为：\n",
    "> $$A=U\\Lambda V^T\\\\\n",
    "U:m \\times m矩阵， \\Lambda : m \\times n 对角阵，V: n\\times n 矩阵\\\\\n",
    "U、V:酉矩阵,故U、V满足：\\\\\n",
    "UU^T=E,VV^T=E$$\n",
    "> 2. 求 左奇异向量 矩阵$U$ \\\n",
    "> $A为非方阵，但AA^T为m\\times m 方阵,故对该矩阵求特征值和特征向量：$\n",
    "$$(AA^T)x=\\lambda x \\\\\n",
    "由上式我们即可求得方阵AA^T的m个特征值和特征向量，\\\\\n",
    "该m个特征向量构成的特征矩阵即为矩阵U,特征值矩阵W\n",
    "$$\n",
    ">3. 求 右奇异向量 矩阵$V$ \\\n",
    "$$同2,求A^TA(n\\times n)的特征值和特征向量：\\\\\n",
    "(A^TA)x=\\lambda x\\\\\n",
    "该n个特征向量构成的特征矩阵即为矩阵V$$\n",
    ">4. 求奇异值对角阵 $\\Lambda$\\\n",
    "$$A=U\\Lambda V^T\\\\\n",
    "A^T=V\\Lambda U^T\\\\\n",
    "AA^T=U\\Lambda V^T V\\Lambda U^T=U\\Lambda^2 U^T\\\\\n",
    "故 AA^T的特征值矩阵W= \\Lambda^2,由上2可求得W，\\Lambda=\\sqrt{W} $$"
   ]
  },
  {
   "cell_type": "code",
   "execution_count": 18,
   "metadata": {
    "ExecuteTime": {
     "end_time": "2020-05-29T14:23:37.418278Z",
     "start_time": "2020-05-29T14:23:37.379270Z"
    }
   },
   "outputs": [
    {
     "data": {
      "text/plain": [
       "dtype('uint8')"
      ]
     },
     "execution_count": 18,
     "metadata": {},
     "output_type": "execute_result"
    }
   ],
   "source": [
    "from PIL import Image \n",
    "c=Image.open('demo.PNG','r')\n",
    "A=np.array(c) \n",
    "A.shape \n",
    "A.dtype \n",
    "# A=A.astype('float')\n",
    "# Image.fromarray(A).show()"
   ]
  },
  {
   "cell_type": "code",
   "execution_count": 19,
   "metadata": {
    "ExecuteTime": {
     "end_time": "2020-05-29T14:23:43.829112Z",
     "start_time": "2020-05-29T14:23:39.727128Z"
    }
   },
   "outputs": [],
   "source": [
    "# 这个计算出来的和numpy自带函数计算出来有点偏差\n",
    "def svd(A):\n",
    "    sigmal_1,U=np.linalg.eigh(A.dot(A.T))\n",
    "    sigmal_2,V=np.linalg.eigh(A.T.dot(A))\n",
    "    S=np.sqrt(sigmal_1)\n",
    "    S.sort()\n",
    "    return U,S[::-1],V \n",
    "# 定义恢复函数，由分解后的矩阵恢复到原矩阵\n",
    "def restore(u,s,v,K):\n",
    "    a=np.dot(u[:,:K]*s[:K],v[:K,:])\n",
    "    return a.clip(0,255).astype('uint8') # uint8格式 取值范围0-255 ,图像格式，其他格式不支持\n",
    "# 使用前50个奇异值\n",
    "K=50\n",
    "# 对RGB图像进行奇异值分解\n",
    "u_r,s_r,v_r=np.linalg.svd(A[:,:,0])\n",
    "u_g,s_g,v_g=np.linalg.svd(A[:,:,1]) \n",
    "u_b,s_b,v_b=np.linalg.svd(A[:,:,2])  \n",
    "out_path='svd_image/'\n",
    "I=None \n",
    "for k in range(2,K+1):\n",
    "    R=restore(u_r,s_r,v_r,k)\n",
    "    G=restore(u_g,s_g,v_g,k) \n",
    "    B=restore(u_b,s_b,v_b,k)\n",
    "    I=np.stack((R,G,B),axis=2)\n",
    "    Image.fromarray(np.stack((R,G,B),axis=2)).show()\n",
    "    break \n",
    "    Image.fromarray(np.stack((R,G,B),axis=2)).save(out_path+f\"svd_{k}.png\")\n",
    "    print(f'{k} is ok!')\n"
   ]
  }
 ],
 "metadata": {
  "kernelspec": {
   "display_name": "Python 3.7.5 64-bit",
   "language": "python",
   "name": "python37564bita5f53f9b60c0490aa934da503dc99db2"
  },
  "language_info": {
   "codemirror_mode": {
    "name": "ipython",
    "version": 3
   },
   "file_extension": ".py",
   "mimetype": "text/x-python",
   "name": "python",
   "nbconvert_exporter": "python",
   "pygments_lexer": "ipython3",
   "version": "3.7.5"
  },
  "toc": {
   "base_numbering": 1,
   "nav_menu": {},
   "number_sections": true,
   "sideBar": true,
   "skip_h1_title": false,
   "title_cell": "Table of Contents",
   "title_sidebar": "Contents",
   "toc_cell": false,
   "toc_position": {},
   "toc_section_display": true,
   "toc_window_display": false
  }
 },
 "nbformat": 4,
 "nbformat_minor": 4
}
