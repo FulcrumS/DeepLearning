{
 "cells": [
  {
   "cell_type": "markdown",
   "metadata": {},
   "source": [
    "**监督机器学习的核心原理莫过于如下公式：**\n",
    "$$min\\frac{1}{N}\\sum_{i=1}^{N}{(L(y_i,f(x_i)))+\\lambda J(f)}$$\n",
    "**最小化经验误差是为了极大程度的拟合训练数据，正则化参数是为了防止过分的拟合训练数据。**\n",
    "\n",
    "**正则化原理：最小化参数矩阵的每个元素**参数矩阵W中的每个元素都在变小，线性计算的和Z也会变小，激活函数在此时相对呈线性状态，这样就大大简化了深度神经网络的复杂性，**因而可以防止过拟合**。\n",
    "> 实现参数矩阵的稀疏性,为了特征选择和易于解释\n",
    ">> L0正则化: L0 范数,矩阵中所有非 0 元素的个数.\\\n",
    ">> L1 范数: 矩阵中各元素绝对值之和,Lasso\n",
    ">>> ```python\n",
    "loss = np.sum((y_hat-y)**2)/num_train + lambda*np.sum(abs(w))\n",
    "```\n",
    ">>> $$min\\frac{1}{N}\\sum_{i=1}^{N}{L(y_i,f(x_i))+{\\lambda} ||w||_1}$$\n",
    ">> L2范数: 矩阵中各元素的平方和,Ridge\n",
    ">>> ```python\n",
    "loss = ((y_hat-y)**2).sum()/num_train+alpha*(np.square(w)).sum()\n",
    "```\n",
    ">>> $$min\\frac{1}{N}\\sum_{i=1}^{N}{L(y_i,f(x_i))+ \\frac {\\lambda}{2} ||w||_2}$$"
   ]
  },
  {
   "cell_type": "markdown",
   "metadata": {},
   "source": [
    "### 获取数据集"
   ]
  },
  {
   "cell_type": "code",
   "execution_count": 44,
   "metadata": {
    "ExecuteTime": {
     "end_time": "2020-05-25T01:57:53.527220Z",
     "start_time": "2020-05-25T01:57:53.512309Z"
    }
   },
   "outputs": [
    {
     "data": {
      "text/plain": [
       "((354, 13), (152, 1))"
      ]
     },
     "execution_count": 44,
     "metadata": {},
     "output_type": "execute_result"
    }
   ],
   "source": [
    "import numpy as np \n",
    "from sklearn.datasets import load_boston\n",
    "boston=load_boston()\n",
    "data,label=boston.data,boston.target\n",
    "size,rate=data.shape[0],.7 \n",
    "a=int(size*rate)\n",
    "x_train,y_train,x_test,y_test=data[:a],label[:a].reshape((-1,1)),data[a:],label[a:].reshape((-1,1))\n",
    "x_train.shape,y_test.shape"
   ]
  },
  {
   "cell_type": "markdown",
   "metadata": {},
   "source": [
    "### 定义L2损失函数和梯度计算并训练"
   ]
  },
  {
   "cell_type": "code",
   "execution_count": 60,
   "metadata": {
    "ExecuteTime": {
     "end_time": "2020-05-25T03:08:25.987663Z",
     "start_time": "2020-05-25T03:08:25.961285Z"
    }
   },
   "outputs": [
    {
     "name": "stdout",
     "output_type": "stream",
     "text": [
      "loss: 698.7869491525424\n",
      "loss: nan\n",
      "loss: nan\n",
      "loss: nan\n"
     ]
    },
    {
     "name": "stderr",
     "output_type": "stream",
     "text": [
      "D:\\software\\Python37\\lib\\site-packages\\ipykernel_launcher.py:8: RuntimeWarning: overflow encountered in square\n",
      "  \n",
      "D:\\software\\Python37\\lib\\site-packages\\numpy\\core\\_methods.py:36: RuntimeWarning: overflow encountered in reduce\n",
      "  return umr_sum(a, axis, dtype, out, keepdims, initial)\n",
      "D:\\software\\Python37\\lib\\site-packages\\ipykernel_launcher.py:20: RuntimeWarning: invalid value encountered in add\n"
     ]
    },
    {
     "data": {
      "text/plain": [
       "(array([[nan],\n",
       "        [nan],\n",
       "        [nan],\n",
       "        [nan],\n",
       "        [nan],\n",
       "        [nan],\n",
       "        [nan],\n",
       "        [nan],\n",
       "        [nan],\n",
       "        [nan],\n",
       "        [nan],\n",
       "        [nan],\n",
       "        [nan]]),\n",
       " nan)"
      ]
     },
     "execution_count": 60,
     "metadata": {},
     "output_type": "execute_result"
    }
   ],
   "source": [
    "def init_params(dims):\n",
    "    w, b = np.zeros((dims, 1)), 0\n",
    "    return w, b\n",
    "\n",
    "# 定义ridge损失函数\n",
    "def l2_loss(X, y, w, b, alpha):\n",
    "    y_hat, num_train = np.dot(X, w)+b, X.shape[0]\n",
    "    loss = ((y_hat-y)**2).sum()/num_train+alpha/2*(np.square(w)).sum()\n",
    "#     loss 对 w、b 分别求导\n",
    "    dw = np.dot(X.T, y_hat-y)/num_train+alpha*w\n",
    "    db = (y_hat-y).sum()/num_train\n",
    "    return y_hat, loss, dw, db\n",
    "\n",
    "\n",
    "def ridge_train(X, y, lr=.01, alpha=.1, epochs=400):\n",
    "    los = .0\n",
    "    w, b = init_params(X.shape[1])\n",
    "    for i in range(epochs):\n",
    "        y_hat, loss, dw, db = l2_loss(X, y, w, b, alpha)\n",
    "        w += -lr*dw\n",
    "        b += -lr*db\n",
    "        if i % 100 == 0:\n",
    "            print(f\"loss: {loss}\")\n",
    "    return w, b\n",
    "\n",
    "\n",
    "ridge_train(x_train, y_train)"
   ]
  },
  {
   "cell_type": "markdown",
   "metadata": {},
   "source": [
    "### sklearn中也提供了Ridge的实现方式"
   ]
  },
  {
   "cell_type": "code",
   "execution_count": 59,
   "metadata": {
    "ExecuteTime": {
     "end_time": "2020-05-25T03:07:23.765890Z",
     "start_time": "2020-05-25T03:07:23.757891Z"
    }
   },
   "outputs": [
    {
     "data": {
      "text/plain": [
       "{'alpha': 0.1,\n",
       " 'copy_X': True,\n",
       " 'fit_intercept': True,\n",
       " 'max_iter': None,\n",
       " 'normalize': False,\n",
       " 'random_state': None,\n",
       " 'solver': 'auto',\n",
       " 'tol': 0.001}"
      ]
     },
     "execution_count": 59,
     "metadata": {},
     "output_type": "execute_result"
    }
   ],
   "source": [
    "from sklearn.linear_model import Ridge\n",
    "clf=Ridge(alpha=.1)\n",
    "clf.fit(x_train,y_train)\n",
    "w=clf.coef_\n",
    "b=clf.intercept_\n",
    "y_pred=np.dot(x_test,w.T)+b \n",
    "# y_pred\n",
    "clf.get_params()"
   ]
  },
  {
   "cell_type": "code",
   "execution_count": 57,
   "metadata": {
    "ExecuteTime": {
     "end_time": "2020-05-25T03:06:29.855738Z",
     "start_time": "2020-05-25T03:06:29.745761Z"
    }
   },
   "outputs": [
    {
     "data": {
      "image/png": "[encoded data removed]",
      "text/plain": [
       "<Figure size 432x288 with 1 Axes>"
      ]
     },
     "metadata": {
      "needs_background": "light"
     },
     "output_type": "display_data"
    }
   ],
   "source": [
    "import matplotlib.pyplot as plt \n",
    "plt.scatter(range(x_test.shape[0]),y_test)\n",
    "plt.plot(y_pred,c='darkorange')\n",
    "plt.ylabel('y')\n",
    "plt.xlabel('x')\n",
    "plt.show()"
   ]
  }
 ],
 "metadata": {
  "kernelspec": {
   "display_name": "Python 3.7.5 64-bit",
   "language": "python",
   "name": "python37564bita5f53f9b60c0490aa934da503dc99db2"
  },
  "language_info": {
   "codemirror_mode": {
    "name": "ipython",
    "version": 3
   },
   "file_extension": ".py",
   "mimetype": "text/x-python",
   "name": "python",
   "nbconvert_exporter": "python",
   "pygments_lexer": "ipython3",
   "version": "3.7.5"
  },
  "toc": {
   "base_numbering": 1,
   "nav_menu": {},
   "number_sections": true,
   "sideBar": true,
   "skip_h1_title": false,
   "title_cell": "Table of Contents",
   "title_sidebar": "Contents",
   "toc_cell": false,
   "toc_position": {},
   "toc_section_display": true,
   "toc_window_display": false
  }
 },
 "nbformat": 4,
 "nbformat_minor": 4
}
