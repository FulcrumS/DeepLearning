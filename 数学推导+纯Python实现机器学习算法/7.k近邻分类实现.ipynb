{
 "cells": [
  {
   "cell_type": "markdown",
   "metadata": {},
   "source": [
    "作为一种没有显式训练和学习过程的分类和回归算法，k 近邻在众多有监督机器学习算法中算是一种比较独特的方法。说它独特，是因为 k 近邻不像其他模型有损失函数、有优化算法、有训练过程。对于给定的实例数据和实例数据对应所属类别，当要对新的实例进行分类时，根据这个实例最近的 k 个实例所属的类别来决定其属于哪一类。所以相对于其它机器学习模型和算法，k 近邻总体上而言是一种非常简单的方法。\n",
    "![微信图片_20200515135711.jpg](https://img04.sogoucdn.com/app/a/100520146/28e7636e61ad9c31d011b193d83c4fa2)\n",
    "![微信图片_20200515135911.jpg](https://img04.sogoucdn.com/app/a/100520146/ce4e4ab8237e8a96b6dae336c0cdbca7)\n",
    "[参考文章](https://mp.weixin.qq.com/s/XmUAYs-l5PqiTpXVVG2_WQ)"
   ]
  },
  {
   "cell_type": "markdown",
   "metadata": {},
   "source": [
    "# iris数据集"
   ]
  },
  {
   "cell_type": "code",
   "execution_count": 60,
   "metadata": {
    "ExecuteTime": {
     "end_time": "2020-05-15T08:21:02.774748Z",
     "start_time": "2020-05-15T08:21:02.753743Z"
    },
    "collapsed": true
   },
   "outputs": [
    {
     "data": {
      "text/plain": [
       "((354, 13),\n",
       " (354,),\n",
       " (152, 13),\n",
       " (152,),\n",
       " array([25. , 19.8, 13.3, 23.3, 23. , 13. , 24. , 46. ,  6.3, 32.2,  9.7,\n",
       "        23. , 20.3, 17.5, 13.4, 23.1, 50. , 17. , 19.3, 19.3, 20. , 13.3,\n",
       "        20. , 18.9, 18.3, 22.2, 50. , 33.3, 23.9, 24.5, 34.7, 18.4, 22. ,\n",
       "        14.1, 18.9, 24.6, 19.6, 19.4, 38.7, 23.3, 18.6, 26.4, 31.6, 25. ,\n",
       "        19.5, 17.8, 25. , 18.8, 44. ,  9.5, 12.8, 16.7, 22. , 18.5, 24.2,\n",
       "        21.2, 16.1, 20.3, 32.4,  7.2, 15.2, 29. , 37.2, 30.3, 19.5, 16.3,\n",
       "        13.6, 31.5, 22.4, 32.5, 37.9, 13.3, 20.6, 23.9, 19.6, 23.3, 13.1,\n",
       "        16.8, 21.4, 23. , 34.6, 17.4, 18.7, 29.4, 20.4, 20.3, 11.8, 36.2,\n",
       "        25. , 50. , 18.5, 48.5, 14.2, 24.8, 23.5, 33.8, 19.4, 50. , 24.3,\n",
       "        13.9, 21.1, 12.7, 32. , 14.8, 21.7, 27. , 22. ,  7. , 23.6, 23.4,\n",
       "        19.4, 17.3, 15.6, 24.4, 11.7, 15.6, 18.6, 12.6, 19.3, 24.3, 10.4,\n",
       "         8.4, 27.5, 14.9, 37.3, 28.7, 24.8, 20.7, 50. , 20.1, 13.8,  8.8,\n",
       "        24.1, 20.4, 20. ,  8.8, 29.8, 14.4, 11.5,  9.6, 19.4, 29.1, 16.1,\n",
       "        19.4, 15.2, 30.1, 19.2, 20.1, 42.8, 15.1, 15.6, 17.1]))"
      ]
     },
     "execution_count": 60,
     "metadata": {},
     "output_type": "execute_result"
    }
   ],
   "source": [
    "import numpy as np \n",
    "from sklearn.utils import shuffle \n",
    "from sklearn.datasets import load_iris \n",
    "from collections import Counter\n",
    "iris=load_iris() \n",
    "x,y =shuffle(iris.data,iris.target,random_state=12)\n",
    "x.astype(np.float32)\n",
    "y.reshape((-1,1))\n",
    "rate=.7 \n",
    "offset=int(x.shape[0]*rate )\n",
    "x_train,y_train=x[:offset],y[:offset]\n",
    "x_test,y_test=x[offset:],y[offset:]\n",
    "x_train.shape,y_train.shape,x_test.shape,y_test.shape"
   ]
  },
  {
   "cell_type": "markdown",
   "metadata": {},
   "source": [
    "# 计算距离"
   ]
  },
  {
   "cell_type": "code",
   "execution_count": 26,
   "metadata": {
    "ExecuteTime": {
     "end_time": "2020-05-15T04:00:11.602610Z",
     "start_time": "2020-05-15T04:00:11.595602Z"
    }
   },
   "outputs": [],
   "source": [
    "def compute_distance(x_test,x_train=x_train):\n",
    "    dist=np.dot(x_test,x_train.T)\n",
    "    te,tr=np.square(x_test).sum(axis=1),np.square(x_train).sum(axis=1)\n",
    "    dist=np.sqrt(-2*dist+tr+np.matrix(te).T)\n",
    "    return dist \n",
    "dist=compute_distance(x_test,x_train)"
   ]
  },
  {
   "cell_type": "markdown",
   "metadata": {},
   "source": [
    "# KNN预测分类"
   ]
  },
  {
   "cell_type": "code",
   "execution_count": 35,
   "metadata": {
    "ExecuteTime": {
     "end_time": "2020-05-15T04:17:23.243863Z",
     "start_time": "2020-05-15T04:17:23.235861Z"
    },
    "scrolled": false
   },
   "outputs": [],
   "source": [
    "def predict_labels(dist,y_train,k=1):\n",
    "    num_test=dist.shape[0]\n",
    "    y_pred=np.zeros(num_test)\n",
    "    for i in range(num_test):\n",
    "        y=y_train[np.argsort(dist[i])].flatten()[0:k]\n",
    "        y=Counter(y)\n",
    "        y_pred[i]=y.most_common(1)[0][0]\n",
    "    return y_pred.reshape((-1,1))\n",
    "y_pred=predict_labels(dist,y_train) "
   ]
  },
  {
   "cell_type": "markdown",
   "metadata": {},
   "source": [
    "# 计算精确度"
   ]
  },
  {
   "cell_type": "code",
   "execution_count": 34,
   "metadata": {
    "ExecuteTime": {
     "end_time": "2020-05-15T04:06:31.526481Z",
     "start_time": "2020-05-15T04:06:31.519879Z"
    }
   },
   "outputs": [
    {
     "name": "stdout",
     "output_type": "stream",
     "text": [
      "(152,) (152, 1)\n"
     ]
    },
    {
     "data": {
      "text/plain": [
       "0.9210526315789473"
      ]
     },
     "execution_count": 34,
     "metadata": {},
     "output_type": "execute_result"
    }
   ],
   "source": [
    "def accuracy(y_test,y_pred):\n",
    "    print(y_test.shape,y_pred.shape)\n",
    "    return (y_test==y_pred).sum()/len(y_test)\n",
    "accuracy(y_test,y_pred)"
   ]
  },
  {
   "cell_type": "markdown",
   "metadata": {},
   "source": [
    "# 计算最好的k点"
   ]
  },
  {
   "cell_type": "code",
   "execution_count": 44,
   "metadata": {
    "ExecuteTime": {
     "end_time": "2020-05-15T04:31:53.035753Z",
     "start_time": "2020-05-15T04:31:52.948728Z"
    },
    "collapsed": true
   },
   "outputs": [
    {
     "name": "stdout",
     "output_type": "stream",
     "text": [
      "(71,) (71, 1)\n",
      "(71,) (71, 1)\n",
      "(71,) (71, 1)\n",
      "(71,) (71, 1)\n",
      "(70,) (70, 1)\n",
      "(71,) (71, 1)\n",
      "(71,) (71, 1)\n",
      "(71,) (71, 1)\n",
      "(71,) (71, 1)\n",
      "(70,) (70, 1)\n",
      "(71,) (71, 1)\n",
      "(71,) (71, 1)\n",
      "(71,) (71, 1)\n",
      "(71,) (71, 1)\n",
      "(70,) (70, 1)\n",
      "(71,) (71, 1)\n",
      "(71,) (71, 1)\n",
      "(71,) (71, 1)\n",
      "(71,) (71, 1)\n",
      "(70,) (70, 1)\n",
      "(71,) (71, 1)\n",
      "(71,) (71, 1)\n",
      "(71,) (71, 1)\n",
      "(71,) (71, 1)\n",
      "(70,) (70, 1)\n",
      "(71,) (71, 1)\n",
      "(71,) (71, 1)\n",
      "(71,) (71, 1)\n",
      "(71,) (71, 1)\n",
      "(70,) (70, 1)\n",
      "k=1,accuracy: 0.3380281690140845\n",
      "k=1,accuracy: 0.23943661971830985\n",
      "k=1,accuracy: 0.36619718309859156\n",
      "k=1,accuracy: 0.3380281690140845\n",
      "k=1,accuracy: 0.4714285714285714\n",
      "k=2,accuracy: 0.3380281690140845\n",
      "k=2,accuracy: 0.23943661971830985\n",
      "k=2,accuracy: 0.36619718309859156\n",
      "k=2,accuracy: 0.3380281690140845\n",
      "k=2,accuracy: 0.4714285714285714\n",
      "k=4,accuracy: 0.49295774647887325\n",
      "k=4,accuracy: 0.23943661971830985\n",
      "k=4,accuracy: 0.4084507042253521\n",
      "k=4,accuracy: 0.352112676056338\n",
      "k=4,accuracy: 0.4142857142857143\n",
      "k=8,accuracy: 0.7746478873239436\n",
      "k=8,accuracy: 0.28169014084507044\n",
      "k=8,accuracy: 0.4225352112676056\n",
      "k=8,accuracy: 0.36619718309859156\n",
      "k=8,accuracy: 0.5428571428571428\n",
      "k=10,accuracy: 0.9014084507042254\n",
      "k=10,accuracy: 0.30985915492957744\n",
      "k=10,accuracy: 0.4647887323943662\n",
      "k=10,accuracy: 0.352112676056338\n",
      "k=10,accuracy: 0.6428571428571429\n",
      "k=12,accuracy: 0.8873239436619719\n",
      "k=12,accuracy: 0.352112676056338\n",
      "k=12,accuracy: 0.5211267605633803\n",
      "k=12,accuracy: 0.352112676056338\n",
      "k=12,accuracy: 0.6\n"
     ]
    },
    {
     "data": {
      "text/plain": [
       "12"
      ]
     },
     "execution_count": 44,
     "metadata": {},
     "output_type": "execute_result"
    }
   ],
   "source": [
    "def get_best_k(x_train,y_train):\n",
    "    num_folds=5 \n",
    "    x_train_fold,y_train_fold=np.array_split(x_train,num_folds),np.array_split(y_train,num_folds)\n",
    "    ks=[1,2,4,8,10,12]\n",
    "    acc={}\n",
    "    for k in ks:\n",
    "        for fold in range(num_folds):\n",
    "            x_test,y_test=x_train_fold[fold],y_train_fold[fold]\n",
    "            x_train,y_train=np.concatenate(x_train_fold[:fold]+x_train_fold[fold+1:]),np.concatenate(y_train_fold[:fold]+y_train_fold[fold+1:])\n",
    "            dist=compute_distance(x_test,x_train)\n",
    "            y_pred=predict_labels(dist,y_train,k)\n",
    "            acc[k]=acc.get(k,[])+[accuracy(y_test,y_pred)]\n",
    "    for k in acc:\n",
    "        for a in acc[k]:\n",
    "            print(f\"k={k},accuracy: {a}\")\n",
    "    acc_mean=np.array([np.mean(v) for v in acc.values()])\n",
    "    best_k=ks[np.argmax(acc_mean)]\n",
    "    return best_k\n",
    "best_k=get_best_k(x_train,y_train)\n",
    "best_k"
   ]
  },
  {
   "cell_type": "markdown",
   "metadata": {},
   "source": [
    "# kNN 算法的函数化封装"
   ]
  },
  {
   "cell_type": "code",
   "execution_count": 62,
   "metadata": {
    "ExecuteTime": {
     "end_time": "2020-05-15T08:22:33.812008Z",
     "start_time": "2020-05-15T08:22:33.725007Z"
    },
    "collapsed": true
   },
   "outputs": [
    {
     "name": "stdout",
     "output_type": "stream",
     "text": [
      "(21, 1) (21, 1)\n",
      "(21, 1) (21, 1)\n",
      "(21, 1) (21, 1)\n",
      "(21, 1) (21, 1)\n",
      "(21, 1) (21, 1)\n",
      "(21, 1) (21, 1)\n",
      "(21, 1) (21, 1)\n",
      "(21, 1) (21, 1)\n",
      "(21, 1) (21, 1)\n",
      "(21, 1) (21, 1)\n",
      "(21, 1) (21, 1)\n",
      "(21, 1) (21, 1)\n",
      "(21, 1) (21, 1)\n",
      "(21, 1) (21, 1)\n",
      "(21, 1) (21, 1)\n",
      "(21, 1) (21, 1)\n",
      "(21, 1) (21, 1)\n",
      "(21, 1) (21, 1)\n",
      "(21, 1) (21, 1)\n",
      "(21, 1) (21, 1)\n",
      "(21, 1) (21, 1)\n",
      "(21, 1) (21, 1)\n",
      "(21, 1) (21, 1)\n",
      "(21, 1) (21, 1)\n",
      "(21, 1) (21, 1)\n",
      "(21, 1) (21, 1)\n",
      "(21, 1) (21, 1)\n",
      "(21, 1) (21, 1)\n",
      "(21, 1) (21, 1)\n",
      "(21, 1) (21, 1)\n",
      "k=1,accuracy: 1.0\n",
      "k=1,accuracy: 1.0\n",
      "k=1,accuracy: 1.0\n",
      "k=1,accuracy: 0.9047619047619048\n",
      "k=1,accuracy: 0.9523809523809523\n",
      "k=2,accuracy: 1.0\n",
      "k=2,accuracy: 1.0\n",
      "k=2,accuracy: 1.0\n",
      "k=2,accuracy: 0.9047619047619048\n",
      "k=2,accuracy: 0.9523809523809523\n",
      "k=4,accuracy: 1.0\n",
      "k=4,accuracy: 1.0\n",
      "k=4,accuracy: 1.0\n",
      "k=4,accuracy: 0.9047619047619048\n",
      "k=4,accuracy: 0.9523809523809523\n",
      "k=8,accuracy: 1.0\n",
      "k=8,accuracy: 1.0\n",
      "k=8,accuracy: 1.0\n",
      "k=8,accuracy: 0.9047619047619048\n",
      "k=8,accuracy: 1.0\n",
      "k=10,accuracy: 1.0\n",
      "k=10,accuracy: 0.9523809523809523\n",
      "k=10,accuracy: 1.0\n",
      "k=10,accuracy: 0.9047619047619048\n",
      "k=10,accuracy: 1.0\n",
      "k=12,accuracy: 1.0\n",
      "k=12,accuracy: 0.9523809523809523\n",
      "k=12,accuracy: 1.0\n",
      "k=12,accuracy: 0.9047619047619048\n",
      "k=12,accuracy: 0.9523809523809523\n",
      "最佳k值为 8\n",
      "[[0.]\n",
      " [0.]\n",
      " [2.]\n",
      " [1.]\n",
      " [1.]\n",
      " [2.]\n",
      " [0.]\n",
      " [1.]\n",
      " [1.]\n",
      " [0.]\n",
      " [1.]\n",
      " [1.]\n",
      " [2.]\n",
      " [2.]\n",
      " [1.]\n",
      " [0.]\n",
      " [2.]\n",
      " [0.]\n",
      " [2.]\n",
      " [0.]\n",
      " [0.]\n",
      " [1.]\n",
      " [2.]\n",
      " [2.]\n",
      " [1.]\n",
      " [1.]\n",
      " [2.]\n",
      " [0.]\n",
      " [1.]\n",
      " [1.]\n",
      " [0.]\n",
      " [2.]\n",
      " [2.]\n",
      " [2.]\n",
      " [1.]\n",
      " [2.]\n",
      " [2.]\n",
      " [1.]\n",
      " [0.]\n",
      " [0.]\n",
      " [1.]\n",
      " [0.]\n",
      " [2.]\n",
      " [2.]\n",
      " [1.]]\n",
      "(45, 1) (45, 1)\n"
     ]
    },
    {
     "data": {
      "text/plain": [
       "0.9555555555555556"
      ]
     },
     "execution_count": 62,
     "metadata": {},
     "output_type": "execute_result"
    }
   ],
   "source": [
    "import numpy as np\n",
    "from sklearn.utils import shuffle\n",
    "from sklearn.datasets import load_boston,load_iris\n",
    "from collections import Counter\n",
    "\n",
    "\n",
    "def accuracy(y_test, y_pred):\n",
    "    print(y_test.shape, y_pred.shape)\n",
    "    return (y_test == y_pred).sum()/len(y_test)\n",
    "\n",
    "\n",
    "class KNearestNeighbor():\n",
    "    def __init__(self): ...\n",
    "\n",
    "#     加载boston数据集\n",
    "    def create_datasets(self, type=\"iris\"):\n",
    "        assert type == \"iris\", \"仅支持iris\"\n",
    "        iris = load_iris()\n",
    "        x, y = shuffle(iris.data, iris.target, random_state=12)\n",
    "        x.astype(np.float32)\n",
    "        y=y.reshape((-1, 1))\n",
    "        rate = .7\n",
    "        offset = int(x.shape[0]*rate)\n",
    "        x_train, y_train = x[:offset], y[:offset]\n",
    "        x_test, y_test = x[offset:], y[offset:]\n",
    "        return x_train, y_train.reshape((-1,1)), x_test, y_test.reshape((-1,1))\n",
    "#      5折交叉验证 寻找最佳k\n",
    "    def cross_validation(self, x_train, y_train):\n",
    "        num_folds = 5\n",
    "        x_train_fold, y_train_fold = np.array_split(\n",
    "            x_train, num_folds), np.array_split(y_train, num_folds)\n",
    "        ks = [1, 2, 4, 8, 10, 12]\n",
    "        acc = {}\n",
    "        for k in ks:\n",
    "            for fold in range(num_folds):\n",
    "                x_test, y_test = x_train_fold[fold], y_train_fold[fold]\n",
    "                x_train, y_train = np.concatenate(\n",
    "                    x_train_fold[:fold]+x_train_fold[fold+1:]), np.concatenate(y_train_fold[:fold]+y_train_fold[fold+1:])\n",
    "                dist = compute_distance(x_test, x_train)\n",
    "                y_pred = self.predict_labels(dist, y_train, k)\n",
    "                acc[k] = acc.get(k, [])+[accuracy(y_test, y_pred)]\n",
    "        for k in acc:\n",
    "            for a in acc[k]:\n",
    "                print(f\"k={k},accuracy: {a}\")\n",
    "        acc_mean = np.array([np.mean(v) for v in acc.values()])\n",
    "        best_k = ks[np.argmax(acc_mean)]\n",
    "        print(f\"最佳k值为 {best_k}\")\n",
    "        return best_k\n",
    "#     计算测试集与训练集的距离\n",
    "    def compute_distance(self, x_test, x_train):\n",
    "        dist = np.dot(x_test, x_train.T)\n",
    "        te, tr = np.square(x_test).sum(axis=1), np.square(x_train).sum(axis=1)\n",
    "        dist = np.sqrt(-2*dist+tr+np.matrix(te).T)\n",
    "        return dist\n",
    "#     选择周围K个点中最常见的标签\n",
    "    def predict_labels(self, dist, y_train, k=1):\n",
    "        num_test = dist.shape[0]\n",
    "        y_pred = np.zeros(num_test)\n",
    "        for i in range(num_test):\n",
    "            y = y_train[np.argsort(dist[i])].flatten()[0:k]\n",
    "            y = Counter(y)\n",
    "            y_pred[i] = y.most_common(1)[0][0]\n",
    "        return y_pred.reshape((-1, 1))\n",
    "\n",
    "\n",
    "knn_classifier = KNearestNeighbor()\n",
    "x_train, y_train, x_test, y_test = knn_classifier.create_datasets(\n",
    "    type=\"boston\")\n",
    "best_k = knn_classifier.cross_validation(x_train, y_train)\n",
    "dist = knn_classifier.compute_distance(x_test, x_train)\n",
    "y_pred = knn_classifier.predict_labels(dist, y_train, best_k)\n",
    "print(y_pred)\n",
    "accuracy(y_test, y_pred)"
   ]
  }
 ],
 "metadata": {
  "kernelspec": {
   "display_name": "Python 3.7.5 64-bit",
   "language": "python",
   "name": "python37564bita5f53f9b60c0490aa934da503dc99db2"
  },
  "language_info": {
   "codemirror_mode": {
    "name": "ipython",
    "version": 3
   },
   "file_extension": ".py",
   "mimetype": "text/x-python",
   "name": "python",
   "nbconvert_exporter": "python",
   "pygments_lexer": "ipython3",
   "version": "3.7.5"
  },
  "toc": {
   "base_numbering": 1,
   "nav_menu": {},
   "number_sections": true,
   "sideBar": true,
   "skip_h1_title": false,
   "title_cell": "Table of Contents",
   "title_sidebar": "Contents",
   "toc_cell": false,
   "toc_position": {},
   "toc_section_display": true,
   "toc_window_display": false
  }
 },
 "nbformat": 4,
 "nbformat_minor": 4
}
