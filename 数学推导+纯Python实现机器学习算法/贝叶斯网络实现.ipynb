{
 "cells": [
  {
   "cell_type": "markdown",
   "metadata": {},
   "source": [
    "朴素贝叶斯的一大特点就是特征的条件独立假设，但在现实情况下，**条件独立这个假设通常过于严格，在实际中很难成立**。特征之间的相关性限制了朴素贝叶斯的性能，所以本节笔者将继续介绍一种**放宽了条件独立假设**的贝叶斯算法——贝叶斯网络(Bayesian Network)。\n",
    "\n",
    "[参考文章](https://mp.weixin.qq.com/s/WtJ62UNyhIihpGsspDC7qQ)\n",
    "\n",
    "## 贝叶斯网络的直观例子：\n",
    "> 假设我们需要通过头像真实性、粉丝数量和动态更新频率来判断一个微博账号是否为真实账号。各特征属性之间的关系如下图所示：\n",
    "![在这里插入图片描述](https://img-blog.csdnimg.cn/20200523225340921.jpg?x-oss-process=image/watermark,type_ZmFuZ3poZW5naGVpdGk,shadow_10,text_aHR0cHM6Ly9ibG9nLmNzZG4ubmV0L0lfYW1fYV9idWdlcg==,size_16,color_FFFFFF,t_70)\n",
    "> 上图是一个**有向无环图(DAG)**，每个节点表示一个特征或者随机变量，特征之间的关系则是用箭头连线来表示，比如说动态的更新频率、粉丝数量和头像真实性都会对一个微博账号的真实性有影响，而头像真实性又对粉丝数量有一定影响。但仅有各特征之间的关系还不足以进行贝叶斯分析。除此之外，贝叶斯网络中每个节点还有一个与之对应的**概率表**。\n",
    "![在这里插入图片描述](https://img-blog.csdnimg.cn/20200523225715385.png?x-oss-process=image/watermark,type_ZmFuZ3poZW5naGVpdGk,shadow_10,text_aHR0cHM6Ly9ibG9nLmNzZG4ubmV0L0lfYW1fYV9idWdlcg==,size_16,color_FFFFFF,t_70)\n",
    "> **第一张概率表表示的是账号是否真实**，因为该节点没有父节点，可以直接用先验概率来表示，表示账号真实与否的概率。**第二张概率表表示的是账号真实性对于头像真实性的条件概率**。比如说在头像为真实头像的条件下，账号为真的概率为0.88。在有了DAG和概率表之后，我们便可以利用贝叶斯公式进行定量的因果关系推断。假设我们已知某微博账号使用了虚假头像，那么其账号为虚假账号的概率可以推断为：\n",
    "$$P(A=0|H=0)=\\frac{P(H=0|A=0)\\times P(A=0)}{P(H=0)}\n",
    "        =\\frac{P(H=0|A=0)\\times P(A=0)}{P(H=0|A=0)P(A=0)+ P(H=0|A=1)P(A=1)}\n",
    "        =\\frac{0.88 \\times 0.13}{0.88 \\times 0.13 + 0.25 \\times 0.87}\n",
    "        =0.345$$\n",
    "利用贝叶斯公式，我们可知在虚假头像的情况下其账号为虚假账号的概率为0.345。"
   ]
  },
  {
   "cell_type": "markdown",
   "metadata": {},
   "source": [
    "一个贝叶斯网络通常由**有向无环图(DAG)**和节点对应的**概率表（CPT）**组成。\n",
    "\n",
    "**当一个节点的父节点概率分布确定之后，该节点条件独立于其所有的非直接父节点。**\n",
    "\n",
    "  一般来说，多变量非独立随机变量的联合概率分布计算公式如下：\n",
    "$$P(x_1,x_2,....,x_n)=P(x_1)P(x_2|x_1)P(x_3|x_1,x_2).....P(x_n|x_1,x_2,...,x_{n-1})$$"
   ]
  },
  {
   "cell_type": "markdown",
   "metadata": {},
   "source": [
    "我们以学生获得推荐信质量这样一个例子来进行贝叶斯网络的构造。具体有向图和概率表如下图所示：\n",
    "![微信图片_20200522181618.png](https://img-blog.csdnimg.cn/20200523223400220.jpg?x-oss-process=image/watermark,type_ZmFuZ3poZW5naGVpdGk,shadow_10,text_aHR0cHM6Ly9ibG9nLmNzZG4ubmV0L0lfYW1fYV9idWdlcg==,size_16,color_FFFFFF,t_70)\n",
    "例如，聪明（I=1）学生在容易(D=0)课程中得到A（G=0）的可能性是90%，得到B的可能性是8%，得到C的可能性是2%。聪明学生在困难课程中得到A的可能性就是为50%。\n",
    "\n",
    " 考试难度、个人聪明与否都会影响到个人成绩，另外个人聪明与否也会影响到SAT分数，而个人成绩好坏会直接影响到推荐信的质量。"
   ]
  },
  {
   "cell_type": "markdown",
   "metadata": {},
   "source": [
    "## 基于pgmpy的贝叶斯网络实现"
   ]
  },
  {
   "cell_type": "markdown",
   "metadata": {},
   "source": [
    "**pgmpy**是一款基于Python的概率图模型包，主要包括贝叶斯网络和马尔可夫蒙特卡洛等常见概率图模型的实现以及推断方法\n",
    "\n",
    "关于pgmpy的更多内容，可参考项目地址：[https://github.com/pgmpy/pgmpy](https://github.com/pgmpy/pgmpy)"
   ]
  },
  {
   "cell_type": "markdown",
   "metadata": {},
   "source": [
    "### 构建模型框架，指定各变量之间的依赖关系"
   ]
  },
  {
   "cell_type": "code",
   "execution_count": 22,
   "metadata": {
    "ExecuteTime": {
     "end_time": "2020-05-23T14:49:35.366725Z",
     "start_time": "2020-05-23T14:49:35.352256Z"
    }
   },
   "outputs": [
    {
     "data": {
      "text/plain": [
       "<pgmpy.models.BayesianModel.BayesianModel at 0x17d3db39188>"
      ]
     },
     "execution_count": 22,
     "metadata": {},
     "output_type": "execute_result"
    }
   ],
   "source": [
    "from pgmpy.factors import TabularCPD\n",
    "from pgmpy.models import BayesianModel\n",
    "student_model=BayesianModel([\n",
    "    ('D','G'),\n",
    "    ('I','G'),\n",
    "    ('G','L'),\n",
    "    ('I','S')\n",
    "])\n",
    "student_model"
   ]
  },
  {
   "cell_type": "markdown",
   "metadata": {},
   "source": [
    "**CPD**是`conditional probability  distribution`的缩写,条件概率分布"
   ]
  },
  {
   "cell_type": "markdown",
   "metadata": {},
   "source": [
    "### 构建各个节点和传入概率表并指定相关参数"
   ]
  },
  {
   "cell_type": "code",
   "execution_count": 23,
   "metadata": {
    "ExecuteTime": {
     "end_time": "2020-05-23T14:49:35.386720Z",
     "start_time": "2020-05-23T14:49:35.370714Z"
    }
   },
   "outputs": [
    {
     "data": {
      "text/html": [
       "<table><caption>TabularCPD for <b>G</b></caption><tr><td><b>D</b></td><td colspan=2>D_0</td><td colspan=2>D_1</td></tr><tr><td><b>I</b></td><td colspan=1>I_0</td><td colspan=1>I_1</td><td colspan=1>I_0</td><td colspan=1>I_1</td></tr><tr><td><b>G_0</b></td><td>0.3000</td><td>0.0500</td><td>0.9000</td><td>0.5000</td></tr><tr><td><b>G_1</b></td><td>0.4000</td><td>0.2500</td><td>0.0800</td><td>0.3000</td></tr><tr><td><b>G_2</b></td><td>0.3000</td><td>0.7000</td><td>0.0200</td><td>0.2000</td></tr></table>"
      ],
      "text/plain": [
       "<TabularCPD representing P(G:3 | I:2, D:2) at 0x17d3db3dd88>"
      ]
     },
     "execution_count": 23,
     "metadata": {},
     "output_type": "execute_result"
    }
   ],
   "source": [
    "diff_cpd=TabularCPD(\n",
    "    variable='D',\n",
    "    variable_card=2,\n",
    "    values=[[0.6,0.4]]\n",
    ")\n",
    "intell_cpd=TabularCPD(\n",
    "    variable='I',\n",
    "    variable_card=2,\n",
    "    values=[[0.7,0.3]]\n",
    ")\n",
    "grade_cpd=TabularCPD(\n",
    "    variable='G', # 节点名称\n",
    "    variable_card=3, # 节点取值个数\n",
    "    values=[[0.3, 0.05, 0.9, 0.5], # 该节点的概率表\n",
    "    [0.4, 0.25, 0.08, 0.3],\n",
    "    [0.3, 0.7, 0.02, 0.2]],\n",
    "    evidence=['I', 'D'], # 该节点的依赖节点\n",
    "    evidence_card=[2, 2] # 依赖节点的取值个数\n",
    ")\n",
    "letter_cpd=TabularCPD(\n",
    "    variable='L',\n",
    "    variable_card=2,\n",
    "    values=[\n",
    "        [.1,.4,.99],\n",
    "        [.9,.6,.01]\n",
    "    ],\n",
    "    evidence=['G'],\n",
    "    evidence_card=[3]\n",
    ")\n",
    "SAT_cpd=TabularCPD(\n",
    "    variable='S',\n",
    "    variable_card=2,\n",
    "    values=[\n",
    "        [.95,.2],\n",
    "        [.05,.8]\n",
    "    ],\n",
    "    evidence=['I'],\n",
    "    evidence_card=[2]\n",
    ")\n",
    "grade_cpd"
   ]
  },
  {
   "cell_type": "markdown",
   "metadata": {},
   "source": [
    "### 将包含概率表的各节点添加到模型中"
   ]
  },
  {
   "cell_type": "code",
   "execution_count": 24,
   "metadata": {
    "ExecuteTime": {
     "end_time": "2020-05-23T14:49:35.398733Z",
     "start_time": "2020-05-23T14:49:35.386720Z"
    }
   },
   "outputs": [
    {
     "data": {
      "text/html": [
       "<table><caption>TabularCPD for <b>G</b></caption><tr><td><b>D</b></td><td colspan=2>D_0</td><td colspan=2>D_1</td></tr><tr><td><b>I</b></td><td colspan=1>I_0</td><td colspan=1>I_1</td><td colspan=1>I_0</td><td colspan=1>I_1</td></tr><tr><td><b>G_0</b></td><td>0.3000</td><td>0.0500</td><td>0.9000</td><td>0.5000</td></tr><tr><td><b>G_1</b></td><td>0.4000</td><td>0.2500</td><td>0.0800</td><td>0.3000</td></tr><tr><td><b>G_2</b></td><td>0.3000</td><td>0.7000</td><td>0.0200</td><td>0.2000</td></tr></table>"
      ],
      "text/plain": [
       "<TabularCPD representing P(G:3 | I:2, D:2) at 0x17d3db3dd88>"
      ]
     },
     "execution_count": 24,
     "metadata": {},
     "output_type": "execute_result"
    }
   ],
   "source": [
    "student_model.add_cpds(diff_cpd,\n",
    "                      intell_cpd,\n",
    "                      grade_cpd,\n",
    "                      letter_cpd,\n",
    "                      SAT_cpd)\n",
    "student_model.get_cpds('G')\n",
    "# student_model.check_model()\n",
    "# student_model.get_independencies()"
   ]
  },
  {
   "cell_type": "markdown",
   "metadata": {},
   "source": [
    "获取模型各节点之间的依赖关系"
   ]
  },
  {
   "cell_type": "code",
   "execution_count": 25,
   "metadata": {
    "ExecuteTime": {
     "end_time": "2020-05-23T14:49:35.410734Z",
     "start_time": "2020-05-23T14:49:35.398733Z"
    }
   },
   "outputs": [
    {
     "data": {
      "text/plain": [
       "(D _|_ I, S | G)\n",
       "(D _|_ L, G | I)\n",
       "(D _|_ I, S, G | L)\n",
       "(D _|_ L, G | S)\n",
       "(G _|_ I, S, L | D)\n",
       "(G _|_ L, D | I)\n",
       "(G _|_ I, S, D | L)\n",
       "(G _|_ I, L, D | S)\n",
       "(I _|_ S, G, L | D)\n",
       "(I _|_ S, D | G)\n",
       "(I _|_ S, G, D | L)\n",
       "(I _|_ L, G | S)\n",
       "(L _|_ I, S, G | D)\n",
       "(L _|_ G, D | I)\n",
       "(L _|_ I, G, D | S)\n",
       "(S _|_ I, L, G | D)\n",
       "(S _|_ I, D | G)\n",
       "(S _|_ I, G, D | L)"
      ]
     },
     "execution_count": 25,
     "metadata": {},
     "output_type": "execute_result"
    }
   ],
   "source": [
    "student_model.get_independencies()"
   ]
  },
  {
   "cell_type": "markdown",
   "metadata": {},
   "source": [
    "### 进行贝叶斯推断\n",
    "  可见当聪明的学生碰上较简单的考试时，获得第一等成绩的概率高达0.9。\n"
   ]
  },
  {
   "cell_type": "code",
   "execution_count": 26,
   "metadata": {
    "ExecuteTime": {
     "end_time": "2020-05-23T14:49:35.426729Z",
     "start_time": "2020-05-23T14:49:35.410734Z"
    }
   },
   "outputs": [
    {
     "data": {
      "text/plain": [
       "array([0.05, 0.25, 0.7 ])"
      ]
     },
     "execution_count": 26,
     "metadata": {},
     "output_type": "execute_result"
    }
   ],
   "source": [
    "from pgmpy.inference import VariableElimination\n",
    "student_infer=VariableElimination(student_model)\n",
    "pro_G=student_infer.query(\n",
    "    variables=['G'],\n",
    "    evidence={'I':1,'D':0}\n",
    ")\n",
    "a=pro_G['G']\n",
    "a.values"
   ]
  },
  {
   "cell_type": "markdown",
   "metadata": {},
   "source": [
    "![在这里插入图片描述](https://img-blog.csdnimg.cn/20200523224427105.png?x-oss-process=image/watermark,type_ZmFuZ3poZW5naGVpdGk,shadow_10,text_aHR0cHM6Ly9ibG9nLmNzZG4ubmV0L0lfYW1fYV9idWdlcg==,size_16,color_FFFFFF,t_70)"
   ]
  },
  {
   "cell_type": "markdown",
   "metadata": {
    "ExecuteTime": {
     "end_time": "2020-05-23T12:27:40.026778Z",
     "start_time": "2020-05-23T12:27:40.009851Z"
    }
   },
   "source": [
    "## 基于pgmpy进行数据训练"
   ]
  },
  {
   "cell_type": "markdown",
   "metadata": {},
   "source": [
    "### 生成模拟数据并以上述的学生推荐信的模型变量进行命名"
   ]
  },
  {
   "cell_type": "code",
   "execution_count": 27,
   "metadata": {
    "ExecuteTime": {
     "end_time": "2020-05-23T14:49:35.446735Z",
     "start_time": "2020-05-23T14:49:35.426729Z"
    }
   },
   "outputs": [
    {
     "data": {
      "text/html": [
       "<div>\n",
       "<style scoped>\n",
       "    .dataframe tbody tr th:only-of-type {\n",
       "        vertical-align: middle;\n",
       "    }\n",
       "\n",
       "    .dataframe tbody tr th {\n",
       "        vertical-align: top;\n",
       "    }\n",
       "\n",
       "    .dataframe thead th {\n",
       "        text-align: right;\n",
       "    }\n",
       "</style>\n",
       "<table border=\"1\" class=\"dataframe\">\n",
       "  <thead>\n",
       "    <tr style=\"text-align: right;\">\n",
       "      <th></th>\n",
       "      <th>D</th>\n",
       "      <th>I</th>\n",
       "      <th>G</th>\n",
       "    </tr>\n",
       "  </thead>\n",
       "  <tbody>\n",
       "    <tr>\n",
       "      <th>0</th>\n",
       "      <td>0</td>\n",
       "      <td>1</td>\n",
       "      <td>1</td>\n",
       "    </tr>\n",
       "    <tr>\n",
       "      <th>1</th>\n",
       "      <td>0</td>\n",
       "      <td>0</td>\n",
       "      <td>0</td>\n",
       "    </tr>\n",
       "    <tr>\n",
       "      <th>2</th>\n",
       "      <td>1</td>\n",
       "      <td>1</td>\n",
       "      <td>0</td>\n",
       "    </tr>\n",
       "    <tr>\n",
       "      <th>3</th>\n",
       "      <td>1</td>\n",
       "      <td>1</td>\n",
       "      <td>0</td>\n",
       "    </tr>\n",
       "  </tbody>\n",
       "</table>\n",
       "</div>"
      ],
      "text/plain": [
       "   D  I  G\n",
       "0  0  1  1\n",
       "1  0  0  0\n",
       "2  1  1  0\n",
       "3  1  1  0"
      ]
     },
     "execution_count": 27,
     "metadata": {},
     "output_type": "execute_result"
    }
   ],
   "source": [
    "import numpy as np \n",
    "import pandas as pd \n",
    "raw_data=np.random.randint(0,2,size=(1000,5))\n",
    "data=pd.DataFrame(raw_data,columns=['D','I','G','L','S'])\n",
    "data.loc[:3,:'G']"
   ]
  },
  {
   "cell_type": "markdown",
   "metadata": {},
   "source": [
    "### 基于数据进行模型训练"
   ]
  },
  {
   "cell_type": "code",
   "execution_count": 29,
   "metadata": {
    "ExecuteTime": {
     "end_time": "2020-05-23T14:50:58.703430Z",
     "start_time": "2020-05-23T14:50:58.683655Z"
    },
    "scrolled": true
   },
   "outputs": [
    {
     "name": "stdout",
     "output_type": "stream",
     "text": [
      "['D', 'G', 'I', 'L', 'S'] [('D', 'G'), ('G', 'L'), ('I', 'G'), ('I', 'S')]\n"
     ]
    },
    {
     "ename": "TypeError",
     "evalue": "Estimator object should be a valid pgmpy estimator.",
     "output_type": "error",
     "traceback": [
      "\u001b[1;31m---------------------------------------------------------------------------\u001b[0m",
      "\u001b[1;31mTypeError\u001b[0m                                 Traceback (most recent call last)",
      "\u001b[1;32m<ipython-input-29-effca32406a3>\u001b[0m in \u001b[0;36m<module>\u001b[1;34m\u001b[0m\n\u001b[0;32m      2\u001b[0m \u001b[0mmodel\u001b[0m\u001b[1;33m=\u001b[0m\u001b[0mBayesianModel\u001b[0m\u001b[1;33m(\u001b[0m\u001b[1;33m[\u001b[0m\u001b[1;33m(\u001b[0m\u001b[1;34m'D'\u001b[0m\u001b[1;33m,\u001b[0m\u001b[1;34m'G'\u001b[0m\u001b[1;33m)\u001b[0m\u001b[1;33m,\u001b[0m\u001b[1;33m(\u001b[0m\u001b[1;34m'I'\u001b[0m\u001b[1;33m,\u001b[0m\u001b[1;34m'G'\u001b[0m\u001b[1;33m)\u001b[0m\u001b[1;33m,\u001b[0m\u001b[1;33m(\u001b[0m\u001b[1;34m'G'\u001b[0m\u001b[1;33m,\u001b[0m\u001b[1;34m'L'\u001b[0m\u001b[1;33m)\u001b[0m\u001b[1;33m,\u001b[0m\u001b[1;33m(\u001b[0m\u001b[1;34m'I'\u001b[0m\u001b[1;33m,\u001b[0m\u001b[1;34m'S'\u001b[0m\u001b[1;33m)\u001b[0m\u001b[1;33m]\u001b[0m\u001b[1;33m)\u001b[0m\u001b[1;33m\u001b[0m\u001b[1;33m\u001b[0m\u001b[0m\n\u001b[0;32m      3\u001b[0m \u001b[0mprint\u001b[0m\u001b[1;33m(\u001b[0m\u001b[0mmodel\u001b[0m\u001b[1;33m.\u001b[0m\u001b[0mnodes\u001b[0m\u001b[1;33m(\u001b[0m\u001b[1;33m)\u001b[0m\u001b[1;33m,\u001b[0m\u001b[0mmodel\u001b[0m\u001b[1;33m.\u001b[0m\u001b[0medges\u001b[0m\u001b[1;33m(\u001b[0m\u001b[1;33m)\u001b[0m\u001b[1;33m)\u001b[0m\u001b[1;33m\u001b[0m\u001b[1;33m\u001b[0m\u001b[0m\n\u001b[1;32m----> 4\u001b[1;33m \u001b[0mmodel\u001b[0m\u001b[1;33m.\u001b[0m\u001b[0mfit\u001b[0m\u001b[1;33m(\u001b[0m\u001b[0mdata\u001b[0m\u001b[1;33m,\u001b[0m \u001b[0mestimator_type\u001b[0m\u001b[1;33m=\u001b[0m\u001b[0mMaximumLikelihoodEstimator\u001b[0m\u001b[1;33m)\u001b[0m\u001b[1;33m\u001b[0m\u001b[1;33m\u001b[0m\u001b[0m\n\u001b[0m\u001b[0;32m      5\u001b[0m \u001b[1;32mfor\u001b[0m \u001b[0mcpd\u001b[0m \u001b[1;32min\u001b[0m \u001b[0mmodel\u001b[0m\u001b[1;33m.\u001b[0m\u001b[0mget_cpds\u001b[0m\u001b[1;33m(\u001b[0m\u001b[1;33m)\u001b[0m\u001b[1;33m:\u001b[0m\u001b[1;33m\u001b[0m\u001b[1;33m\u001b[0m\u001b[0m\n\u001b[0;32m      6\u001b[0m     \u001b[0mprint\u001b[0m\u001b[1;33m(\u001b[0m\u001b[1;34mf'CPD of {cpd.variable}'\u001b[0m\u001b[1;33m)\u001b[0m\u001b[1;33m\u001b[0m\u001b[1;33m\u001b[0m\u001b[0m\n",
      "\u001b[1;32mD:\\software\\Python37\\lib\\site-packages\\pgmpy\\models\\BayesianModel.py\u001b[0m in \u001b[0;36mfit\u001b[1;34m(self, data, estimator_type)\u001b[0m\n\u001b[0;32m    551\u001b[0m         \u001b[1;32melse\u001b[0m\u001b[1;33m:\u001b[0m\u001b[1;33m\u001b[0m\u001b[1;33m\u001b[0m\u001b[0m\n\u001b[0;32m    552\u001b[0m             \u001b[1;32mif\u001b[0m \u001b[1;32mnot\u001b[0m \u001b[0misinstance\u001b[0m\u001b[1;33m(\u001b[0m\u001b[0mestimator_type\u001b[0m\u001b[1;33m,\u001b[0m \u001b[0mBaseEstimator\u001b[0m\u001b[1;33m)\u001b[0m\u001b[1;33m:\u001b[0m\u001b[1;33m\u001b[0m\u001b[1;33m\u001b[0m\u001b[0m\n\u001b[1;32m--> 553\u001b[1;33m                 \u001b[1;32mraise\u001b[0m \u001b[0mTypeError\u001b[0m\u001b[1;33m(\u001b[0m\u001b[1;34m\"Estimator object should be a valid pgmpy estimator.\"\u001b[0m\u001b[1;33m)\u001b[0m\u001b[1;33m\u001b[0m\u001b[1;33m\u001b[0m\u001b[0m\n\u001b[0m\u001b[0;32m    554\u001b[0m \u001b[1;33m\u001b[0m\u001b[0m\n\u001b[0;32m    555\u001b[0m         \u001b[0mestimator\u001b[0m \u001b[1;33m=\u001b[0m \u001b[0mestimator_type\u001b[0m\u001b[1;33m(\u001b[0m\u001b[0mself\u001b[0m\u001b[1;33m,\u001b[0m \u001b[0mdata\u001b[0m\u001b[1;33m)\u001b[0m\u001b[1;33m\u001b[0m\u001b[1;33m\u001b[0m\u001b[0m\n",
      "\u001b[1;31mTypeError\u001b[0m: Estimator object should be a valid pgmpy estimator."
     ]
    }
   ],
   "source": [
    "from pgmpy.estimators import MaximumLikelihoodEstimator,BaseEstimator \n",
    "model=BayesianModel([('D','G'),('I','G'),('G','L'),('I','S')])\n",
    "print(model.nodes(),model.edges())\n",
    "# 基于极大似然估计进行模型训练\n",
    "model.fit(data, estimator_type=MaximumLikelihoodEstimator)\n",
    "for cpd in model.get_cpds():\n",
    "    print(f'CPD of {cpd.variable}')\n",
    "    print(cpd)"
   ]
  },
  {
   "cell_type": "markdown",
   "metadata": {},
   "source": [
    "![在这里插入图片描述](https://img-blog.csdnimg.cn/2020052322462186.jpg?x-oss-process=image/watermark,type_ZmFuZ3poZW5naGVpdGk,shadow_10,text_aHR0cHM6Ly9ibG9nLmNzZG4ubmV0L0lfYW1fYV9idWdlcg==,size_16,color_FFFFFF,t_70)"
   ]
  }
 ],
 "metadata": {
  "kernelspec": {
   "display_name": "Python 3.7.5 64-bit",
   "language": "python",
   "name": "python37564bita5f53f9b60c0490aa934da503dc99db2"
  },
  "language_info": {
   "codemirror_mode": {
    "name": "ipython",
    "version": 3
   },
   "file_extension": ".py",
   "mimetype": "text/x-python",
   "name": "python",
   "nbconvert_exporter": "python",
   "pygments_lexer": "ipython3",
   "version": "3.7.5"
  },
  "toc": {
   "base_numbering": 1,
   "nav_menu": {},
   "number_sections": true,
   "sideBar": true,
   "skip_h1_title": false,
   "title_cell": "Table of Contents",
   "title_sidebar": "Contents",
   "toc_cell": false,
   "toc_position": {},
   "toc_section_display": true,
   "toc_window_display": false
  }
 },
 "nbformat": 4,
 "nbformat_minor": 4
}
