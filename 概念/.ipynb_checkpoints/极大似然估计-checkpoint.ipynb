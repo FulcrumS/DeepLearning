{
 "cells": [
  {
   "cell_type": "markdown",
   "metadata": {},
   "source": [
    "极大似然估计，通俗理解来说，就是利用**已知的样本结果信息**，**反推**最具有可能（最大概率）导致这些样本结果出现的**模型参数值**！"
   ]
  },
  {
   "cell_type": "markdown",
   "metadata": {},
   "source": [
    "对于这个函数：$P(x|\\theta)$输入有两个：x表示某一个具体的数据； $\\theta$ 表示模型的参数\n",
    "> 如果 $\\theta$ 是已知确定的，$x$是变量，这个函数叫做**概率函数**(probability function)，它描述对于不同的样本点 $x$ ，其出现概率是多少。\n",
    "\n",
    "> 如果 $x$ 是已知确定的，  $\\theta$ 是变量，这个函数叫做**似然函数**(likelihood function), 它描述对于不同的模型参数，出现 $x$这个样本点的概率是多少。"
   ]
  },
  {
   "cell_type": "markdown",
   "metadata": {},
   "source": [
    "## 例子一"
   ]
  },
  {
   "cell_type": "markdown",
   "metadata": {},
   "source": [
    "假如有一个罐子，里面有黑白两种颜色的球，数目多少不知，\n",
    "两种颜色的比例也不知。我 们想知道罐中白球和黑球的比例，\n",
    "但我们不能把罐中的球全部拿出来数。现在我们可以每次任意\n",
    "从已经摇匀的罐中拿一个球出来，记录球的颜色，然后把拿出来的球 再放回罐中。\n",
    "这个过程可以重复，我们可以用记录的球的颜色来估计罐中黑白球的比例。\n",
    "假如在前面的一百次重复记录中，\n",
    "有七十次是白球，请问罐中白球所占的比例最有可能是多少？\n",
    "\n",
    "**很多人马上就有答案了：70%。而其后的理论支撑是什么呢？**\n",
    "> 我们假设罐中白球的比例是p，那么黑球的比例就是1-p。因为每抽一个球出来，在记录颜色之后，我们把抽出的球放回了罐中并摇匀，所以每次抽出来的球的颜 色服从**同一独立分布**。\n",
    "\n",
    "> 这里我们把一次抽出来球的颜色称为一次抽样。题目中在一百次抽样中，七十次是白球的,三十次为黑球事件的概率是P(样本结果|Model)。\n",
    "\n",
    "> 如果第一次抽象的结果记为x1,第二次抽样的结果记为x2....那么样本结果为(x1,x2.....,x100)。这样，我们可以得到如下表达式：\n",
    "\n",
    "$$P(样本结果|Model)=P(x_1,x_2,...,x_{100}|Model)\\\\\n",
    "    =p(x_1|Model)p(x_2|Model)...p(x_{100}|Model)\\\\\n",
    "    =p^{30}(1-p)^{70}\n",
    "    $$\n",
    "> 不同的p，直接导致P（样本结果|Model）的不同。\n",
    ">\n",
    "> **最大似然估计**的核心： 让这个样本结果出现的可能性最大，也就是使得$p^{70}(1-p)^{30}$ 值最大的**模型参数p**\n",
    ">\n",
    "> **那么我们就可以看成是p的方程，求导即可！**\n",
    ">\n",
    "> 未知数只有一个p，我们令其导数为0，即可求出p为70%，与我们一开始认为的70%是一致的。其中蕴含着我们的数学思想在里面。"
   ]
  },
  {
   "cell_type": "code",
   "execution_count": 5,
   "metadata": {
    "ExecuteTime": {
     "end_time": "2020-05-24T03:36:02.455873Z",
     "start_time": "2020-05-24T03:36:02.424411Z"
    }
   },
   "outputs": [
    {
     "name": "stdout",
     "output_type": "stream",
     "text": [
      "P对p求导的方程式结果： -30*p**70*(1 - p)**29 + 70*p**69*(1 - p)**30\n",
      "[0, 7/10, 1]\n"
     ]
    }
   ],
   "source": [
    "import sympy as sp\n",
    "p = sp.symbols('p')\n",
    "P=p**70*((1-p)**30)\n",
    "P_x = sp.diff(P, p)\n",
    "print('P对p求导的方程式结果：',P_x)\n",
    "c = sp.solve(P_x, p)\n",
    "print(c)"
   ]
  }
 ],
 "metadata": {
  "kernelspec": {
   "display_name": "Python 3.7.5 64-bit",
   "language": "python",
   "name": "python37564bita5f53f9b60c0490aa934da503dc99db2"
  },
  "language_info": {
   "codemirror_mode": {
    "name": "ipython",
    "version": 3
   },
   "file_extension": ".py",
   "mimetype": "text/x-python",
   "name": "python",
   "nbconvert_exporter": "python",
   "pygments_lexer": "ipython3",
   "version": "3.7.5"
  },
  "toc": {
   "base_numbering": 1,
   "nav_menu": {},
   "number_sections": true,
   "sideBar": true,
   "skip_h1_title": false,
   "title_cell": "Table of Contents",
   "title_sidebar": "Contents",
   "toc_cell": false,
   "toc_position": {},
   "toc_section_display": true,
   "toc_window_display": false
  }
 },
 "nbformat": 4,
 "nbformat_minor": 4
}
