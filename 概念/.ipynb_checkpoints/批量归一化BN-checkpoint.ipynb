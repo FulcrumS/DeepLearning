{
 "cells": [
  {
   "cell_type": "markdown",
   "metadata": {},
   "source": [
    "BatchNormalization\n",
    "### 什么是归一化？为什么这样做？\n",
    "归一化，即得到均值为0，标准差为1的数据，也就是常说的z-score。这样做的好处是，标准化处理使各个特征的分布相近，这往往更容易训练出有效的模型。\n",
    "\n",
    "### 什么是BN？\n",
    "利用小批量上的均值和标准差，不断调整神经网络中间输出，从而使整个神经网络在各层的中间输出的数值更稳定。\n",
    "\n",
    "（ps.BN是为了应对深度模型的挑战提出的，因为在浅层模型中，只对input进行标准化操作就足够有效了，随着参数更新，在靠近输出层的输出较难出现剧烈变化）\n",
    "### 如何对网络进行BN操作？\n",
    "> 对全连接层做批归一化\n",
    ">> BN的相对顺序为：输入-仿射变换-BN-激活函数\n",
    "\n",
    "> 对卷积层做批归一化（nn.BatchNorm2d(out_channel)）\n",
    ">> 对卷积层来说，批量归一化发生在卷积计算之后、应用激活函数之前。\\\n",
    ">> 如果卷积计算输出多个通 道，我们需要对这些通道的输出分别做批量归一化，且每个通道都拥有独立的拉伸和偏移参数， 并均为标量。\\\n",
    ">>设小批量中有m个样本。在单个通道上，假设卷积计算输出的高和宽分别为p和q。我 们需要对该通道中m × p × q个元素同时做批量归一化。对这些元素做标准化计算时，我们使用相 同的均值和方差，即该通道中m × p × q个元素的均值和方差。\n",
    "\n",
    "> 预测时的批归一化\n",
    ">>训练模式和预测模型的计算不同(dropout也是这样)。\\\n",
    ">>训练模式下，如上所述，用batch中样本的均值和方差，batch size较大时，计算更为准确。\\\n",
    ">>预测模式下，我们希望对于任意输入都有确定的输出，一种常用的方法是 通过移动平均估算整个训练数据集的样本均值和方差，并在预测时使用它们得到确定的输出。"
   ]
  }
 ],
 "metadata": {
  "kernelspec": {
   "display_name": "Python 3.7.5 64-bit",
   "language": "python",
   "name": "python37564bita5f53f9b60c0490aa934da503dc99db2"
  },
  "language_info": {
   "codemirror_mode": {
    "name": "ipython",
    "version": 3
   },
   "file_extension": ".py",
   "mimetype": "text/x-python",
   "name": "python",
   "nbconvert_exporter": "python",
   "pygments_lexer": "ipython3",
   "version": "3.7.5"
  },
  "toc": {
   "base_numbering": 1,
   "nav_menu": {},
   "number_sections": true,
   "sideBar": true,
   "skip_h1_title": false,
   "title_cell": "Table of Contents",
   "title_sidebar": "Contents",
   "toc_cell": false,
   "toc_position": {},
   "toc_section_display": true,
   "toc_window_display": false
  }
 },
 "nbformat": 4,
 "nbformat_minor": 4
}
