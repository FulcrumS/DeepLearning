{
 "cells": [
  {
   "cell_type": "code",
   "execution_count": 2,
   "metadata": {},
   "outputs": [
    {
     "output_type": "execute_result",
     "data": {
      "text/plain": "['ABCMeta',\n 'Complex',\n 'Integral',\n 'Number',\n 'Rational',\n 'Real',\n '__all__',\n '__builtins__',\n '__cached__',\n '__doc__',\n '__file__',\n '__loader__',\n '__name__',\n '__package__',\n '__spec__',\n 'abstractmethod']"
     },
     "metadata": {},
     "execution_count": 2
    }
   ],
   "source": [
    "import numbers\n",
    "dir(numbers)"
   ]
  }
 ],
 "metadata": {
  "kernelspec": {
   "name": "python37564bita5f53f9b60c0490aa934da503dc99db2",
   "display_name": "Python 3.7.5 64-bit"
  }
 },
 "nbformat": 4,
 "nbformat_minor": 2
}