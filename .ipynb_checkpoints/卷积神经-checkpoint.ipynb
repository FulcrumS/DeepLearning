{
 "cells": [
  {
   "cell_type": "markdown",
   "metadata": {},
   "source": [
    "# 卷积层\n",
    "\n",
    "## 输入输出的数据格式是： batch * channel * height * width\n",
    "\n",
    "## 权重格式：output_channels * in_channels * height * width"
   ]
  },
  {
   "cell_type": "code",
   "execution_count": 92,
   "metadata": {
    "scrolled": true
   },
   "outputs": [
    {
     "name": "stdout",
     "output_type": "stream",
     "text": [
      "w:  \n",
      "[[[[0. 1.]\n",
      "   [2. 3.]]]]\n",
      "<NDArray 1x1x2x2 @cpu(0)>\n",
      "b:  \n",
      "[1.]\n",
      "<NDArray 1 @cpu(0)>\n",
      "data:  \n",
      "[[[[0. 1. 2.]\n",
      "   [3. 4. 5.]\n",
      "   [6. 7. 8.]]]]\n",
      "<NDArray 1x1x3x3 @cpu(0)>\n",
      "ou:  \n",
      "[[[[20. 26.]\n",
      "   [38. 44.]]]]\n",
      "<NDArray 1x1x2x2 @cpu(0)>\n"
     ]
    }
   ],
   "source": [
    "from mxnet import nd\n",
    "w=nd.arange(4).reshape((1,1,2,2))\n",
    "b=nd.array([1])\n",
    "data=nd.arange(9).reshape((1,1,3,3))\n",
    "out=nd.Convolution(data,w,b,kernel=w.shape[2:],num_filter=w.shape[1])\n",
    "print('w: ',w)\n",
    "print('b: ',b)\n",
    "print('data: ',data)\n",
    "print('ou: ',out)"
   ]
  },
  {
   "cell_type": "markdown",
   "metadata": {},
   "source": [
    "# 窗口移动和边缘填充"
   ]
  },
  {
   "cell_type": "code",
   "execution_count": 93,
   "metadata": {
    "scrolled": false
   },
   "outputs": [
    {
     "data": {
      "text/plain": [
       "\n",
       "[[[[ 1.  9.]\n",
       "   [22. 44.]]]]\n",
       "<NDArray 1x1x2x2 @cpu(0)>"
      ]
     },
     "execution_count": 93,
     "metadata": {},
     "output_type": "execute_result"
    }
   ],
   "source": [
    "out=nd.Convolution(data,w,b,kernel=w.shape[2:],num_filter=w.shape[0 ],stride=(2 ,2),pad=(1,1))\n",
    "out"
   ]
  },
  {
   "cell_type": "code",
   "execution_count": 134,
   "metadata": {
    "scrolled": true
   },
   "outputs": [
    {
     "name": "stdout",
     "output_type": "stream",
     "text": [
      "w:  \n",
      "[[[[0. 1.]\n",
      "   [2. 3.]]\n",
      "\n",
      "  [[4. 5.]\n",
      "   [6. 7.]]]]\n",
      "<NDArray 1x2x2x2 @cpu(0)>\n",
      "b:  \n",
      "[1.]\n",
      "<NDArray 1 @cpu(0)>\n",
      "data:  \n",
      "[[[[ 0.  1.  2.]\n",
      "   [ 3.  4.  5.]\n",
      "   [ 6.  7.  8.]]\n",
      "\n",
      "  [[ 9. 10. 11.]\n",
      "   [12. 13. 14.]\n",
      "   [15. 16. 17.]]]]\n",
      "<NDArray 1x2x3x3 @cpu(0)>\n",
      "out:  \n",
      "[[[[269. 297.]\n",
      "   [353. 381.]]]]\n",
      "<NDArray 1x1x2x2 @cpu(0)>\n",
      "(2, 2) 1\n"
     ]
    }
   ],
   "source": [
    "w=nd.arange(8).reshape((1,2,2,2))\n",
    "b=nd.array([1])\n",
    "data=nd.arange(18).reshape((1,2,3,3))\n",
    "out=nd.Convolution(data,w,b,kernel=w.shape[2:],num_filter=w.shape[0])\n",
    "print('w: ',w)\n",
    "print('b: ',b)\n",
    "print('data: ',data)\n",
    "print('out: ',out)\n",
    "print(w.shape[2:],w.shape[0])"
   ]
  },
  {
   "cell_type": "code",
   "execution_count": 126,
   "metadata": {},
   "outputs": [
    {
     "name": "stdout",
     "output_type": "stream",
     "text": [
      "w:  \n",
      "[[[[ 0.  1.]\n",
      "   [ 2.  3.]]\n",
      "\n",
      "  [[ 4.  5.]\n",
      "   [ 6.  7.]]]\n",
      "\n",
      "\n",
      " [[[ 8.  9.]\n",
      "   [10. 11.]]\n",
      "\n",
      "  [[12. 13.]\n",
      "   [14. 15.]]]]\n",
      "<NDArray 2x2x2x2 @cpu(0)>\n",
      "b:  \n",
      "[1. 1.]\n",
      "<NDArray 2 @cpu(0)>\n",
      "data:  \n",
      "[[[[ 0.  1.  2.]\n",
      "   [ 3.  4.  5.]\n",
      "   [ 6.  7.  8.]]\n",
      "\n",
      "  [[ 9. 10. 11.]\n",
      "   [12. 13. 14.]\n",
      "   [15. 16. 17.]]]]\n",
      "<NDArray 1x2x3x3 @cpu(0)>\n",
      "out:  \n",
      "[[[[ 269.  297.]\n",
      "   [ 353.  381.]]\n",
      "\n",
      "  [[ 685.  777.]\n",
      "   [ 961. 1053.]]]]\n",
      "<NDArray 1x2x2x2 @cpu(0)>\n"
     ]
    }
   ],
   "source": [
    "w=nd.arange(16).reshape((2,2,2,2))\n",
    "b=nd.array([1,1])\n",
    "data=nd.arange(18).reshape((1,2,3,3))\n",
    "out=nd.Convolution(data,w,b,kernel=w.shape[2:],num_filter=w.shape[0])\n",
    "print('w: ',w)\n",
    "print('b: ',b)\n",
    "print('data: ',data)\n",
    "print('out: ',out)"
   ]
  },
  {
   "cell_type": "code",
   "execution_count": 111,
   "metadata": {
    "scrolled": true
   },
   "outputs": [
    {
     "data": {
      "text/plain": [
       "(\n",
       " [[[[ 0.  1.  2.]\n",
       "    [ 3.  4.  5.]]\n",
       " \n",
       "   [[ 6.  7.  8.]\n",
       "    [ 9. 10. 11.]]]]\n",
       " <NDArray 1x2x2x3 @cpu(0)>, \n",
       " [[[[ 4.  5.]]\n",
       " \n",
       "   [[10. 11.]]]]\n",
       " <NDArray 1x2x1x2 @cpu(0)>, \n",
       " [[[[1.5 2.5 3.5]]\n",
       " \n",
       "   [[7.5 8.5 9.5]]]]\n",
       " <NDArray 1x2x1x3 @cpu(0)>)"
      ]
     },
     "execution_count": 111,
     "metadata": {},
     "output_type": "execute_result"
    }
   ],
   "source": [
    "data=nd.arange(12).reshape((1,2,2,3))\n",
    "max_pool=nd.Pooling(data,pool_type='max',kernel=(2,2))\n",
    "avg_pool=nd.Pooling(data,pool_type='avg',kernel=(2,1))\n",
    "data,max_pool,avg_pool"
   ]
  },
  {
   "cell_type": "markdown",
   "metadata": {},
   "source": [
    "# 定义模型"
   ]
  },
  {
   "cell_type": "code",
   "execution_count": 132,
   "metadata": {
    "scrolled": true
   },
   "outputs": [
    {
     "data": {
      "text/plain": [
       "cpu(0)"
      ]
     },
     "execution_count": 132,
     "metadata": {},
     "output_type": "execute_result"
    }
   ],
   "source": [
    "import mxnet as mx \n",
    "try:\n",
    "    ctx=mx.gpu()\n",
    "    _=nd.zeros((1,),ctx=ctx)\n",
    "except:\n",
    "    ctx=mx.cpu()\n",
    "ctx\n",
    "    "
   ]
  },
  {
   "cell_type": "code",
   "execution_count": 138,
   "metadata": {},
   "outputs": [],
   "source": [
    "weight_scale=.01\n",
    "num_outputs=10 \n",
    "w1=nd.random_normal(shape=(20,1,5,5),scale=weight_scale,ctx=ctx)\n",
    "b1=nd.zeros(w1.shape[0],ctx=ctx)\n",
    "w2=nd.random_normal(shape=(50,20,3,3),scale=weight_scale,ctx=ctx)\n",
    "b2=nd.zeros(w2.shape[0],ctx=ctx)\n",
    "\n",
    "w3=nd.random_normal(shape=(1250,128),scale=weight_scale,ctx=ctx)\n",
    "b3=nd.zeros(w3.shape[1],ctx=ctx)\n",
    "w4=nd.random_normal(shape=(w3.shape[1],10),scale=weight_scale,ctx=ctx)\n",
    "b4=nd.zeros(w4.shape[1],ctx=ctx)\n",
    "params=[w1,b1,w2,b2,w3,b3,w4,b4]\n",
    "for param in params:\n",
    "    param.attach_grad()"
   ]
  },
  {
   "cell_type": "code",
   "execution_count": 139,
   "metadata": {},
   "outputs": [],
   "source": [
    "def net(X,verbose=False):\n",
    "    X=X.as_in_context(w1.context)\n",
    "#     第一层卷积\n",
    "    h1_conv=nd.Convolution(X,w1,b1,kernel=w1.shape[2:],num_filter=w1.shape[0])\n",
    "    h1_activation=nd.relu(h1_conv1)\n",
    "    h1=nd.Pooling(data=h1_activation,pool_type='max',kernel=(2,2),stride=(2,2))\n",
    "#     第一层卷积\n",
    "    h2_conv=nd.Convolution(h1,w2,b2,kernel=w2.shape[2:],num_filter=w2.shape[0])\n",
    "    h2_activation=nd.relu(h2_conv)\n",
    "    h2=nd.Pooling(h2_activation,pool_type='max',kernel=(2,2),stride=(2,2))\n",
    "    h2=nd.flatten(h2)\n",
    "#     第一层全连接\n",
    "    h3_linear=nd.dot(h2,w3)+b3\n",
    "    h3=nd.relu(h3_linear)\n",
    "#     第二层全连接\n",
    "    h4_linear=nd.dot(h3,w4)+b4\n",
    "    if verbose:\n",
    "        print('1st conv block:',h1.shape)\n",
    "        print('2nd conv block:',h2.shape)\n",
    "        print('1st dense: ',h3.shape)\n",
    "        print('2nd dense: ',h4_linear.shape)\n",
    "        print('output: ',h4_linear)"
   ]
  }
 ],
 "metadata": {
  "kernelspec": {
   "display_name": "Python 3.7.2 64-bit",
   "language": "python",
   "name": "python37264bit976359a467c3400289726740d00d4381"
  },
  "language_info": {
   "codemirror_mode": {
    "name": "ipython",
    "version": 3
   },
   "file_extension": ".py",
   "mimetype": "text/x-python",
   "name": "python",
   "nbconvert_exporter": "python",
   "pygments_lexer": "ipython3",
   "version": "3.7.2"
  }
 },
 "nbformat": 4,
 "nbformat_minor": 2
}
