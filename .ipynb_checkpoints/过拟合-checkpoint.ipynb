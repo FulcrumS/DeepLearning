{
 "cells": [
  {
   "cell_type": "code",
   "execution_count": 6,
   "metadata": {},
   "outputs": [
    {
     "data": {
      "text/plain": [
       "\n",
       "[[ 5.7319380e-02  3.2855114e-03  1.8832348e-04]\n",
       " [-2.7443156e+00  7.5312681e+00 -2.0668177e+01]\n",
       " [ 1.5790237e+00  2.4933159e+00  3.9370050e+00]\n",
       " [-5.5909204e-01  3.1258392e-01 -1.7476317e-01]\n",
       " [ 8.8965827e-01  7.9149187e-01  7.0415729e-01]]\n",
       "<NDArray 5x3 @cpu(0)>"
      ]
     },
     "execution_count": 6,
     "metadata": {},
     "output_type": "execute_result"
    }
   ],
   "source": [
    "from mxnet import nd\n",
    "num_train,num_test=100,100\n",
    "X=nd.random.normal(shape=(num_test+num_train,1))\n",
    "X=nd.concat(X,nd.power(X,2),nd.power(X,3))\n",
    "true_w,true_b=[1.4,2.5,5.2],3.3 \n",
    "y=true_w[0]*X[:,0]+true_w[1]*X[:,1]+true_w[2]*X[:,2]+true_b\n",
    "y+=nd.random.normal(shape=y.shape)\n",
    "y_train,y_test=y[:num_train],y[num_train:]\n",
    "x_train,x_test=X[:num_train],X[num_train:]\n",
    "X[:5 ]"
   ]
  },
  {
   "cell_type": "code",
   "execution_count": 9,
   "metadata": {},
   "outputs": [
    {
     "ename": "TypeError",
     "evalue": "'module' object is not callable",
     "output_type": "error",
     "traceback": [
      "\u001b[1;31m---------------------------------------------------------------------------\u001b[0m",
      "\u001b[1;31mTypeError\u001b[0m                                 Traceback (most recent call last)",
      "\u001b[1;32m<ipython-input-9-6c3d5448b1ec>\u001b[0m in \u001b[0;36m<module>\u001b[1;34m\u001b[0m\n\u001b[0;32m      2\u001b[0m \u001b[0mdataset\u001b[0m\u001b[1;33m=\u001b[0m\u001b[0mgluon\u001b[0m\u001b[1;33m.\u001b[0m\u001b[0mdata\u001b[0m\u001b[1;33m.\u001b[0m\u001b[0mArrayDataset\u001b[0m\u001b[1;33m(\u001b[0m\u001b[0mx_train\u001b[0m\u001b[1;33m,\u001b[0m\u001b[0my_train\u001b[0m\u001b[1;33m)\u001b[0m\u001b[1;33m\u001b[0m\u001b[1;33m\u001b[0m\u001b[0m\n\u001b[0;32m      3\u001b[0m \u001b[0mbatch_size\u001b[0m\u001b[1;33m=\u001b[0m\u001b[1;36m2\u001b[0m\u001b[1;33m\u001b[0m\u001b[1;33m\u001b[0m\u001b[0m\n\u001b[1;32m----> 4\u001b[1;33m \u001b[0mtrain_iter\u001b[0m\u001b[1;33m=\u001b[0m\u001b[0mgluon\u001b[0m\u001b[1;33m.\u001b[0m\u001b[0mdata\u001b[0m\u001b[1;33m.\u001b[0m\u001b[0mdataloader\u001b[0m\u001b[1;33m(\u001b[0m\u001b[0mdataset\u001b[0m\u001b[1;33m,\u001b[0m\u001b[0mbatch_size\u001b[0m\u001b[1;33m,\u001b[0m\u001b[0mshuffle\u001b[0m\u001b[1;33m=\u001b[0m\u001b[1;32mTrue\u001b[0m\u001b[1;33m)\u001b[0m\u001b[1;33m\u001b[0m\u001b[1;33m\u001b[0m\u001b[0m\n\u001b[0m\u001b[0;32m      5\u001b[0m \u001b[0mnet\u001b[0m\u001b[1;33m=\u001b[0m\u001b[0mgluon\u001b[0m\u001b[1;33m.\u001b[0m\u001b[0mnn\u001b[0m\u001b[1;33m.\u001b[0m\u001b[0mSequential\u001b[0m\u001b[1;33m(\u001b[0m\u001b[1;33m)\u001b[0m\u001b[1;33m\u001b[0m\u001b[1;33m\u001b[0m\u001b[0m\n\u001b[0;32m      6\u001b[0m \u001b[0mnet\u001b[0m\u001b[1;33m.\u001b[0m\u001b[0madd\u001b[0m\u001b[1;33m(\u001b[0m\u001b[0mgluon\u001b[0m\u001b[1;33m.\u001b[0m\u001b[0mnn\u001b[0m\u001b[1;33m.\u001b[0m\u001b[0mDense\u001b[0m\u001b[1;33m(\u001b[0m\u001b[1;36m1\u001b[0m\u001b[1;33m)\u001b[0m\u001b[1;33m)\u001b[0m\u001b[1;33m\u001b[0m\u001b[1;33m\u001b[0m\u001b[0m\n",
      "\u001b[1;31mTypeError\u001b[0m: 'module' object is not callable"
     ]
    }
   ],
   "source": [
    "from mxnet import gluon,autograd\n",
    "dataset=gluon.data.ArrayDataset(x_train,y_train)\n",
    "batch_size=2 \n",
    "train_iter=gluon.data.dataloader(dataset,batch_size,shuffle=True)\n",
    "net=gluon.nn.Sequential()\n",
    "net.add(gluon.nn.Dense(1))\n",
    "net.initialize()\n",
    "l2Loss=gluon.loss.L2Loss()\n",
    "trainer=gluon.Trainer(net.collect_params(),'sgd',{'learning_rate':.1})\n",
    "epochs=50\n",
    "train_loss,test_loss=[],[]\n",
    "for e in range(epochs):\n",
    "    for data ,label in train_iter:\n",
    "        with autograd.record():\n",
    "            y=net(data)\n",
    "            loss=l2Loss(y,label)\n",
    "        loss.backward()\n",
    "        trainer.step(batch_size)\n",
    "    train_loss+=[l2Loss(net(x_train),y_train).mean().asscalar()]\n",
    "    test_loss+=[l2loss(net(x_test),y_test).mean().asscalar()]\n",
    "import matplotlib.pyplot as plt \n",
    "plt.subplots(1,2,1)\n",
    "plt.title('train_loss')\n",
    "plt.plot(train_loss)\n",
    "plt.subplots(1,2,2)\n",
    "plt.title('test_loss')\n",
    "plt.plot(test_loss)\n",
    "plt.show()"
   ]
  },
  {
   "cell_type": "code",
   "execution_count": null,
   "metadata": {},
   "outputs": [],
   "source": []
  }
 ],
 "metadata": {
  "kernelspec": {
   "display_name": "Python 3.7.2 64-bit",
   "language": "python",
   "name": "python37264bit976359a467c3400289726740d00d4381"
  },
  "language_info": {
   "codemirror_mode": {
    "name": "ipython",
    "version": 3
   },
   "file_extension": ".py",
   "mimetype": "text/x-python",
   "name": "python",
   "nbconvert_exporter": "python",
   "pygments_lexer": "ipython3",
   "version": "3.7.2"
  }
 },
 "nbformat": 4,
 "nbformat_minor": 2
}
