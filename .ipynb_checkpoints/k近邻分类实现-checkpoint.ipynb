{
 "cells": [
  {
   "cell_type": "markdown",
   "metadata": {},
   "source": [
    "作为一种没有显式训练和学习过程的分类和回归算法，k 近邻在众多有监督机器学习算法中算是一种比较独特的方法。说它独特，是因为 k 近邻不像其他模型有损失函数、有优化算法、有训练过程。对于给定的实例数据和实例数据对应所属类别，当要对新的实例进行分类时，根据这个实例最近的 k 个实例所属的类别来决定其属于哪一类。所以相对于其它机器学习模型和算法，k 近邻总体上而言是一种非常简单的方法。\n",
    "![微信图片_20200515135711.jpg](https://img04.sogoucdn.com/app/a/100520146/28e7636e61ad9c31d011b193d83c4fa2)\n",
    "![微信图片_20200515135911.jpg](https://img04.sogoucdn.com/app/a/100520146/ce4e4ab8237e8a96b6dae336c0cdbca7)"
   ]
  },
  {
   "cell_type": "code",
   "execution_count": 24,
   "metadata": {
    "ExecuteTime": {
     "end_time": "2020-05-15T03:57:14.901554Z",
     "start_time": "2020-05-15T03:57:14.889553Z"
    }
   },
   "outputs": [
    {
     "data": {
      "text/plain": [
       "((354, 13), (354,), (152, 13), (152,))"
      ]
     },
     "execution_count": 24,
     "metadata": {},
     "output_type": "execute_result"
    }
   ],
   "source": [
    "import numpy as np \n",
    "from sklearn.utils import shuffle \n",
    "from sklearn.datasets import load_boston \n",
    "from collections import Counter\n",
    "boston=load_boston() \n",
    "x,y =shuffle(boston.data,boston.target,random_state=12)\n",
    "x.astype(np.float32)\n",
    "y.reshape((-1,1))\n",
    "rate=.7 \n",
    "offset=int(x.shape[0]*rate )\n",
    "x_train,y_train=x[:offset],y[:offset]\n",
    "x_test,y_test=x[offset:],y[offset:]\n",
    "x_train.shape,y_train.shape,x_test.shape,y_test.shape"
   ]
  },
  {
   "cell_type": "code",
   "execution_count": 26,
   "metadata": {
    "ExecuteTime": {
     "end_time": "2020-05-15T04:00:11.602610Z",
     "start_time": "2020-05-15T04:00:11.595602Z"
    }
   },
   "outputs": [],
   "source": [
    "def compute_distance(x_test,x_train=x_train):\n",
    "    dist=np.dot(x_test,x_train.T)\n",
    "    te,tr=np.square(x_test).sum(axis=1),np.square(x_train).sum(axis=1)\n",
    "    dist=np.sqrt(-2*dist+tr+np.matrix(te).T)\n",
    "    return dist \n",
    "dist=compute_distance(x_test,x_train)"
   ]
  },
  {
   "cell_type": "code",
   "execution_count": 35,
   "metadata": {
    "ExecuteTime": {
     "end_time": "2020-05-15T04:17:23.243863Z",
     "start_time": "2020-05-15T04:17:23.235861Z"
    },
    "scrolled": false
   },
   "outputs": [],
   "source": [
    "def predict_labels(dist,y_train,k=1):\n",
    "    num_test=dist.shape[0]\n",
    "    y_pred=np.zeros(num_test)\n",
    "    for i in range(num_test):\n",
    "        y=y_train[np.argsort(dist[i])].flatten()[0:k]\n",
    "        y=Counter(y)\n",
    "        y_pred[i]=y.most_common(1)[0][0]\n",
    "    return y_pred.reshape((-1,1))\n",
    "y_pred=predict_labels(dist,y_train) "
   ]
  },
  {
   "cell_type": "code",
   "execution_count": 34,
   "metadata": {
    "ExecuteTime": {
     "end_time": "2020-05-15T04:06:31.526481Z",
     "start_time": "2020-05-15T04:06:31.519879Z"
    }
   },
   "outputs": [
    {
     "name": "stdout",
     "output_type": "stream",
     "text": [
      "(152,) (152, 1)\n"
     ]
    },
    {
     "data": {
      "text/plain": [
       "0.9210526315789473"
      ]
     },
     "execution_count": 34,
     "metadata": {},
     "output_type": "execute_result"
    }
   ],
   "source": [
    "def accuracy(y_test,y_pred):\n",
    "    print(y_test.shape,y_pred.shape)\n",
    "    return (y_test==y_pred).sum()/len(y_test)\n",
    "accuracy(y_test,y_pred)"
   ]
  },
  {
   "cell_type": "code",
   "execution_count": 44,
   "metadata": {
    "ExecuteTime": {
     "end_time": "2020-05-15T04:31:53.035753Z",
     "start_time": "2020-05-15T04:31:52.948728Z"
    },
    "collapsed": true
   },
   "outputs": [
    {
     "name": "stdout",
     "output_type": "stream",
     "text": [
      "(71,) (71, 1)\n",
      "(71,) (71, 1)\n",
      "(71,) (71, 1)\n",
      "(71,) (71, 1)\n",
      "(70,) (70, 1)\n",
      "(71,) (71, 1)\n",
      "(71,) (71, 1)\n",
      "(71,) (71, 1)\n",
      "(71,) (71, 1)\n",
      "(70,) (70, 1)\n",
      "(71,) (71, 1)\n",
      "(71,) (71, 1)\n",
      "(71,) (71, 1)\n",
      "(71,) (71, 1)\n",
      "(70,) (70, 1)\n",
      "(71,) (71, 1)\n",
      "(71,) (71, 1)\n",
      "(71,) (71, 1)\n",
      "(71,) (71, 1)\n",
      "(70,) (70, 1)\n",
      "(71,) (71, 1)\n",
      "(71,) (71, 1)\n",
      "(71,) (71, 1)\n",
      "(71,) (71, 1)\n",
      "(70,) (70, 1)\n",
      "(71,) (71, 1)\n",
      "(71,) (71, 1)\n",
      "(71,) (71, 1)\n",
      "(71,) (71, 1)\n",
      "(70,) (70, 1)\n",
      "k=1,accuracy: 0.3380281690140845\n",
      "k=1,accuracy: 0.23943661971830985\n",
      "k=1,accuracy: 0.36619718309859156\n",
      "k=1,accuracy: 0.3380281690140845\n",
      "k=1,accuracy: 0.4714285714285714\n",
      "k=2,accuracy: 0.3380281690140845\n",
      "k=2,accuracy: 0.23943661971830985\n",
      "k=2,accuracy: 0.36619718309859156\n",
      "k=2,accuracy: 0.3380281690140845\n",
      "k=2,accuracy: 0.4714285714285714\n",
      "k=4,accuracy: 0.49295774647887325\n",
      "k=4,accuracy: 0.23943661971830985\n",
      "k=4,accuracy: 0.4084507042253521\n",
      "k=4,accuracy: 0.352112676056338\n",
      "k=4,accuracy: 0.4142857142857143\n",
      "k=8,accuracy: 0.7746478873239436\n",
      "k=8,accuracy: 0.28169014084507044\n",
      "k=8,accuracy: 0.4225352112676056\n",
      "k=8,accuracy: 0.36619718309859156\n",
      "k=8,accuracy: 0.5428571428571428\n",
      "k=10,accuracy: 0.9014084507042254\n",
      "k=10,accuracy: 0.30985915492957744\n",
      "k=10,accuracy: 0.4647887323943662\n",
      "k=10,accuracy: 0.352112676056338\n",
      "k=10,accuracy: 0.6428571428571429\n",
      "k=12,accuracy: 0.8873239436619719\n",
      "k=12,accuracy: 0.352112676056338\n",
      "k=12,accuracy: 0.5211267605633803\n",
      "k=12,accuracy: 0.352112676056338\n",
      "k=12,accuracy: 0.6\n"
     ]
    },
    {
     "data": {
      "text/plain": [
       "12"
      ]
     },
     "execution_count": 44,
     "metadata": {},
     "output_type": "execute_result"
    }
   ],
   "source": [
    "def get_best_k(x_train,y_train):\n",
    "    num_folds=5 \n",
    "    x_train_fold,y_train_fold=np.array_split(x_train,num_folds),np.array_split(y_train,num_folds)\n",
    "    ks=[1,2,4,8,10,12]\n",
    "    acc={}\n",
    "    for k in ks:\n",
    "        for fold in range(num_folds):\n",
    "            x_test,y_test=x_train_fold[fold],y_train_fold[fold]\n",
    "            x_train,y_train=np.concatenate(x_train_fold[:fold]+x_train_fold[fold+1:]),np.concatenate(y_train_fold[:fold]+y_train_fold[fold+1:])\n",
    "            dist=compute_distance(x_test,x_train)\n",
    "            y_pred=predict_labels(dist,y_train,k)\n",
    "            acc[k]=acc.get(k,[])+[accuracy(y_test,y_pred)]\n",
    "    for k in acc:\n",
    "        for a in acc[k]:\n",
    "            print(f\"k={k},accuracy: {a}\")\n",
    "    acc_mean=np.array([np.mean(v) for v in acc.values()])\n",
    "    best_k=ks[np.argmax(acc_mean)]\n",
    "    return best_k\n",
    "best_k=get_best_k(x_train,y_train)\n",
    "best_k"
   ]
  },
  {
   "cell_type": "code",
   "execution_count": 57,
   "metadata": {
    "ExecuteTime": {
     "end_time": "2020-05-15T04:59:42.345504Z",
     "start_time": "2020-05-15T04:59:42.229484Z"
    }
   },
   "outputs": [
    {
     "name": "stdout",
     "output_type": "stream",
     "text": [
      "(71, 1) (71, 1)\n",
      "(71, 1) (71, 1)\n",
      "(71, 1) (71, 1)\n",
      "(71, 1) (71, 1)\n",
      "(70, 1) (70, 1)\n",
      "(71, 1) (71, 1)\n",
      "(71, 1) (71, 1)\n",
      "(71, 1) (71, 1)\n",
      "(71, 1) (71, 1)\n",
      "(70, 1) (70, 1)\n",
      "(71, 1) (71, 1)\n",
      "(71, 1) (71, 1)\n",
      "(71, 1) (71, 1)\n",
      "(71, 1) (71, 1)\n",
      "(70, 1) (70, 1)\n",
      "(71, 1) (71, 1)\n",
      "(71, 1) (71, 1)\n",
      "(71, 1) (71, 1)\n",
      "(71, 1) (71, 1)\n",
      "(70, 1) (70, 1)\n",
      "(71, 1) (71, 1)\n",
      "(71, 1) (71, 1)\n",
      "(71, 1) (71, 1)\n",
      "(71, 1) (71, 1)\n",
      "(70, 1) (70, 1)\n",
      "(71, 1) (71, 1)\n",
      "(71, 1) (71, 1)\n",
      "(71, 1) (71, 1)\n",
      "(71, 1) (71, 1)\n",
      "(70, 1) (70, 1)\n",
      "k=1,accuracy: 0.0\n",
      "k=1,accuracy: 0.014084507042253521\n",
      "k=1,accuracy: 0.0\n",
      "k=1,accuracy: 0.04225352112676056\n",
      "k=1,accuracy: 0.02857142857142857\n",
      "k=2,accuracy: 0.0\n",
      "k=2,accuracy: 0.014084507042253521\n",
      "k=2,accuracy: 0.0\n",
      "k=2,accuracy: 0.04225352112676056\n",
      "k=2,accuracy: 0.02857142857142857\n",
      "k=4,accuracy: 0.014084507042253521\n",
      "k=4,accuracy: 0.014084507042253521\n",
      "k=4,accuracy: 0.0\n",
      "k=4,accuracy: 0.04225352112676056\n",
      "k=4,accuracy: 0.014285714285714285\n",
      "k=8,accuracy: 0.014084507042253521\n",
      "k=8,accuracy: 0.014084507042253521\n",
      "k=8,accuracy: 0.0\n",
      "k=8,accuracy: 0.04225352112676056\n",
      "k=8,accuracy: 0.02857142857142857\n",
      "k=10,accuracy: 0.014084507042253521\n",
      "k=10,accuracy: 0.014084507042253521\n",
      "k=10,accuracy: 0.014084507042253521\n",
      "k=10,accuracy: 0.04225352112676056\n",
      "k=10,accuracy: 0.02857142857142857\n",
      "k=12,accuracy: 0.014084507042253521\n",
      "k=12,accuracy: 0.014084507042253521\n",
      "k=12,accuracy: 0.014084507042253521\n",
      "k=12,accuracy: 0.04225352112676056\n",
      "k=12,accuracy: 0.02857142857142857\n",
      "最佳k值为 10\n",
      "(152, 1) (152, 1)\n"
     ]
    },
    {
     "data": {
      "text/plain": [
       "0.03289473684210526"
      ]
     },
     "execution_count": 57,
     "metadata": {},
     "output_type": "execute_result"
    }
   ],
   "source": [
    "import numpy as np\n",
    "from sklearn.utils import shuffle\n",
    "from sklearn.datasets import load_boston\n",
    "from collections import Counter\n",
    "\n",
    "\n",
    "def accuracy(y_test, y_pred):\n",
    "    print(y_test.shape, y_pred.shape)\n",
    "    return (y_test == y_pred).sum()/len(y_test)\n",
    "\n",
    "\n",
    "class KNearestNeighbor():\n",
    "    def __init__(self): ...\n",
    "\n",
    "#     加载boston数据集\n",
    "    def create_datasets(self, type=\"boston\"):\n",
    "        assert type == \"boston\", \"仅支持boston\"\n",
    "        boston = load_boston()\n",
    "        x, y = shuffle(boston.data, boston.target, random_state=12)\n",
    "        x.astype(np.float32)\n",
    "        y=y.reshape((-1, 1))\n",
    "        rate = .7\n",
    "        offset = int(x.shape[0]*rate)\n",
    "        x_train, y_train = x[:offset], y[:offset]\n",
    "        x_test, y_test = x[offset:], y[offset:]\n",
    "        return x_train, y_train.reshape((-1,1)), x_test, y_test.reshape((-1,1))\n",
    "#      5折交叉验证 寻找最佳k\n",
    "    def cross_validation(self, x_train, y_train):\n",
    "        num_folds = 5\n",
    "        x_train_fold, y_train_fold = np.array_split(\n",
    "            x_train, num_folds), np.array_split(y_train, num_folds)\n",
    "        ks = [1, 2, 4, 8, 10, 12]\n",
    "        acc = {}\n",
    "        for k in ks:\n",
    "            for fold in range(num_folds):\n",
    "                x_test, y_test = x_train_fold[fold], y_train_fold[fold]\n",
    "                x_train, y_train = np.concatenate(\n",
    "                    x_train_fold[:fold]+x_train_fold[fold+1:]), np.concatenate(y_train_fold[:fold]+y_train_fold[fold+1:])\n",
    "                dist = compute_distance(x_test, x_train)\n",
    "                y_pred = self.predict_labels(dist, y_train, k)\n",
    "                acc[k] = acc.get(k, [])+[accuracy(y_test, y_pred)]\n",
    "        for k in acc:\n",
    "            for a in acc[k]:\n",
    "                print(f\"k={k},accuracy: {a}\")\n",
    "        acc_mean = np.array([np.mean(v) for v in acc.values()])\n",
    "        best_k = ks[np.argmax(acc_mean)]\n",
    "        print(f\"最佳k值为 {best_k}\")\n",
    "        return best_k\n",
    "#     计算测试集与训练集的距离\n",
    "    def compute_distance(self, x_test, x_train):\n",
    "        dist = np.dot(x_test, x_train.T)\n",
    "        te, tr = np.square(x_test).sum(axis=1), np.square(x_train).sum(axis=1)\n",
    "        dist = np.sqrt(-2*dist+tr+np.matrix(te).T)\n",
    "        return dist\n",
    "\n",
    "    def predict_labels(self, dist, y_train, k=1):\n",
    "        num_test = dist.shape[0]\n",
    "        y_pred = np.zeros(num_test)\n",
    "        for i in range(num_test):\n",
    "            y = y_train[np.argsort(dist[i])].flatten()[0:k]\n",
    "            y = Counter(y)\n",
    "            y_pred[i] = y.most_common(1)[0][0]\n",
    "        return y_pred.reshape((-1, 1))\n",
    "\n",
    "\n",
    "knn_classifier = KNearestNeighbor()\n",
    "x_train, y_train, x_test, y_test = knn_classifier.create_datasets(\n",
    "    type=\"boston\")\n",
    "best_k = knn_classifier.cross_validation(x_train, y_train)\n",
    "dist = knn_classifier.compute_distance(x_test, x_train)\n",
    "y_pred = knn_classifier.predict_labels(dist, y_train, best_k)\n",
    "accuracy(y_test, y_pred)"
   ]
  }
 ],
 "metadata": {
  "kernelspec": {
   "display_name": "Python 3.7.5 64-bit",
   "language": "python",
   "name": "python37564bita5f53f9b60c0490aa934da503dc99db2"
  },
  "language_info": {
   "codemirror_mode": {
    "name": "ipython",
    "version": 3
   },
   "file_extension": ".py",
   "mimetype": "text/x-python",
   "name": "python",
   "nbconvert_exporter": "python",
   "pygments_lexer": "ipython3",
   "version": "3.7.5"
  },
  "toc": {
   "base_numbering": 1,
   "nav_menu": {},
   "number_sections": true,
   "sideBar": true,
   "skip_h1_title": false,
   "title_cell": "Table of Contents",
   "title_sidebar": "Contents",
   "toc_cell": false,
   "toc_position": {},
   "toc_section_display": true,
   "toc_window_display": false
  }
 },
 "nbformat": 4,
 "nbformat_minor": 4
}
