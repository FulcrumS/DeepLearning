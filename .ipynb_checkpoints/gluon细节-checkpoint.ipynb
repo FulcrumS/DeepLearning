{
 "cells": [
  {
   "cell_type": "markdown",
   "metadata": {
    "ExecuteTime": {
     "end_time": "2020-05-13T08:57:12.049299Z",
     "start_time": "2020-05-13T08:57:12.044297Z"
    }
   },
   "source": [
    "##### 1. nn.Block.name_scope(): 为每一个层或参数添加在系统中独一无二的name(prefix+\"dense\")\n",
    "####  对forward()自动生成backward()"
   ]
  },
  {
   "cell_type": "code",
   "execution_count": 13,
   "metadata": {
    "ExecuteTime": {
     "end_time": "2020-05-13T08:53:31.866561Z",
     "start_time": "2020-05-13T08:53:31.841567Z"
    },
    "collapsed": true
   },
   "outputs": [
    {
     "name": "stdout",
     "output_type": "stream",
     "text": [
      "X.shape: \n",
      "before:(5, 4, 2, 5)\n",
      "After dense0:(5, 256)\n",
      "After dense1: (5, 10)\n"
     ]
    },
    {
     "data": {
      "text/plain": [
       "(\n",
       " [[-2.14110687e-03  2.28718407e-02  6.09377259e-03  1.51697621e-01\n",
       "    5.92032894e-02 -1.49760572e-02  2.26786025e-02  3.44743654e-02\n",
       "    2.37464607e-02  5.61727211e-06]\n",
       "  [ 1.05205372e-01  1.76138617e-03 -1.48649393e-02  1.22864991e-01\n",
       "    1.21661097e-01 -9.11970064e-03 -7.30419159e-02  4.34562787e-02\n",
       "    4.16276120e-02 -1.04546621e-02]\n",
       "  [ 1.01253390e-02  3.01489606e-04 -1.03351176e-01  8.94797593e-02\n",
       "    1.04628779e-01 -2.52117775e-02 -5.90124764e-02  8.95991251e-02\n",
       "    7.47925639e-02  9.53858197e-02]\n",
       "  [ 5.93731180e-04 -2.47278903e-02 -8.53714794e-02  6.71128333e-02\n",
       "    6.71223253e-02 -7.58369267e-03 -3.51114161e-02  3.32487002e-02\n",
       "    4.99505810e-02  4.75027002e-02]\n",
       "  [ 6.19910359e-02 -2.24144012e-02 -1.23498286e-03  1.10419691e-01\n",
       "    1.18535534e-01 -2.28624279e-03 -4.08140905e-02  4.27351110e-02\n",
       "    7.20098615e-02  8.49875063e-03]]\n",
       " <NDArray 5x10 @cpu(0)>,\n",
       " 'init_demo_dense0')"
      ]
     },
     "execution_count": 13,
     "metadata": {},
     "output_type": "execute_result"
    }
   ],
   "source": [
    "from mxnet.gluon import nn\n",
    "class net(nn.Block):\n",
    "    def __init__(self,**kw):\n",
    "        super(net,self).__init__(**kw)\n",
    "        with self.name_scope():\n",
    "            self.dense0=nn.Dense(256)\n",
    "            self.dense1=nn.Dense(10)\n",
    "    def forward(self,x):\n",
    "        print(\"X.shape: \")\n",
    "        print(f\"before:{x.shape}\")\n",
    "        x=self.dense0(x);\n",
    "        x=nd.relu(x)\n",
    "        print(f\"After dense0:{x.shape}\")\n",
    "        x=self.dense1(x)\n",
    "        print(f\"After dense1: {x.shape}\")\n",
    "        return x\n",
    "myNet=net(prefix=\"init_demo_\")\n",
    "from mxnet import nd \n",
    "x=nd.uniform(shape=(5,4,2,5))\n",
    "myNet.initialize()\n",
    "y=myNet(x)\n",
    "y,myNet.dense0.name"
   ]
  },
  {
   "cell_type": "code",
   "execution_count": 45,
   "metadata": {
    "ExecuteTime": {
     "end_time": "2020-05-13T11:54:22.338091Z",
     "start_time": "2020-05-13T11:54:22.315087Z"
    },
    "collapsed": true
   },
   "outputs": [
    {
     "name": "stdout",
     "output_type": "stream",
     "text": [
      "shape1: (4, 100)\n",
      "shape2: (4, 20)\n",
      "shape3:(4, 100)\n"
     ]
    },
    {
     "data": {
      "text/plain": [
       "\n",
       "[[0.         0.         0.         0.21859226 0.10575362 0.17981319\n",
       "  0.         0.00725563 0.12327701 0.09346017 0.         0.\n",
       "  0.0062102  0.05634531 0.33559445 0.         0.         0.27527422\n",
       "  0.2291663  0.22159767 0.         0.00395137 0.14546046 0.\n",
       "  0.         0.06210559 0.12201921 0.00613354 0.         0.\n",
       "  0.         0.05585041 0.         0.         0.         0.\n",
       "  0.18044646 0.2047362  0.14847979 0.         0.         0.10887899\n",
       "  0.         0.3858311  0.         0.         0.         0.\n",
       "  0.11208069 0.         0.21443048 0.07057936 0.00306849 0.\n",
       "  0.01671399 0.08103611 0.02647583 0.         0.         0.\n",
       "  0.         0.         0.         0.07205032 0.12538457 0.\n",
       "  0.10441942 0.18013555 0.05965247 0.         0.10724674 0.13339515\n",
       "  0.         0.28343803 0.3056381  0.05013    0.20581847 0.\n",
       "  0.         0.1685188  0.04769735 0.0307972  0.10368796 0.\n",
       "  0.10898179 0.07447275 0.         0.         0.14259264 0.09736312\n",
       "  0.04114965 0.2670383  0.         0.         0.         0.\n",
       "  0.11846566 0.         0.         0.05840272]\n",
       " [0.         0.         0.         0.15694043 0.15782806 0.16624497\n",
       "  0.01554727 0.         0.18856356 0.02304942 0.         0.\n",
       "  0.         0.         0.22261363 0.         0.         0.32448325\n",
       "  0.235993   0.16646878 0.         0.         0.13778058 0.\n",
       "  0.         0.03465348 0.07228628 0.04336469 0.02325543 0.\n",
       "  0.00532898 0.11106709 0.         0.         0.         0.01707579\n",
       "  0.21531832 0.27148026 0.13302729 0.         0.         0.08151864\n",
       "  0.         0.43307883 0.         0.         0.         0.\n",
       "  0.1267635  0.         0.1949258  0.12531106 0.014624   0.\n",
       "  0.06615058 0.06896556 0.         0.         0.         0.\n",
       "  0.         0.         0.         0.06516675 0.105331   0.0544394\n",
       "  0.         0.18666384 0.07451801 0.01739296 0.01579168 0.13392755\n",
       "  0.09448152 0.28131133 0.33581346 0.05091485 0.18922144 0.\n",
       "  0.         0.09695431 0.02159516 0.05401375 0.06708287 0.\n",
       "  0.06860333 0.03652789 0.         0.         0.15413968 0.0790921\n",
       "  0.09211607 0.3397349  0.         0.04274699 0.         0.\n",
       "  0.15402266 0.         0.         0.06245436]\n",
       " [0.         0.         0.         0.2424075  0.2945805  0.2274847\n",
       "  0.00123365 0.         0.3162176  0.11189887 0.         0.\n",
       "  0.02299795 0.0243001  0.43759412 0.         0.         0.5064374\n",
       "  0.38776767 0.290403   0.         0.         0.1941502  0.\n",
       "  0.         0.01172591 0.15417676 0.03853332 0.01225861 0.\n",
       "  0.         0.18356568 0.         0.         0.         0.\n",
       "  0.29234356 0.42908362 0.2498114  0.         0.         0.13660392\n",
       "  0.         0.6607205  0.         0.         0.         0.\n",
       "  0.20041259 0.         0.2987736  0.14232503 0.         0.\n",
       "  0.16543204 0.15226303 0.         0.         0.         0.\n",
       "  0.         0.         0.         0.12458523 0.22124694 0.00219954\n",
       "  0.         0.36050838 0.10795251 0.01246719 0.03329054 0.21112232\n",
       "  0.03591297 0.40711555 0.55603856 0.12194356 0.32762122 0.\n",
       "  0.         0.23762864 0.02722736 0.         0.18309256 0.\n",
       "  0.23156145 0.06159414 0.         0.         0.19939125 0.16895473\n",
       "  0.11235856 0.43399644 0.         0.00716761 0.         0.\n",
       "  0.26498732 0.         0.         0.11969956]\n",
       " [0.         0.         0.         0.5542577  0.4024339  0.28635207\n",
       "  0.         0.         0.36050862 0.18922645 0.         0.\n",
       "  0.08037788 0.15036482 0.64490306 0.         0.         0.6886023\n",
       "  0.35637367 0.46074444 0.         0.         0.15708344 0.\n",
       "  0.         0.02869198 0.25652784 0.03477333 0.         0.\n",
       "  0.         0.3805872  0.         0.00836945 0.         0.0487298\n",
       "  0.32621127 0.50117356 0.25889012 0.         0.         0.04070799\n",
       "  0.         0.900156   0.         0.         0.         0.\n",
       "  0.182545   0.         0.43569472 0.30315423 0.         0.\n",
       "  0.24572802 0.19993684 0.         0.         0.         0.\n",
       "  0.         0.         0.         0.06850728 0.26733226 0.\n",
       "  0.         0.5273111  0.10660057 0.04683211 0.05460361 0.21774748\n",
       "  0.03300222 0.58344483 0.78047025 0.15596813 0.42288536 0.\n",
       "  0.         0.3483927  0.09493372 0.         0.26961103 0.\n",
       "  0.38273317 0.11460318 0.         0.02013774 0.21726584 0.2529662\n",
       "  0.15006733 0.66328585 0.         0.         0.         0.\n",
       "  0.2803713  0.         0.         0.122632  ]]\n",
       "<NDArray 4x100 @cpu(0)>"
      ]
     },
     "execution_count": 45,
     "metadata": {},
     "output_type": "execute_result"
    }
   ],
   "source": [
    "class FancyMLP(nn.Block):\n",
    "    def __init__(self,**kwargs):\n",
    "        super(FancyMLP,self).__init__(**kwargs)\n",
    "        with self.name_scope():\n",
    "            self.dense=nn.Dense(100)\n",
    "            self.weight=nd.uniform(shape=(100,20))\n",
    "    def forward(self,x):\n",
    "        x=self.dense(x)\n",
    "        print(f\"shape1: {x.shape}\")\n",
    "        x=nd.relu(nd.dot(x,self.weight)*2)\n",
    "        print(f\"shape2: {x.shape}\")\n",
    "        x=nd.relu(self.dense(x))\n",
    "        print(f\"shape3:{x.shape}\")\n",
    "        return x \n",
    "net=FancyMLP()\n",
    "net.initialize()\n",
    "x=nd.uniform(shape=(4,20))\n",
    "net(x)"
   ]
  },
  {
   "cell_type": "code",
   "execution_count": 44,
   "metadata": {
    "ExecuteTime": {
     "end_time": "2020-05-13T11:45:49.980287Z",
     "start_time": "2020-05-13T11:45:49.966285Z"
    },
    "collapsed": true
   },
   "outputs": [
    {
     "data": {
      "text/plain": [
       "(\n",
       " [[[0.3350294  0.29574186 0.36922875]\n",
       "   [0.2936163  0.3914775  0.31490627]]\n",
       " \n",
       "  [[0.1995651  0.463817   0.33661792]\n",
       "   [0.31929055 0.32365286 0.3570566 ]]\n",
       " \n",
       "  [[0.24231501 0.48682365 0.27086145]\n",
       "   [0.34315932 0.43923748 0.21760325]]]\n",
       " <NDArray 3x2x3 @cpu(0)>,\n",
       " \n",
       " [[0. 1. 0.]\n",
       "  [1. 0. 1.]\n",
       "  [1. 0. 0.]]\n",
       " <NDArray 3x3 @cpu(0)>)"
      ]
     },
     "execution_count": 44,
     "metadata": {},
     "output_type": "execute_result"
    }
   ],
   "source": [
    "x1=nd.random.uniform(shape=(3,3),dtype='float32')\n",
    "x2=nd.random_uniform(shape=(3,3),dtype='float32')\n",
    "x=nd.stack(x1,x2,axis=1)\n",
    "k=nd.softmax(x)\n",
    "k,k.argmax(axis=1)"
   ]
  },
  {
   "cell_type": "markdown",
   "metadata": {},
   "source": [
    "# 嵌套Block"
   ]
  },
  {
   "cell_type": "code",
   "execution_count": 52,
   "metadata": {
    "ExecuteTime": {
     "end_time": "2020-05-13T12:04:30.449960Z",
     "start_time": "2020-05-13T12:04:30.430945Z"
    },
    "collapsed": true
   },
   "outputs": [
    {
     "data": {
      "text/plain": [
       "Sequential(\n",
       "  (0): RecMLP(\n",
       "    (net): Sequential(\n",
       "      (0): Dense(None -> 128, Activation(relu))\n",
       "      (1): Dense(None -> 20, Activation(relu))\n",
       "    )\n",
       "    (dense1): Dense(None -> 10, linear)\n",
       "  )\n",
       "  (1): Dense(None -> 10, linear)\n",
       ")"
      ]
     },
     "execution_count": 52,
     "metadata": {},
     "output_type": "execute_result"
    }
   ],
   "source": [
    "class RecMLP(nn.Block):\n",
    "    def __init__(self,**kwargs):\n",
    "        super(RecMLP,self).__init__(**kwargs)\n",
    "        self.net=nn.Sequential()\n",
    "        with self.name_scope():\n",
    "            self.net.add(nn.Dense(128,activation='relu'),\n",
    "                        nn.Dense(20,activation='relu'))\n",
    "            self.dense1=nn.Dense(10)\n",
    "    def forward(self,x):\n",
    "        return nd.relu(self.dense1(self.net(x)))\n",
    "myNet=RecMLP(prefix=\"RecMLP_\")\n",
    "net=nn.Sequential()\n",
    "net.add(myNet,\n",
    "       nn.Dense(10))\n",
    "net.initialize()\n",
    "net"
   ]
  },
  {
   "cell_type": "markdown",
   "metadata": {},
   "source": [
    "### initialize()"
   ]
  },
  {
   "cell_type": "code",
   "execution_count": 67,
   "metadata": {
    "ExecuteTime": {
     "end_time": "2020-05-13T12:24:44.812100Z",
     "start_time": "2020-05-13T12:24:44.791097Z"
    },
    "collapsed": true
   },
   "outputs": [
    {
     "data": {
      "text/plain": [
       "('dense50',\n",
       " Parameter dense50_weight (shape=(4, 5), dtype=float32),\n",
       " Parameter dense50_bias (shape=(4,), dtype=float32),\n",
       " \n",
       " [[0. 0. 0. 0. 0.]\n",
       "  [0. 0. 0. 0. 0.]\n",
       "  [0. 0. 0. 0. 0.]\n",
       "  [0. 0. 0. 0. 0.]]\n",
       " <NDArray 4x5 @cpu(0)>,\n",
       " (3, 2))"
      ]
     },
     "execution_count": 67,
     "metadata": {},
     "output_type": "execute_result"
    }
   ],
   "source": [
    "net=nn.Sequential()\n",
    "net.add(nn.Dense(4),nn.Dense(2))\n",
    "x=nd.random_normal(shape=(3,5))\n",
    "net.initialize()\n",
    "k=net(x)\n",
    "layer1=net[0]\n",
    "layer1.name,layer1.weight,layer1.bias,layer1.weight.grad(),k.shape"
   ]
  },
  {
   "cell_type": "markdown",
   "metadata": {},
   "source": [
    "### collect_params()"
   ]
  },
  {
   "cell_type": "code",
   "execution_count": 70,
   "metadata": {
    "ExecuteTime": {
     "end_time": "2020-05-13T12:31:56.291782Z",
     "start_time": "2020-05-13T12:31:56.285623Z"
    },
    "collapsed": true
   },
   "outputs": [
    {
     "data": {
      "text/plain": [
       "(sequential27_ (\n",
       "   Parameter dense50_weight (shape=(4, 5), dtype=float32)\n",
       "   Parameter dense50_bias (shape=(4,), dtype=float32)\n",
       "   Parameter dense51_weight (shape=(2, 4), dtype=float32)\n",
       "   Parameter dense51_bias (shape=(2,), dtype=float32)\n",
       " ),\n",
       " \n",
       " [[ 0.03127343 -0.02616616  0.00643234  0.01072331 -0.03363969]\n",
       "  [-0.01028001 -0.05632561  0.05267667 -0.00212333 -0.03445166]\n",
       "  [-0.04975298 -0.05896767  0.03664824  0.0348118   0.05943825]\n",
       "  [-0.01219448  0.04484499  0.01247377 -0.02373575 -0.0663055 ]]\n",
       " <NDArray 4x5 @cpu(0)>)"
      ]
     },
     "execution_count": 70,
     "metadata": {},
     "output_type": "execute_result"
    }
   ],
   "source": [
    "params=net.collect_params()\n",
    "params,params['dense50_weight'].data()"
   ]
  },
  {
   "cell_type": "markdown",
   "metadata": {},
   "source": [
    "### 使用不同的初始化函数"
   ]
  },
  {
   "cell_type": "code",
   "execution_count": 74,
   "metadata": {
    "ExecuteTime": {
     "end_time": "2020-05-13T12:40:22.156983Z",
     "start_time": "2020-05-13T12:40:22.140981Z"
    },
    "collapsed": true
   },
   "outputs": [
    {
     "data": {
      "text/plain": [
       "('dense50',\n",
       " Parameter dense50_weight (shape=(4, 5), dtype=float32),\n",
       " \n",
       " [[1. 1. 1. 1. 1.]\n",
       "  [1. 1. 1. 1. 1.]\n",
       "  [1. 1. 1. 1. 1.]\n",
       "  [1. 1. 1. 1. 1.]]\n",
       " <NDArray 4x5 @cpu(0)>)"
      ]
     },
     "execution_count": 74,
     "metadata": {},
     "output_type": "execute_result"
    }
   ],
   "source": [
    "from mxnet import init\n",
    "# 参数来自于 均值为0，方差为0.02的正态分布\n",
    "params.initialize(init=init.Normal(sigma=0.02),force_reinit=True)\n",
    "params.initialize(init=init.One(),force_reinit=True)\n",
    "layer1=net[0]\n",
    "layer1.name,layer1.weight,layer1.weight.data()"
   ]
  },
  {
   "cell_type": "code",
   "execution_count": 81,
   "metadata": {
    "ExecuteTime": {
     "end_time": "2020-05-13T13:19:14.766540Z",
     "start_time": "2020-05-13T13:19:14.750045Z"
    }
   },
   "outputs": [
    {
     "name": "stdout",
     "output_type": "stream",
     "text": [
      "init weight:  (4, 5)\n",
      "init weight:  (2, 4)\n"
     ]
    },
    {
     "data": {
      "text/plain": [
       "(dense50_ (\n",
       "   Parameter dense50_weight (shape=(4, 5), dtype=float32)\n",
       "   Parameter dense50_bias (shape=(4,), dtype=float32)\n",
       " ),\n",
       " \n",
       " [[2.4952273 8.087198  7.406373  5.030903  1.4739329]\n",
       "  [9.695991  5.5175176 8.137259  9.548164  8.437874 ]\n",
       "  [4.16346   9.585284  7.603066  4.4996557 9.412359 ]\n",
       "  [6.220722  2.0455368 7.2423253 6.4823575 7.061126 ]]\n",
       " <NDArray 4x5 @cpu(0)>,\n",
       " \n",
       " [0. 0. 0. 0.]\n",
       " <NDArray 4 @cpu(0)>)"
      ]
     },
     "execution_count": 81,
     "metadata": {},
     "output_type": "execute_result"
    }
   ],
   "source": [
    "class myInit(init.Initializer):\n",
    "    def __init__(self):\n",
    "        super(myInit, self).__init__()\n",
    "        self._verbose = True\n",
    "    def _init_weight(self,_,arr):\n",
    "        print(\"init weight: \",arr.shape)\n",
    "        nd.random.uniform(low=1,high=10,out=arr)\n",
    "    def _init_bias(self,_,arr):\n",
    "        print(\"init bias: \",arr.shape)\n",
    "        arr[:]=3\n",
    "params.initialize(init=myInit(),force_reinit=True)\n",
    "layer1=net[0]\n",
    "layer1.collect_params(),layer1.weight.data(),layer1.bias.data() "
   ]
  },
  {
   "cell_type": "code",
   "execution_count": 85,
   "metadata": {
    "ExecuteTime": {
     "end_time": "2020-05-13T13:26:48.466086Z",
     "start_time": "2020-05-13T13:26:48.461084Z"
    }
   },
   "outputs": [
    {
     "data": {
      "text/plain": [
       "'d:\\\\software\\\\python37\\\\lib\\\\site-packages\\\\mxnet\\\\gluon\\\\__init__.py'"
      ]
     },
     "execution_count": 85,
     "metadata": {},
     "output_type": "execute_result"
    }
   ],
   "source": [
    "from mxnet import gluon\n",
    "gluon.__file__\n"
   ]
  }
 ],
 "metadata": {
  "kernelspec": {
   "display_name": "Python 3",
   "language": "python",
   "name": "python3"
  },
  "language_info": {
   "codemirror_mode": {
    "name": "ipython",
    "version": 3
   },
   "file_extension": ".py",
   "mimetype": "text/x-python",
   "name": "python",
   "nbconvert_exporter": "python",
   "pygments_lexer": "ipython3",
   "version": "3.7.5"
  },
  "toc": {
   "base_numbering": 1,
   "nav_menu": {},
   "number_sections": true,
   "sideBar": true,
   "skip_h1_title": false,
   "title_cell": "Table of Contents",
   "title_sidebar": "Contents",
   "toc_cell": false,
   "toc_position": {},
   "toc_section_display": true,
   "toc_window_display": false
  }
 },
 "nbformat": 4,
 "nbformat_minor": 4
}
