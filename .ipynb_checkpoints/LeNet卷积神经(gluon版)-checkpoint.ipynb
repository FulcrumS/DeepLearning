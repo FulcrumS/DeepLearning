{
 "cells": [
  {
   "cell_type": "markdown",
   "metadata": {},
   "source": [
    "# 加载Fashion-MNIST作为训练数据集"
   ]
  },
  {
   "cell_type": "code",
   "execution_count": 49,
   "metadata": {
    "ExecuteTime": {
     "end_time": "2020-05-01T10:12:54.091904Z",
     "start_time": "2020-05-01T10:12:53.637782Z"
    }
   },
   "outputs": [
    {
     "name": "stdout",
     "output_type": "stream",
     "text": [
      "(256, 1, 28, 28)\n"
     ]
    }
   ],
   "source": [
    "from mxnet import gluon\n",
    "from mxnet import nd\n",
    "from mxnet import autograd\n",
    "import mxnet as mx\n",
    "from mxnet.gluon import nn \n",
    "import d2l \n",
    "def transform(data, label): return data.astype(\n",
    "    'float32')/255, label.astype('float32')\n",
    "dataset = gluon.data.vision\n",
    "trans = []\n",
    "trans.append(dataset.transforms.ToTensor())\n",
    "trans = dataset.transforms.Compose(trans)\n",
    "\n",
    "# minist_train = gluon.data.vision.FashionMNIST(\n",
    "#     root='fashion-mnist/', train=True, transform=transform)\n",
    "# minist_test = gluon.data.vision.FashionMNIST(\n",
    "#     root='fashion-mnist/', train=False, transform=transform)\n",
    "mnist_train = dataset.FashionMNIST(root='fashion-mnist/',train=True).transform_first(trans)\n",
    "mnist_test = dataset.FashionMNIST(root='fashion-mnist/',train=False).transform_first(trans)\n",
    "batch_size = 256\n",
    "train_iter = gluon.data.DataLoader(mnist_train, batch_size=batch_size, shuffle=True)\n",
    "test_iter = gluon.data.DataLoader(mnist_test, batch_size, shuffle=True)\n",
    "for data, label in train_iter:\n",
    "    print(data.shape)\n",
    "    break\n"
   ]
  },
  {
   "cell_type": "code",
   "execution_count": 50,
   "metadata": {
    "ExecuteTime": {
     "end_time": "2020-05-01T10:12:54.095897Z",
     "start_time": "2020-05-01T10:12:54.091904Z"
    }
   },
   "outputs": [],
   "source": [
    "# ?? gluon.Trainer"
   ]
  },
  {
   "cell_type": "markdown",
   "metadata": {},
   "source": [
    "# 建议使用GPU来加速计算"
   ]
  },
  {
   "cell_type": "code",
   "execution_count": 51,
   "metadata": {
    "ExecuteTime": {
     "end_time": "2020-05-01T10:12:54.109530Z",
     "start_time": "2020-05-01T10:12:54.097523Z"
    }
   },
   "outputs": [
    {
     "data": {
      "text/plain": [
       "cpu(0)"
      ]
     },
     "execution_count": 51,
     "metadata": {},
     "output_type": "execute_result"
    }
   ],
   "source": [
    "def try_gpu():\n",
    "    try:\n",
    "        ctx=mx.gpu()\n",
    "        _=nd.zeros((1),ctx=ctx)\n",
    "    except mx.base.MXNetError:\n",
    "        ctx=mx.cpu()\n",
    "    return ctx\n",
    "ctx=try_gpu()\n",
    "ctx"
   ]
  },
  {
   "cell_type": "markdown",
   "metadata": {},
   "source": [
    "# 通过`Sequential`类来实现LeNet模型"
   ]
  },
  {
   "cell_type": "code",
   "execution_count": 52,
   "metadata": {
    "ExecuteTime": {
     "end_time": "2020-05-01T10:12:54.121533Z",
     "start_time": "2020-05-01T10:12:54.109530Z"
    }
   },
   "outputs": [],
   "source": [
    "from mxnet.gluon import loss as gloss,nn\n",
    "from mxnet import init \n",
    "net=nn.Sequential() \n",
    "net.add(nn.Conv2D(channels=6,kernel_size=5,activation='sigmoid'),\n",
    "       nn.MaxPool2D(pool_size=2,strides=2),\n",
    "       nn.Conv2D(channels=16,kernel_size=5,activation='sigmoid'),\n",
    "       nn.MaxPool2D(pool_size=2,strides=2),\n",
    "       nn.Dense(120,activation='sigmoid'),\n",
    "       nn.Dense(84,activation='sigmoid'),\n",
    "       nn.Dense(10))\n",
    "net.initialize(force_reinit=True,ctx=ctx,init=init.Xavier())\n",
    "trainer=gluon.Trainer(net.collect_params(),'sgd',{'learning_rate':0.1})"
   ]
  },
  {
   "cell_type": "code",
   "execution_count": 53,
   "metadata": {
    "ExecuteTime": {
     "end_time": "2020-05-01T10:12:54.137538Z",
     "start_time": "2020-05-01T10:12:54.121533Z"
    }
   },
   "outputs": [
    {
     "name": "stdout",
     "output_type": "stream",
     "text": [
      "conv6  output shape:   (1, 6, 24, 24)\n",
      "pool6  output shape:   (1, 6, 12, 12)\n",
      "conv7  output shape:   (1, 16, 8, 8)\n",
      "pool7  output shape:   (1, 16, 4, 4)\n",
      "dense9  output shape:   (1, 120)\n",
      "dense10  output shape:   (1, 84)\n",
      "dense11  output shape:   (1, 10)\n"
     ]
    }
   ],
   "source": [
    "from mxnet import nd \n",
    "X=nd.random.uniform(shape=(1,1,28,28))\n",
    "for layer in net:\n",
    "    X=layer(X)\n",
    "    print(layer.name,' output shape:  ',X.shape)"
   ]
  },
  {
   "cell_type": "markdown",
   "metadata": {},
   "source": [
    "# `as_in_context` 函数将数据复制到显存上"
   ]
  },
  {
   "cell_type": "code",
   "execution_count": 54,
   "metadata": {
    "ExecuteTime": {
     "end_time": "2020-05-01T10:12:54.145540Z",
     "start_time": "2020-05-01T10:12:54.137538Z"
    },
    "code_folding": []
   },
   "outputs": [],
   "source": [
    "def evaluate_accuracy(data_iter,net,ctx):\n",
    "    acc_sum,n=nd.array([0],ctx=ctx),0\n",
    "    for X,y in data_iter:\n",
    "        X,y=X.as_in_context(ctx),y.as_in_context(ctx).astype('float32')\n",
    "        acc_sum+=((net(X).argmax(axis=1)==y)).sum()\n",
    "        n+=y.size\n",
    "    return acc_sum.asscalar()/n "
   ]
  },
  {
   "cell_type": "code",
   "execution_count": 55,
   "metadata": {
    "ExecuteTime": {
     "end_time": "2020-05-01T10:12:54.153541Z",
     "start_time": "2020-05-01T10:12:54.145540Z"
    }
   },
   "outputs": [],
   "source": [
    "import time \n",
    "def train(train_iter, test_iter, epoches, trainer, net, batch_size, ctx):\n",
    "    loss=gloss.SoftmaxCrossEntropyLoss()\n",
    "    for e in range(epoches):\n",
    "        train_acc, train_loss, test_acc ,n,start= .0, .0, .0,.0,time.time()\n",
    "        for X, y in train_iter:\n",
    "            X, y = X.as_in_context(ctx), y.as_in_context(ctx)\n",
    "            with autograd.record():\n",
    "                yhat = net(X)\n",
    "                l = loss(yhat, y).sum()\n",
    "            l.backward()\n",
    "            y = y.astype('float32')\n",
    "            trainer.step(batch_size)\n",
    "            train_acc+=(yhat.argmax(axis=1)==y).sum().asscalar() \n",
    "            train_loss=l.asscalar()\n",
    "            n+=y.size\n",
    "        test_acc=evaluate_accuracy(test_iter,net,ctx)\n",
    "        print('epoechs:%d, loss: %.4f, train_acc:%.3f, test_acc:%.3f ,used time: %.1f sec'%(e+1,train_loss/n,train_acc/n,test_acc,time.time()-start))\n",
    "            "
   ]
  },
  {
   "cell_type": "code",
   "execution_count": 56,
   "metadata": {
    "ExecuteTime": {
     "end_time": "2020-05-01T10:14:33.346474Z",
     "start_time": "2020-05-01T10:12:54.153541Z"
    }
   },
   "outputs": [
    {
     "name": "stdout",
     "output_type": "stream",
     "text": [
      "epoechs:1, loss: 0.0037, train_acc:0.102, test_acc:0.100 ,used time: 18.9 sec\n",
      "epoechs:2, loss: 0.0037, train_acc:0.101, test_acc:0.100 ,used time: 20.0 sec\n",
      "epoechs:3, loss: 0.0037, train_acc:0.106, test_acc:0.100 ,used time: 19.9 sec\n",
      "epoechs:4, loss: 0.0037, train_acc:0.108, test_acc:0.100 ,used time: 20.1 sec\n",
      "epoechs:5, loss: 0.0037, train_acc:0.113, test_acc:0.191 ,used time: 20.2 sec\n"
     ]
    }
   ],
   "source": [
    "train(train_iter, test_iter, 5, trainer, net, batch_size, ctx)"
   ]
  },
  {
   "cell_type": "code",
   "execution_count": 58,
   "metadata": {
    "ExecuteTime": {
     "end_time": "2020-05-01T10:22:41.029718Z",
     "start_time": "2020-05-01T10:22:41.025717Z"
    }
   },
   "outputs": [
    {
     "name": "stdout",
     "output_type": "stream",
     "text": [
      "Conv2D(1 -> 6, kernel_size=(5, 5), stride=(1, 1), Activation(sigmoid))\n",
      "MaxPool2D(size=(2, 2), stride=(2, 2), padding=(0, 0), ceil_mode=False, global_pool=False, pool_type=max, layout=NCHW)\n",
      "Conv2D(6 -> 16, kernel_size=(5, 5), stride=(1, 1), Activation(sigmoid))\n",
      "MaxPool2D(size=(2, 2), stride=(2, 2), padding=(0, 0), ceil_mode=False, global_pool=False, pool_type=max, layout=NCHW)\n",
      "Dense(256 -> 120, Activation(sigmoid))\n",
      "Dense(120 -> 84, Activation(sigmoid))\n",
      "Dense(84 -> 10, linear)\n"
     ]
    }
   ],
   "source": [
    "for layer in net:\n",
    "    print(layer.shape)"
   ]
  }
 ],
 "metadata": {
  "kernelspec": {
   "display_name": "Python 3",
   "language": "python",
   "name": "python3"
  },
  "toc": {
   "base_numbering": 1,
   "nav_menu": {},
   "number_sections": true,
   "sideBar": true,
   "skip_h1_title": false,
   "title_cell": "Table of Contents",
   "title_sidebar": "Contents",
   "toc_cell": false,
   "toc_position": {},
   "toc_section_display": true,
   "toc_window_display": false
  }
 },
 "nbformat": 4,
 "nbformat_minor": 2
}
