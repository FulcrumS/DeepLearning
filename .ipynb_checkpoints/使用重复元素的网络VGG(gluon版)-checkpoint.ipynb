{
 "cells": [
  {
   "cell_type": "code",
   "execution_count": null,
   "metadata": {
    "ExecuteTime": {
     "start_time": "2020-05-03T13:27:35.261Z"
    }
   },
   "outputs": [],
   "source": [
    "from mxnet.gluon import nn\n",
    "def vggBlock(num_conv,num_channel):\n",
    "    bl=nn.Sequential()\n",
    "    for _ in range(num_conv):\n",
    "        bl.add(nn.Conv2D(num_channel,kernel_size=3,padding=1,activation='relu'))\n",
    "    bl.add(nn.MaxPool2D(pool_size=2,strides=2))\n",
    "    return bl \n",
    "conv_arch =((1, 64), (1, 128), (2, 256), (2, 512), (2, 512))\n",
    "def vgg(conv_arch):\n",
    "    v=nn.Sequential();\n",
    "    for num_conv,num_channel in conv_arch:\n",
    "        v.add(vggBlock(num_conv,num_channel))\n",
    "    v.add(nn.Dense(4096,activation='relu'),\n",
    "         nn.Dropout(.5),\n",
    "         nn.Dense(4096,activation='relu'),\n",
    "         nn.Dropout(.5),\n",
    "         nn.Dense(10))\n",
    "    return v \n",
    "net=vgg(conv_arch)\n",
    "from mxnet import init\n",
    "net.initialize()\n",
    "from mxnet import nd \n",
    "# X=nd.uniform(shape=(1,1,224,224))\n",
    "# for layer in net:\n",
    "#     X=layer(X)\n",
    "#     print(f\"{layer.name}'s output shape: {X.shape}'\")\n",
    "ratio=4\n",
    "smaller_conv=[(p[0],p[1]//4) for p in conv_arch]\n",
    "net=vgg(smaller_conv)\n",
    "from utils.load_data_fashion_mnist import load_data_fashion_mnist\n",
    "batch_size,root,resize=256,'fashion-mnist/',224\n",
    "train_iter,test_iter=load_data_fashion_mnist(batch_size,root,resize)\n",
    "from utils.try_gpu import try_gpu\n",
    "ctx=try_gpu()\n",
    "net.initialize(ctx=ctx, init=init.Xavier())\n",
    "from utils.evaluate_acc import evaluate_acc\n",
    "from utils.train import train\n",
    "from mxnet.gluon.loss import SoftmaxCrossEntropyLoss\n",
    "epochs,lr,loss=5,.1,SoftmaxCrossEntropyLoss()\n",
    "train(train_iter,test_iter,batch_size,net,epochs,lr,ctx,loss,evaluate_acc)"
   ]
  }
 ],
 "metadata": {
  "kernelspec": {
   "display_name": "Python 3.7.5 64-bit",
   "language": "python",
   "name": "python37564bita5f53f9b60c0490aa934da503dc99db2"
  },
  "language_info": {
   "codemirror_mode": {
    "name": "ipython",
    "version": 3
   },
   "file_extension": ".py",
   "mimetype": "text/x-python",
   "name": "python",
   "nbconvert_exporter": "python",
   "pygments_lexer": "ipython3",
   "version": "3.7.5"
  },
  "toc": {
   "base_numbering": 1,
   "nav_menu": {},
   "number_sections": true,
   "sideBar": true,
   "skip_h1_title": false,
   "title_cell": "Table of Contents",
   "title_sidebar": "Contents",
   "toc_cell": false,
   "toc_position": {},
   "toc_section_display": true,
   "toc_window_display": false
  }
 },
 "nbformat": 4,
 "nbformat_minor": 4
}
