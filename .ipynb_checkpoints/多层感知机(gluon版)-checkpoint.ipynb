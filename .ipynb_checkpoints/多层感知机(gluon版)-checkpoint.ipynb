{
 "cells": [
  {
   "cell_type": "code",
   "execution_count": null,
   "metadata": {},
   "outputs": [],
   "source": [
    "from mxnet import gluon\n",
    "from mxnet import nd\n",
    "from mxnet import autograd\n",
    "def transform(data,label):\n",
    "    return data.astype('float32')/255,label.astype('float32')\n",
    "minist_train=gluon.data.vision.FashionMNIST(root='fashion-mnist/',train=True,transform=transform)\n",
    "minist_test=gluon.data.vision.FashionMNIST(root='fashion-mnist/',train=False,transform=transform)\n",
    "batch_size=256 \n",
    "train_data=gluon.data.DataLoader(minist_train,batch_size=batch_size,shuffle=True)\n",
    "test_data=gluon.data.DataLoader(minist_test,batch_size=batch_size,shuffle=True)"
   ]
  },
  {
   "cell_type": "code",
   "execution_count": null,
   "metadata": {},
   "outputs": [],
   "source": [
    "from mxnet import gluon\n",
    "net=gluon.nn.Sequential()\n",
    "with net.name_scope():\n",
    "    net.add(gluon.nn.Flatten())\n",
    "    net.add(gluon.nn.Dense(256,activation='relu'))\n",
    "    net.add(gluon.nn.Dense(10))\n",
    "net.initialize()\n",
    "softmax_crossEntropy=gluon.loss.SoftmaxCrossEntropyLoss()\n",
    "trainer=gluon.Trainer(net.collect_params(),'sgd',{'learning_rate':.1})"
   ]
  },
  {
   "cell_type": "code",
   "execution_count": null,
   "metadata": {},
   "outputs": [],
   "source": [
    "def accuracy(output,label):\n",
    "    return nd.mean(output.argmax(axis=1)==label).asscalar()\n",
    "def evaluate_accuracy(test_data,net):\n",
    "    acc=0. \n",
    "    for data,label in test_data:\n",
    "        output=net(data)\n",
    "        acc+=accuracy(output,label)\n",
    "    return acc/len(test_data)\n"
   ]
  },
  {
   "cell_type": "code",
   "execution_count": null,
   "metadata": {},
   "outputs": [],
   "source": [
    "from mxnet import autograd\n",
    "epochs = 4\n",
    "for e in range(1, epochs+1):\n",
    "    train_acc, train_loss = 0., 0.\n",
    "    for data, label in train_data:\n",
    "        with autograd.record():\n",
    "            output = net(data)\n",
    "            loss = softmax_crossEntropy(output, label)\n",
    "        loss.backward()\n",
    "        trainer.step(batch_size)\n",
    "        train_acc += accuracy(output, label)\n",
    "        train_loss += nd.mean(loss).asscalar()\n",
    "    test_acc = evaluate_accuracy(test_data, net)\n",
    "    print('epoch %d,loss:%f..,train_accuracy:%f,test_accuracy:%f..' % (e, train_loss/len(train_data), train_acc/len(train_data),\n",
    "                                                                       test_acc/len(test_data)))"
   ]
  },
  {
   "cell_type": "code",
   "execution_count": null,
   "metadata": {},
   "outputs": [],
   "source": [
    "dense=net[1]\n",
    "dense.weight.data(),dense.bias.data()"
   ]
  }
 ],
 "metadata": {
  "kernelspec": {
   "display_name": "Python 3.7.2 64-bit",
   "language": "python",
   "name": "python37264bit976359a467c3400289726740d00d4381"
  },
  "language_info": {
   "codemirror_mode": {
    "name": "ipython",
    "version": 3
   },
   "file_extension": ".py",
   "mimetype": "text/x-python",
   "name": "python",
   "nbconvert_exporter": "python",
   "pygments_lexer": "ipython3",
   "version": "3.7.2"
  }
 },
 "nbformat": 4,
 "nbformat_minor": 2
}
